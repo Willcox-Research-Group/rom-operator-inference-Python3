{
 "cells": [
  {
   "cell_type": "markdown",
   "metadata": {
    "toc-hr-collapsed": false
   },
   "source": [
    "# One-dimensional Heat Equation"
   ]
  },
  {
   "cell_type": "code",
   "execution_count": null,
   "metadata": {},
   "outputs": [],
   "source": [
    "import numpy as np\n",
    "import scipy.linalg as la\n",
    "import scipy.sparse as sparse\n",
    "import matplotlib.pyplot as plt\n",
    "\n",
    "import rom_operator_inference as opinf"
   ]
  },
  {
   "cell_type": "code",
   "execution_count": null,
   "metadata": {
    "tags": [
     "hide-cell"
    ]
   },
   "outputs": [],
   "source": [
    "# Matplotlib customizations.\n",
    "plt.rc(\"figure\", dpi=300, figsize=(9,3))\n",
    "plt.rc(\"font\", family=\"serif\")\n",
    "np.random.seed(10)"
   ]
  },
  {
   "cell_type": "markdown",
   "metadata": {
    "toc-hr-collapsed": false
   },
   "source": [
    "This example is based on the Operator Inference problem for the 1D heat equation described in {cite}`PW2016OperatorInference`."
   ]
  },
  {
   "cell_type": "markdown",
   "metadata": {
    "toc-nb-collapsed": true
   },
   "source": [
    "## Problem Statement"
   ]
  },
  {
   "cell_type": "markdown",
   "metadata": {},
   "source": [
    "Let $\\Omega = [0,L]\\subset \\mathbb{R}$ be the spatial domain indicated by the variable $x$, and let $[0,T]\\subset\\mathbb{R}$ be the time domain with variable $t$.\n",
    "We consider the one-dimensional heat equation with non-homogeneous Dirichlet boundary conditions,\n",
    "\n",
    "\\begin{align*}\n",
    "    \\frac{\\partial}{\\partial t} q(x,t) - \\frac{\\partial^2}{\\partial x^2}q(x,t) &= 0\n",
    "    & x &\\in\\Omega,\\quad t\\in[0,T],\n",
    "    \\\\\n",
    "    q(0,t) = q(L,t) &= u(t)\n",
    "    & t &\\in[0,T],\n",
    "    \\\\\n",
    "    q(x,0) = \\big(e^{\\alpha(x - 1)} + e^{-\\alpha x} &- e^{-\\alpha}\\big)u(0)\n",
    "    & x &\\in \\Omega.\n",
    "\\end{align*}"
   ]
  },
  {
   "cell_type": "markdown",
   "metadata": {},
   "source": [
    "Let $\\{x_i\\}_{i=0}^{n+1}$ be an equidistant grid of $n+2$ points on $\\Omega$, i.e.,\n",
    "\n",
    "\\begin{align*}\n",
    "    0 &= x_0 < x_1 < \\cdots < x_n < x_{n+1} = L\n",
    "    &\n",
    "    &\\text{and}\n",
    "    &\n",
    "    \\delta x &= \\frac{L}{n+1} = x_{i+1} - x_{i},\\quad i=1,\\ldots,n-1.\n",
    "\\end{align*}\n",
    "\n",
    "Since the boundary conditions prescribe $q(x_0,t) = q(x_{n+1},t) = 1$, we wish to compute the state vector $\\mathbf{q}(t) = \\begin{bmatrix} q(x_1,t) & \\cdots & q(x_n,t)\\end{bmatrix}^{\\top}\\in\\mathbb{R}^n$ for various $t\\in[0,T]$."
   ]
  },
  {
   "cell_type": "markdown",
   "metadata": {},
   "source": [
    "Introducing the finite difference approximation\n",
    "\n",
    "\\begin{align*}\n",
    "    \\frac{\\partial^2}{\\partial x^2}q(x,t) &\\approx \\frac{q(x-\\delta x,t) - 2q(x,t) + q(x+\\delta x,t)}{(\\delta x)^2}\n",
    "    % &\n",
    "    % \\Longrightarrow&\n",
    "    % &\n",
    "    % \\frac{\\partial^2}{\\partial x^2}q(x_i,t) &\\approx \\frac{q(x_{i-1},t) - 2q(x_{i},t) + q(x_{i+1},t)}{(\\delta x)^2}\n",
    "    % \\\\\n",
    "    &\n",
    "    &\\Longrightarrow\n",
    "    &\n",
    "    \\frac{\\partial^2}{\\partial x^2}q_{i} &\\approx \\frac{q_{i-1} - 2q_{i} + q_{i+1}}{(\\delta x)^2},\n",
    "\\end{align*}\n",
    "\n",
    "we obtain the semi-discrete linear system\n",
    "\n",
    "$$\n",
    "\\frac{\\text{d}}{\\text{d}t}\\mathbf{q}(t) = \\mathbf{A}\\mathbf{q}(t) + \\mathbf{B}u(t),\n",
    "$$\n",
    "\n",
    "where\n",
    "\n",
    "\\begin{align*}\n",
    "    \\mathbf{A} &= \\frac{1}{(\\delta x)^2}\\left[\\begin{array}{ccccc}\n",
    "        -2 & 1 & & & \\\\\n",
    "        1 & -2 & 1 & & \\\\\n",
    "        & \\ddots & \\ddots & \\ddots & \\\\\n",
    "        & & 1 & -2 & 1 \\\\\n",
    "        & & & 1 & -2 \\\\\n",
    "    \\end{array}\\right] \\in\\mathbb{R}^{n\\times n},\n",
    "    &\n",
    "    \\mathbf{B} &= \\frac{1}{(\\delta x)^2}\\left[\\begin{array}{c}\n",
    "        1 \\\\ 0 \\\\ \\vdots \\\\ 0 \\\\ 1\n",
    "    \\end{array}\\right]\\in\\mathbb{R}^{n}.\n",
    "\\end{align*}"
   ]
  },
  {
   "cell_type": "markdown",
   "metadata": {},
   "source": [
    "### Snapshot Data Generation"
   ]
  },
  {
   "cell_type": "markdown",
   "metadata": {},
   "source": [
    "For simplicity, let $L = T = 1$ and $u(t) = 1$.\n",
    "We begin by simulating the full-order system described above with a maximal time step size $\\delta t = 10^{-3}$, resulting in $k = 10^3+1$ time steps (1000 steps past the initial condition).\n",
    "The result is the snapshot matrix $\\mathbf{Q}\\in\\mathbb{R}^{n\\times k}$, where the $j$th column is the solution trajectory at time $t_j$.\n",
    "We also compute the time derivative at each snapshot, obtaining $\\dot{\\mathbf{Q}}\\in\\mathbb{R}^{n\\times k}$."
   ]
  },
  {
   "cell_type": "code",
   "execution_count": null,
   "metadata": {},
   "outputs": [],
   "source": [
    "# Construct the spatial domain.\n",
    "L = 1                           # Spatial domain length.\n",
    "n = 2**7 - 1                    # Spatial grid size.\n",
    "x_all = np.linspace(0, L, n+2)  # Full spatial grid.\n",
    "x = x_all[1:-1]                 # Interior spatial grid (where q is unknown).\n",
    "dx = x[1] - x[0]                # Spatial resolution.\n",
    "\n",
    "# Construct the temporal domain.\n",
    "T = 1                           # Temporal domain length (final simulation time).\n",
    "k = T*10**3 + 1                 # Temporal grid size.\n",
    "t = np.linspace(0, T, k)        # Temporal grid.\n",
    "dt = t[1] - t[0]                # Temporal resolution.\n",
    "\n",
    "print(f\"Spatial step size δx = {dx}\")\n",
    "print(f\"Temporal step size δt = {dt}\")"
   ]
  },
  {
   "cell_type": "code",
   "execution_count": null,
   "metadata": {},
   "outputs": [],
   "source": [
    "# Construct state matrix A.\n",
    "dx2inv = 1 / dx**2\n",
    "diags = np.array([1, -2, 1]) * dx2inv\n",
    "A = sparse.diags(diags, [-1,0,1], (n,n))\n",
    "\n",
    "# Construct input matrix B.\n",
    "B = np.zeros_like(x)\n",
    "B[0], B[-1] = dx2inv, dx2inv\n",
    "u = lambda t: np.ones_like(t)   # Input function u(t) = 1.\n",
    "U = u(t)                        # Inputs over the time domain.\n",
    "\n",
    "# Construct the initial condition.\n",
    "alpha = 100\n",
    "q0 = np.exp(alpha*(x-1)) + np.exp(-alpha*x) - np.exp(-alpha)\n",
    "\n",
    "print(f\"shape of A:\\t{A.shape}\")\n",
    "print(f\"shape of B:\\t{B.shape}\")\n",
    "print(f\"shape of q0:\\t{q0.shape}\")"
   ]
  },
  {
   "cell_type": "markdown",
   "metadata": {},
   "source": [
    "Since this is a diffusive problem, we will use the Implicit (Backward) Euler method for solving the ODEs.\n",
    "For the problem $\\frac{\\text{d}}{\\text{d}t}\\mathbf{q}(t) = \\mathbf{f}(t, \\mathbf{q}(t), \\mathbf{u}(t))$, the method is defined by\n",
    "\n",
    "$$\n",
    "    \\mathbf{q}_{j+1} = \\mathbf{q}_{j} + \\delta t \\mathbf{f}(t_{j+1},\\mathbf{q}_{j+1},u_{j+1}).\n",
    "$$\n",
    "\n",
    "With the form $\\mathbf{f}(t,\\mathbf{q}(t),u(t)) = \\mathbf{A}\\mathbf{q}(t) + \\mathbf{B}u(t)$, this becomes\n",
    "\n",
    "$$\n",
    "    \\mathbf{q}_{j+1} = (I - \\delta t \\mathbf{A})^{-1}\\left(\\mathbf{q}_{j} + \\delta t \\mathbf{B} u_{j+1}\\right).\n",
    "$$"
   ]
  },
  {
   "cell_type": "code",
   "execution_count": null,
   "metadata": {
    "tags": [
     "hide-input"
    ]
   },
   "outputs": [],
   "source": [
    "def implicit_euler(t, q0, A, B, U):\n",
    "    \"\"\"Solve the system\n",
    "\n",
    "        dq / dt = Aq(t) + Bu(t),    q(0) = q0,\n",
    "\n",
    "    over a uniform time domain via the Implicit Euler method.\n",
    "\n",
    "    Parameters\n",
    "    ----------\n",
    "    t : (k,) ndarray\n",
    "        Uniform time array over which to solve the ODE.\n",
    "    q0 : (n,) ndarray\n",
    "        Initial condition.\n",
    "    A : (n,n) ndarray\n",
    "        State matrix.\n",
    "    B : (n,) or (n,1) ndarray\n",
    "        Input matrix.\n",
    "    U : (k,) ndarray\n",
    "        Inputs over the time array.\n",
    "\n",
    "    Returns\n",
    "    -------\n",
    "    q : (n,k) ndarray\n",
    "        Solution to the ODE at time t; that is, q[:,j] is the\n",
    "        computed solution corresponding to time t[j].\n",
    "    \"\"\"\n",
    "    # Check and store dimensions.\n",
    "    k = len(t)\n",
    "    n = len(q0)\n",
    "    B = np.ravel(B)\n",
    "    assert A.shape == (n,n)\n",
    "    assert B.shape == (n,)\n",
    "    assert U.shape == (k,)\n",
    "    I = np.eye(n)\n",
    "\n",
    "    # Check that the time step is uniform.\n",
    "    dt = t[1] - t[0]\n",
    "    assert np.allclose(np.diff(t), dt)\n",
    "\n",
    "    # Factor I - dt*A for quick solving at each time step.\n",
    "    factored = la.lu_factor(I - dt*A)\n",
    "\n",
    "    # Solve the problem at each time step.\n",
    "    q = np.empty((n,k))\n",
    "    q[:,0] = q0.copy()\n",
    "    for j in range(1,k):\n",
    "        q[:,j] = la.lu_solve(factored, q[:,j-1] + dt*B*U[j])\n",
    "\n",
    "    return q"
   ]
  },
  {
   "cell_type": "code",
   "execution_count": null,
   "metadata": {},
   "outputs": [],
   "source": [
    "# Compute snapshots by solving the equation with implicit_euler().\n",
    "Q = implicit_euler(t, q0, A, B, U)\n",
    "\n",
    "# Also compute time derivatives (dq/dt) at each snapshot.\n",
    "Qdot = A @ Q + B.reshape((-1,1))*U\n",
    "\n",
    "print(f\"shape of Q:\\t{Q.shape}\")\n",
    "print(f\"shape of Qdot:\\t{Qdot.shape}\")"
   ]
  },
  {
   "cell_type": "markdown",
   "metadata": {},
   "source": [
    "Finally, we visualize the snapshots to get a sense of how the solution looks qualitatively."
   ]
  },
  {
   "cell_type": "code",
   "execution_count": null,
   "metadata": {
    "tags": [
     "hide-input"
    ]
   },
   "outputs": [],
   "source": [
    "def plot_heat_data(Z, title=\"Snapshot Data\"):\n",
    "    fig, [ax1,ax2] = plt.subplots(1, 2, figsize=(12,4))\n",
    "\n",
    "    # Plot a few snapshots.\n",
    "    color = iter(plt.cm.viridis(np.linspace(.25, 1, 5)))\n",
    "    for j in [0, 20, 80, 160, 640]:\n",
    "        q_all = np.concatenate([[1], Z[:,j], [1]])  # Pad with boundary conditions.\n",
    "        ax1.plot(x_all, q_all, color=next(color), label=f\"q(x,t_{j})\")\n",
    "    ax1.set_xlim(0, 1)\n",
    "    ax1.set_xlabel(\"x\")\n",
    "    ax1.set_ylabel(\"q(x,t)\")\n",
    "    ax1.legend(loc=\"lower right\", fontsize=8, bbox_to_anchor=(1.01,.05))\n",
    "\n",
    "    # Plot all snapshots in space and time.\n",
    "    xx, tt = np.meshgrid(x, t, indexing=\"ij\")\n",
    "    cdata = ax2.pcolormesh(xx, tt, Z, shading=\"nearest\", cmap=\"magma\")\n",
    "    plt.colorbar(cdata, ax=ax2, extend=\"both\")\n",
    "    ax2.set_xlabel(\"space\")\n",
    "    ax2.set_ylabel(\"time\")\n",
    "\n",
    "    fig.suptitle(title)\n",
    "    plt.show()"
   ]
  },
  {
   "cell_type": "code",
   "execution_count": null,
   "metadata": {},
   "outputs": [],
   "source": [
    "plot_heat_data(Q)"
   ]
  },
  {
   "cell_type": "markdown",
   "metadata": {},
   "source": [
    "### Reduced Model Construction"
   ]
  },
  {
   "cell_type": "markdown",
   "metadata": {},
   "source": [
    "Now that we have snapshot data $\\mathbf{Q}$, we can construct a POD basis $\\mathbf{V}_r$ to use in the construction of the ROM.\n",
    "There are a few ways to make an informed choice of $r$; in this example, we examine the _relative projection error_, defined by\n",
    "\n",
    "$$\n",
    "\\text{err}_\\text{projection} = \\frac{||\\mathbf{Q} - \\mathbf{V}_r \\mathbf{V}_r^{\\top}\\mathbf{Q}||_F}{||\\mathbf{Q}||_F}.\n",
    "$$"
   ]
  },
  {
   "cell_type": "code",
   "execution_count": null,
   "metadata": {},
   "outputs": [],
   "source": [
    "# Compute the largest possible basis and all singular values.\n",
    "V, svdvals = opinf.pre.pod_basis(Q)\n",
    "\n",
    "# For 1 ≤ r < 20, calculate the projection error of the snapshot matrix.\n",
    "rs = np.arange(1, 21)\n",
    "projection_errors = [opinf.pre.projection_error(Q, V[:,:r])[1] for r in rs]\n",
    "\n",
    "# Plot the errors.\n",
    "plt.semilogy(rs, projection_errors, \"C0d-\")\n",
    "plt.axhline(1e-5, color='k', lw=.5, alpha=.5)\n",
    "plt.axvline(8, color='k', lw=.5, alpha=.5)\n",
    "plt.xlim(rs[0], rs[-1])\n",
    "plt.xticks(rs[::2])\n",
    "plt.xlabel(\"Reduced dimension\")\n",
    "plt.ylabel(\"Relative projection error\")\n",
    "plt.show()"
   ]
  },
  {
   "cell_type": "markdown",
   "metadata": {},
   "source": [
    "We choose $r=8$, the smallest number of basis vectors for which the projection error is less than $10^{-5}$."
   ]
  },
  {
   "cell_type": "code",
   "execution_count": null,
   "metadata": {},
   "outputs": [],
   "source": [
    "# Print absolute and relative projection errors for r = 8.\n",
    "Vr = V[:,:8]\n",
    "opinf.pre.projection_error(Q, Vr)"
   ]
  },
  {
   "cell_type": "markdown",
   "metadata": {},
   "source": [
    "Now we can learn the reduced model with Operator Inference.\n",
    "Because the full-order model is of the form $\\frac{\\text{d}}{\\text{d}t}\\mathbf{q}(t) = \\mathbf{A}\\mathbf{q}(t) + \\mathbf{B}u(t)$, we specify a reduced model form of $\\frac{\\text{d}}{\\text{d}t}\\widehat{\\mathbf{q}}(t) = \\hat{\\mathbf{A}}\\widehat{\\mathbf{q}}(t) + \\hat{\\mathbf{B}}u(t)$ (`modelform=\"AB\"`)."
   ]
  },
  {
   "cell_type": "code",
   "execution_count": null,
   "metadata": {},
   "outputs": [],
   "source": [
    "# Train and run the model.\n",
    "inferred_rom = opinf.ContinuousOpInfROM(modelform=\"AB\")\n",
    "inferred_rom.fit(Vr, Q, Qdot, U)\n",
    "q0_ = Vr.T @ q0                                     # Project the initial condition.\n",
    "Q_ROM_inferred = Vr @ implicit_euler(t, q0_, inferred_rom.A_.entries, inferred_rom.B_.entries, U)"
   ]
  },
  {
   "cell_type": "markdown",
   "metadata": {},
   "source": [
    "For the error analysis, since we used the projection error to determine $r$, we use a similar measure to evaluate the state error:\n",
    "\n",
    "$$\n",
    "\\text{err}_\\text{state} = \\frac{||\\mathbf{Q} - \\mathbf{Q}_\\text{ROM}||_F}{||\\mathbf{Q}||_F}.\n",
    "$$"
   ]
  },
  {
   "cell_type": "code",
   "execution_count": null,
   "metadata": {},
   "outputs": [],
   "source": [
    "opinf.post.frobenius_error(Q, Q_ROM_inferred)[1]"
   ]
  },
  {
   "cell_type": "code",
   "execution_count": null,
   "metadata": {},
   "outputs": [],
   "source": [
    "plot_heat_data(Q_ROM_inferred, \"Output of Inferred ROM\")"
   ]
  },
  {
   "cell_type": "markdown",
   "metadata": {},
   "source": [
    "We can also check how well we did relative to the projection error."
   ]
  },
  {
   "cell_type": "code",
   "execution_count": null,
   "metadata": {},
   "outputs": [],
   "source": [
    "relative_projection_error = opinf.post.lp_error(Q, Vr @ Vr.T @ Q, normalize=True)[1]\n",
    "\n",
    "def plot_relative_errors_over_time(Zlist, labels):\n",
    "    colors = [\"C0\", \"C3\"]\n",
    "    plt.semilogy(t, relative_projection_error, \"C1\", label=\"Projection Error\")\n",
    "    for Z,label,c in zip(Zlist, labels, colors[:len(Zlist)]):\n",
    "        relative_l2_error = opinf.post.lp_error(Q, Z, normalize=True)[1]\n",
    "        plt.semilogy(t, relative_l2_error, c, label=label)\n",
    "\n",
    "    plt.xlabel(\"t\")\n",
    "    plt.ylabel(\"Relative Error\")\n",
    "    plt.legend(loc=\"upper right\", edgecolor=\"none\")\n",
    "    plt.show()"
   ]
  },
  {
   "cell_type": "code",
   "execution_count": null,
   "metadata": {},
   "outputs": [],
   "source": [
    "plot_relative_errors_over_time([Q_ROM_inferred], [\"OpInf ROM Error\"])"
   ]
  },
  {
   "cell_type": "markdown",
   "metadata": {},
   "source": [
    "### Comparison with Intrusive Methods"
   ]
  },
  {
   "cell_type": "markdown",
   "metadata": {},
   "source": [
    "Under some idealized assumptions, the operators learned through Operator Inference \"converge\" in a sense to the corresponding operators obtained through intrusive projection,\n",
    "\n",
    "\\begin{align*}\n",
    "    \\widetilde{\\mathbf{A}} &= \\mathbf{V}_{r}^{\\top} \\mathbf{A} \\mathbf{V}_{r}^{\\top},\n",
    "    &\n",
    "    \\widetilde{\\mathbf{B}} &= \\mathbf{V}_{r}^{\\top}\\mathbf{B}.\n",
    "\\end{align*}\n",
    "\n",
    "We construct the (intrusive) reduced model corresponding to these projected reduced operators for comparison."
   ]
  },
  {
   "cell_type": "code",
   "execution_count": null,
   "metadata": {},
   "outputs": [],
   "source": [
    "intrusive_model = opinf.ContinuousOpInfROM(\"AB\")\n",
    "intrusive_model.fit(Vr, None, None, known_operators={\"A\":A, \"B\":B})\n",
    "Q_ROM_intrusive = Vr @ implicit_euler(t, q0_, intrusive_model.A_.entries, intrusive_model.B_.entries, U)"
   ]
  },
  {
   "cell_type": "code",
   "execution_count": null,
   "metadata": {},
   "outputs": [],
   "source": [
    "plot_heat_data(Q_ROM_intrusive, \"Output of Intrusive ROM\")"
   ]
  },
  {
   "cell_type": "code",
   "execution_count": null,
   "metadata": {},
   "outputs": [],
   "source": [
    "plot_relative_errors_over_time([Q_ROM_inferred, Q_ROM_intrusive],\n",
    "                               [\"OpInf ROM Error\", \"Intrusive ROM Error\"])"
   ]
  },
  {
   "cell_type": "code",
   "execution_count": null,
   "metadata": {},
   "outputs": [],
   "source": [
    "la.norm(Q_ROM_intrusive - Q_ROM_inferred) / la.norm(Q_ROM_intrusive)"
   ]
  },
  {
   "cell_type": "markdown",
   "metadata": {},
   "source": [
    "In this case, **the inferred and projected ROMs give essentially the same result**.\n",
    "However, the inferred ROM successfully emulates the FOM **without explicit knowledge of the operators** $\\mathbf{A}$ **and** $\\mathbf{B}$.\n",
    "\n",
    "Before moving forward, let's see how the dimension $r$ affects the accuracy of the ROM."
   ]
  },
  {
   "cell_type": "code",
   "execution_count": null,
   "metadata": {},
   "outputs": [],
   "source": [
    "V, vals = opinf.pre.pod_basis(Q)\n",
    "\n",
    "def run_trial(r):\n",
    "    Vr = V[:,:r]\n",
    "\n",
    "    # Construct and simulate the intrusive ROM.\n",
    "    intrusive_model = opinf.ContinuousOpInfROM(\"AB\").fit(Vr, None, None,\n",
    "                                                         known_operators={\"A\":A, \"B\":B})\n",
    "    Q_ROM_intrusive = Vr @ implicit_euler(t, Vr.T @ q0,\n",
    "                                          intrusive_model.A_.entries, intrusive_model.B_.entries, U)\n",
    "\n",
    "    # Construct and simulate the inferred ROM.\n",
    "    inferred_rom = opinf.ContinuousOpInfROM(\"AB\").fit(Vr, Q, Qdot, U)\n",
    "    Q_ROM_inferred = Vr @ implicit_euler(t, Vr.T @ q0,\n",
    "                                         inferred_rom.A_.entries, inferred_rom.B_.entries, U)\n",
    "\n",
    "    # Calculate errors.\n",
    "    projection_error = opinf.pre.projection_error(Q, Vr)[1]\n",
    "    intrusive_error = opinf.post.frobenius_error(Q, Q_ROM_intrusive)[1]\n",
    "    inference_error = opinf.post.frobenius_error(Q, Q_ROM_inferred)[1]\n",
    "\n",
    "    return projection_error, intrusive_error, inference_error"
   ]
  },
  {
   "cell_type": "code",
   "execution_count": null,
   "metadata": {
    "tags": [
     "hide-input"
    ]
   },
   "outputs": [],
   "source": [
    "def plot_state_error(rmax):\n",
    "    rs = np.arange(1, rmax+1)\n",
    "    err_projection, err_intrusive, err_inference = zip(*[run_trial(r) for r in rs])\n",
    "\n",
    "    plt.semilogy(rs, err_projection, 'C1-', label=\"projection error\")\n",
    "    plt.semilogy(rs, err_intrusive, 'C3+-', label=\"intrusive\", mew=2)\n",
    "    plt.semilogy(rs, err_inference, 'C0o-', label=\"inference-based\", mfc='none', mec='C0', mew=1.5)\n",
    "\n",
    "    plt.xlim(rs.min(), rs.max())\n",
    "    plt.xticks(rs, [str(int(r)) for r in rs])\n",
    "    plt.xlabel(\"Reduced dimension\")\n",
    "    plt.ylabel(\"Relative error\")\n",
    "    plt.legend(loc=\"upper right\", fontsize=14, framealpha=1)\n",
    "    plt.grid(ls=':')\n",
    "    plt.show()"
   ]
  },
  {
   "cell_type": "code",
   "execution_count": null,
   "metadata": {},
   "outputs": [],
   "source": [
    "plot_state_error(14)"
   ]
  },
  {
   "cell_type": "markdown",
   "metadata": {},
   "source": [
    "For this problem, Operator Inference fits the snapshot data very slightly better than the model obtained through intrusive projection for $r < 15$."
   ]
  }
 ],
 "metadata": {
  "celltoolbar": "Tags",
  "kernelspec": {
   "display_name": "Python 3 (ipykernel)",
   "language": "python",
   "name": "python3"
  },
  "language_info": {
   "codemirror_mode": {
    "name": "ipython",
    "version": 3
   },
   "file_extension": ".py",
   "mimetype": "text/x-python",
   "name": "python",
   "nbconvert_exporter": "python",
   "pygments_lexer": "ipython3",
   "version": "3.8.10"
  },
  "toc-showmarkdowntxt": false,
  "toc-showtags": true
 },
 "nbformat": 4,
 "nbformat_minor": 4
}
