{
 "cells": [
  {
   "cell_type": "markdown",
   "metadata": {
    "tags": [],
    "toc-hr-collapsed": false
   },
   "source": [
    "(sec-tutorial)=\n",
    "# Tutorial"
   ]
  },
  {
   "cell_type": "code",
   "execution_count": null,
   "metadata": {},
   "outputs": [],
   "source": [
    "import numpy as np\n",
    "import scipy.linalg as la\n",
    "import scipy.sparse as sparse\n",
    "import matplotlib.pyplot as plt\n",
    "from scipy.integrate import solve_ivp"
   ]
  },
  {
   "cell_type": "code",
   "execution_count": null,
   "metadata": {
    "tags": [
     "hide-cell"
    ]
   },
   "outputs": [],
   "source": [
    "# Matplotlib customizations.\n",
    "plt.rc(\"figure\", dpi=300, figsize=(9,3))\n",
    "plt.rc(\"text\", usetex=True)\n",
    "plt.rc(\"font\", family=\"serif\")\n",
    "plt.rc(\"legend\", edgecolor='none')"
   ]
  },
  {
   "cell_type": "markdown",
   "metadata": {
    "toc-hr-collapsed": false
   },
   "source": [
    "The `rom_operator_inference` package constructs reduced-order models (ROM) for large dynamical systems.\n",
    "Such systems often arise from the numerical solution of partial differentials equations (PDE).\n",
    "In this tutorial, we give an example of solving a **very** simple heat equation with a ROM learned from data via Operator Inference.\n",
    "This is a simplified version of the first numerical example of Operator Inference in the literature, described in {cite}`PW2016OperatorInference`."
   ]
  },
  {
   "cell_type": "markdown",
   "metadata": {
    "toc-hr-collapsed": true,
    "toc-nb-collapsed": true
   },
   "source": [
    "## Problem Statement"
   ]
  },
  {
   "cell_type": "markdown",
   "metadata": {},
   "source": [
    "Let $\\Omega = [0,L]\\subset \\mathbb{R}$ be the spatial domain and let $[t_0,t_f]\\subset\\mathbb{R}$ be the time domain.\n",
    "We consider the one-dimensional heat equation with homogeneous Dirichlet boundary conditions,\n",
    "\n",
    "\\begin{align*}\n",
    "    \\frac{\\partial}{\\partial t} q(x,t) - \\frac{\\partial^2}{\\partial x^2}q(x,t) &= 0\n",
    "    & x &\\in\\Omega,\\quad t\\in(t_0,t_f],\n",
    "    \\\\\n",
    "    q(0,t) = q(L,t) &= 0\n",
    "    & t &\\in [t_0,t_f],\n",
    "    \\\\\n",
    "    q(x,t_0) &= x(1 - x),\n",
    "    & x &\\in \\Omega.\n",
    "\\end{align*}\n",
    "\n",
    "This is a model for a one-dimensional rod that conducts heat: the temperature at the ends of the rod are fixed at $0$ and heat is allowed to flow out of the rod through the ends."
   ]
  },
  {
   "cell_type": "markdown",
   "metadata": {},
   "source": [
    "## Full-order Discretization"
   ]
  },
  {
   "cell_type": "markdown",
   "metadata": {},
   "source": [
    "To solve the problem numerically, let $\\{x\\}_{i=0}^{n+1}$ be an equidistant grid of $n+2$ points on $\\Omega$, i.e.,\n",
    "\n",
    "\\begin{align*}\n",
    "    0 &= x_0 < x_1 < \\cdots < x_n < x_{n+1} = L\n",
    "    &\n",
    "    &\\text{and}\n",
    "    &\n",
    "    \\delta x &= \\frac{L}{n+1} = x_{i+1} - x_{i},\\quad i=1,\\ldots,n-1.\n",
    "\\end{align*}\n",
    "\n",
    "Since the boundary conditions prescribe $q(x_0,t) = q(x_{n+1},t) = 0$, we wish to compute the state vector\n",
    "\n",
    "\\begin{align*}\n",
    "    \\mathbf{q}(t)\n",
    "    = \\left[\\begin{array}{c}\n",
    "        q(x_1,t) \\\\ \\vdots \\\\ q(x_n,t)\n",
    "    \\end{array}\\right]\\in\\mathbb{R}^n\n",
    "\\end{align*}\n",
    "\n",
    "for $t\\in[t_0,t_f]$."
   ]
  },
  {
   "cell_type": "markdown",
   "metadata": {},
   "source": [
    "Introducing the central finite difference approximation\n",
    "\n",
    "\\begin{align*}\n",
    "    \\frac{\\partial^2}{\\partial x^2}q(x,t) &\\approx \\frac{q(x-\\delta x,t) - 2q(x,t) + q(x+\\delta x,t)}{(\\delta x)^2}\n",
    "    % &\n",
    "    % \\Longrightarrow&\n",
    "    % &\n",
    "    % \\frac{\\partial^2}{\\partial x^2}q(x_i,t) &\\approx \\frac{q(x_{i-1},t) - 2q(x_{i},t) + q(x_{i+1},t)}{(\\delta x)^2}\n",
    "    % \\\\\n",
    "    &\n",
    "    &\\Longrightarrow\n",
    "    &\n",
    "    \\frac{\\partial^2}{\\partial x^2}x_{i} &\\approx \\frac{x_{i-1} - 2x_{i} + x_{i+1}}{(\\delta x)^2},\n",
    "\\end{align*}\n",
    "\n",
    "we obtain the semi-discrete linear system\n",
    "\n",
    "$$\n",
    "\\frac{\\text{d}}{\\text{d}t}\\mathbf{q}(t) = \\mathbf{A}\\mathbf{q}(t),\n",
    "\\qquad\n",
    "\\mathbf{q}(0) = \\mathbf{q}_0,\n",
    "$$ (eq_fom)\n",
    "\n",
    "where\n",
    "\n",
    "\\begin{align*}\n",
    "    \\mathbf{A} &= \\frac{1}{(\\delta x)^2}\\left[\\begin{array}{ccccc}\n",
    "        -2 & 1 & & & \\\\\n",
    "        1 & -2 & 1 & & \\\\\n",
    "        & \\ddots & \\ddots & \\ddots & \\\\\n",
    "        & & 1 & -2 & 1 \\\\\n",
    "        & & & 1 & -2 \\\\\n",
    "    \\end{array}\\right] \\in\\mathbb{R}^{n\\times n},\n",
    "    &\n",
    "    \\mathbf{q}_0 &= \\left[\\begin{array}{c}\n",
    "    x_1 (1 - x_1) \\\\ x_2 (1 - x_2) \\\\ \\vdots \\\\ x_{n-1} (1 - x_{n-1}) \\\\ x_n (1 - x_n)\n",
    "    \\end{array}\\right] \\in\\mathbb{R}^{n}.\n",
    "\\end{align*}\n",
    "\n",
    "Equation {eq}`eq_fom` is called the _full-order model_ (FOM) or the _high-fidelity model_. The computational complexity of solving {eq}`eq_fom` depends on the large dimension $n$; our goal is to construct a reduced-order model (ROM) that approximates the full-order model, but whose computational complexity only depends on some smaller dimension $r \\ll n$."
   ]
  },
  {
   "cell_type": "markdown",
   "metadata": {},
   "source": [
    "```{note}\n",
    "One key advantage of Operator Inference is that, because it learns a reduced-order model from data alone, direct access to the high-fidelity solver (the matrix $\\mathbf{A}$ in this case) is not required. Instead, we need:\n",
    "1. Solution outputs of a high-fidelity solver to learn from, and\n",
    "2. Some knowledge of the structure of the governing equations.\n",
    "```"
   ]
  },
  {
   "cell_type": "markdown",
   "metadata": {
    "toc-hr-collapsed": true
   },
   "source": [
    "## Training Data Generation"
   ]
  },
  {
   "cell_type": "markdown",
   "metadata": {
    "toc-hr-collapsed": true
   },
   "source": [
    "For this demo, we set $t_0 = 0$ and $L = t_f = 1$.\n",
    "We begin by simulating the full-order system described above with a maximal time step size $\\delta t = 10^{-3}$, resulting in $k = 10^3+1$ time steps (1000 steps after the initial condition).\n",
    "The results are organized as the _snapshot matrix_ $\\mathbf{Q}\\in\\mathbb{R}^{n\\times k}$, where the $j$th column is the solution trajectory at time $t_j$:\n",
    "\n",
    "$$\n",
    "    \\mathbf{Q} = \\left[\\begin{array}{ccc}\n",
    "        && \\\\\n",
    "        \\mathbf{q}_{0} & \\cdots & \\mathbf{q}_{k-1}\n",
    "        \\\\ &&\n",
    "    \\end{array}\\right] \\in\\mathbb{R}^{n\\times k},\n",
    "    \\qquad\n",
    "    \\mathbf{q}_{j} := \\mathbf{q}(t_j) \\in\\mathbb{R}^{n},\\quad j = 0, \\ldots, k-1.\n",
    "$$"
   ]
  },
  {
   "cell_type": "code",
   "execution_count": null,
   "metadata": {},
   "outputs": [],
   "source": [
    "# Construct the spatial domain.\n",
    "L = 1                           # Spatial domain length.\n",
    "n = 2**7 - 1                    # Spatial grid size.\n",
    "x_all = np.linspace(0, L, n+2)  # Full spatial grid.\n",
    "x = x_all[1:-1]                 # Interior spatial grid (where x is unknown).\n",
    "dx = x[1] - x[0]                # Spatial resolution.\n",
    "\n",
    "# Construct the temporal domain.\n",
    "t0, tf = 0, 1                   # Initial and final time.\n",
    "k = tf*1000 + 1                 # Temporal grid size.\n",
    "t = np.linspace(t0, tf, k)      # Temporal grid.\n",
    "dt = t[1] - t[0]                # Temporal resolution.\n",
    "\n",
    "print(f\"Spatial step size δx = {dx}\")\n",
    "print(f\"Temporal step size δt = {dt}\")"
   ]
  },
  {
   "cell_type": "code",
   "execution_count": null,
   "metadata": {},
   "outputs": [],
   "source": [
    "# Construct the state matrix A.\n",
    "diags = np.array([1,-2,1]) / (dx**2)\n",
    "A = sparse.diags(diags, [-1,0,1], (n,n))\n",
    "\n",
    "# Define the full-order model dx/dt = f(t,x),  x(0) = x0.\n",
    "def fom(t, x):\n",
    "    return A @ x\n",
    "\n",
    "q0 = x * (1 - x)\n",
    "\n",
    "print(f\"shape of A:\\t{A.shape}\")\n",
    "print(f\"shape of q0:\\t{q0.shape}\")"
   ]
  },
  {
   "cell_type": "code",
   "execution_count": null,
   "metadata": {},
   "outputs": [],
   "source": [
    "# Compute snapshots by solving the full-order model with SciPy.\n",
    "Q = solve_ivp(fom, [t0,tf], q0, t_eval=t, method=\"BDF\", max_step=dt).y\n",
    "\n",
    "print(f\"shape of Q: {Q.shape}\")"
   ]
  },
  {
   "cell_type": "markdown",
   "metadata": {},
   "source": [
    "```{caution}\n",
    "It is often better to use your own ODE solver instead of integration packages such as `scipy.integrate`. If the integration strategy of the full-order model is known (e.g., Backward Euler), try using that strategy with the reduced-order model.\n",
    "```"
   ]
  },
  {
   "cell_type": "markdown",
   "metadata": {},
   "source": [
    "Finally, we visualize the snapshots to get a sense of how the solution looks qualitatively."
   ]
  },
  {
   "cell_type": "code",
   "execution_count": null,
   "metadata": {
    "tags": [
     "hide-input"
    ]
   },
   "outputs": [],
   "source": [
    "def plot_heat_data(Z, title):\n",
    "    \"\"\"Visualize temperature data in space and time.\"\"\"\n",
    "    fig, ax = plt.subplots(1, 1)\n",
    "\n",
    "    # Plot a few snapshots over the spatial domain.\n",
    "    sample_columns = [0, 20, 80, 160, 320, 640]\n",
    "    color = iter(plt.cm.viridis_r(np.linspace(0, 1, len(sample_columns))))\n",
    "\n",
    "    for j in sample_columns:\n",
    "        q_all = np.concatenate([[0], Z[:,j], [0]])  # Pad results with boundary conditions.\n",
    "        ax.plot(x_all, q_all, color=next(color), label=rf\"$q(x,t_{{{j}}})$\")\n",
    "\n",
    "    ax.set_xlim(0, 1)\n",
    "    ax.set_xlabel(r\"$x$\")\n",
    "    ax.set_ylabel(r\"$q(x,t)$\")\n",
    "    ax.legend(loc=(1.05, .05))\n",
    "    ax.spines[\"right\"].set_visible(False)\n",
    "    ax.spines[\"top\"].set_visible(False)\n",
    "    fig.suptitle(title)"
   ]
  },
  {
   "cell_type": "code",
   "execution_count": null,
   "metadata": {},
   "outputs": [],
   "source": [
    "plot_heat_data(Q, \"Snapshot Data\")"
   ]
  },
  {
   "cell_type": "markdown",
   "metadata": {},
   "source": [
    "Initially there is more heat toward the center of the rod, which then diffuses out of the ends of the rod."
   ]
  },
  {
   "cell_type": "markdown",
   "metadata": {},
   "source": [
    "At this point, we have gathered some training data by simulating the full-order model.\n",
    "We also have an initial condition and space and time domains.\n",
    "\n",
    "| Name | Symbol | Code Variable |\n",
    "| :--- | :----: | :------------ |\n",
    "| State snapshots | $\\mathbf{Q}$ | `Q` |\n",
    "| Initial state | $\\mathbf{q}_0$ | `q0` |\n",
    "| Spatial variable | $\\Omega$ | `x` |\n",
    "| Time domain | $[t_0,t_f]$ | `t` |"
   ]
  },
  {
   "cell_type": "markdown",
   "metadata": {},
   "source": [
    "## Using the Package"
   ]
  },
  {
   "cell_type": "markdown",
   "metadata": {},
   "source": [
    "The full-order model has the form {eq}`eq_fom`,\n",
    "\n",
    "$$\n",
    "    \\frac{\\text{d}}{\\text{d}t}\\mathbf{q}(t)\n",
    "    = \\mathbf{A}\\mathbf{q}(t),\\qquad\\mathbf{q}(0)\n",
    "    = \\mathbf{q}_0,\n",
    "$$\n",
    "\n",
    "with $\\mathbf{q}(t)\\in\\mathbb{R}^{n}$ and $\\mathbf{A}\\in\\mathbb{R}^{n\\times n}$.\n",
    "We seek a reduced-order model with that same structure,\n",
    "\n",
    "$$\n",
    "    \\frac{\\text{d}}{\\text{d}t}\\widehat{\\mathbf{q}}(t)\n",
    "    = \\widehat{\\mathbf{A}}\\widehat{\\mathbf{q}}(t),\\qquad\\widehat{\\mathbf{q}}(0)\n",
    "    = \\widehat{\\mathbf{q}}_0,\n",
    "$$ (eq_rom)\n",
    "\n",
    "but with $\\widehat{\\mathbf{q}}(t)\\in \\mathbb{R}^{r}$ and $\\widehat{\\mathbf{A}}\\in\\mathbb{R}^{r\\times r}$ for some $r\\ll n$.\n",
    "Operator Inference constructs {eq}`eq_rom` by solving a data-driven minimization for $\\widehat{\\mathbf{A}}$,\n",
    "\n",
    "$$\n",
    "    \\min_{\\widehat{\\mathbf{A}}\\in\\mathbb{R}^{r\\times r}}\\sum_{j=0}^{k-1}\\left\\|\n",
    "        \\widehat{\\mathbf{A}}\\mathbf{V}^{\\top}\\mathbf{q}_{j} - \\mathbf{V}^{\\top}\\dot{\\mathbf{q}}_{j}\n",
    "    \\right\\|_{2}^2\n",
    "$$ (eq_opinf)\n",
    "\n",
    "where $\\mathbf{V}\\in\\mathbb{R}^{n \\times r}$ is a basis for $\\mathbb{R}^{r}$ and $\\dot{\\mathbf{q}}_{j} = \\frac{\\text{d}}{\\text{d}t}\\mathbf{q}(t)\\big|_{t = t_j}$ is a measurement of the time derivative of $\\mathbf{q}(t)$ at time $t = t_{j}$.\n",
    "\n",
    "We have several tasks to consider:\n",
    "1. Choosing the reduced-model dimension $r$,\n",
    "2. Constructing a low-dimensional subspace (computing $\\mathbf{V}$),\n",
    "3. Computing the time derivative matrix $\\dot{\\mathbf{Q}}$,\n",
    "4. Constructing the reduced-order model {eq}`eq_rom` via Operator Inference {eq}`eq_opinf`,\n",
    "5. Simulating the reduced-order model, and\n",
    "6. Evaluating the performance of the reduced-order model.\n",
    "\n",
    "We will do this all at once, then show each step in more detail."
   ]
  },
  {
   "cell_type": "code",
   "execution_count": null,
   "metadata": {},
   "outputs": [],
   "source": [
    "import rom_operator_inference as opinf\n",
    "\n",
    "Vr, _ = opinf.pre.pod_basis(Q, r=2)                     # Construct the reduced basis.\n",
    "Qdot = opinf.pre.ddt(Q, dt, order=6)                    # Calculate the time derivative matrix.\n",
    "rom = opinf.ContinuousOpInfROM(modelform=\"A\")           # Define the model structure.\n",
    "rom.fit(Vr, Q, Qdot)                                    # Construct the ROM with Operator Inference.\n",
    "Q_ROM = rom.predict(q0, t, method=\"BDF\", max_step=dt)   # Simulate the ROM.\n",
    "opinf.post.frobenius_error(Q, Q_ROM)[1]                 # Calculate the relative error of the ROM simulation."
   ]
  },
  {
   "cell_type": "markdown",
   "metadata": {},
   "source": [
    "## Choosing the Dimension of the Reduced-order Model"
   ]
  },
  {
   "cell_type": "markdown",
   "metadata": {},
   "source": [
    "There are several ways to choose $r$ in an informed way.\n",
    "A simple choice is to look at the singular values $\\{\\sigma_j\\}_{j=1}^{n}$ of the snapshot matrix $\\mathbf{Q}$ and select the number of $\\sigma_{j}$ that are greater than a given threshold.\n",
    "This also gives us a sense of whether or not we expect model reduction to be successful: if the singular values do not decay quickly, then we will need many modes to capture the behavior of the system."
   ]
  },
  {
   "cell_type": "code",
   "execution_count": null,
   "metadata": {
    "tags": [
     "hide-output"
    ]
   },
   "outputs": [],
   "source": [
    "svdvals = la.svdvals(Q)\n",
    "svdvals"
   ]
  },
  {
   "cell_type": "code",
   "execution_count": null,
   "metadata": {
    "tags": [
     "hide-cell"
    ]
   },
   "outputs": [],
   "source": [
    "import inspect\n",
    "\n",
    "def print_doc(func):\n",
    "    print(f\"def {func.__name__}{inspect.signature(func)}:\",\n",
    "          func.__doc__, sep=\"\\n    \")"
   ]
  },
  {
   "cell_type": "code",
   "execution_count": null,
   "metadata": {
    "tags": [
     "hide-output"
    ]
   },
   "outputs": [],
   "source": [
    "import rom_operator_inference as opinf\n",
    "\n",
    "print_doc(opinf.pre.svdval_decay)"
   ]
  },
  {
   "cell_type": "code",
   "execution_count": null,
   "metadata": {},
   "outputs": [],
   "source": [
    "opinf.pre.svdval_decay(svdvals, 1e-4, plot=True)"
   ]
  },
  {
   "cell_type": "markdown",
   "metadata": {},
   "source": [
    "We can also look at the relative contribution of the singular values, i.e., choose $r$ such that\n",
    "\n",
    "$$\n",
    "    \\kappa_r = \\frac{\\sum_{j=1}^r \\sigma_j^2}{\\sum_{j=1}^n \\sigma_j^2}\n",
    "$$\n",
    "\n",
    "is greater than a given value (usually something very close to $1$)."
   ]
  },
  {
   "cell_type": "code",
   "execution_count": null,
   "metadata": {
    "tags": [
     "hide-output"
    ]
   },
   "outputs": [],
   "source": [
    "print_doc(opinf.pre.cumulative_energy)"
   ]
  },
  {
   "cell_type": "code",
   "execution_count": null,
   "metadata": {},
   "outputs": [],
   "source": [
    "r = opinf.pre.cumulative_energy(svdvals, .999999, plot=False)\n",
    "print(f\"r = {r}\")"
   ]
  },
  {
   "cell_type": "markdown",
   "metadata": {},
   "source": [
    "This indicates that we can capture 99.9999% of the behavior of the full-order snapshots with only 2 modes.\n",
    "This is a very small choice of $r$, but it is also a very simple problem, so for now we select $r = 2$."
   ]
  },
  {
   "cell_type": "markdown",
   "metadata": {},
   "source": [
    "## Constructing a Low-dimensional Subspace"
   ]
  },
  {
   "cell_type": "markdown",
   "metadata": {},
   "source": [
    "Next, we need a basis matrix $\\mathbf{V}_{r}\\in\\mathbb{R}^{n \\times r}$ to define the linear subspace to which the ROM states will be confined.\n",
    "One of the most standard strategies, which aligns with our analysis of the singular values of $\\mathbf{Q}$, is the _POD basis of rank $r$_ corresponding to $\\mathbf{Q}$.\n",
    "If $\\mathbf{Q}$ has the singular value decomposition\n",
    "\n",
    "$$\n",
    "\\mathbf{Q} = \\boldsymbol{\\Phi} \\boldsymbol{\\Sigma} \\boldsymbol{\\Psi}^{\\top},\n",
    "$$\n",
    "\n",
    "then the POD basis of rank $r$ consists of the first $r$ columns of $\\boldsymbol{\\Phi}$, i.e., the dominant $r$ left singular vectors of $\\mathbf{Q}$:\n",
    "\n",
    "$$\n",
    "\\mathbf{V}_{r} := \\boldsymbol{\\Phi}_{:,:r}.\n",
    "$$"
   ]
  },
  {
   "cell_type": "code",
   "execution_count": null,
   "metadata": {
    "tags": [
     "hide-output"
    ]
   },
   "outputs": [],
   "source": [
    "print_doc(opinf.pre.pod_basis)"
   ]
  },
  {
   "cell_type": "code",
   "execution_count": null,
   "metadata": {},
   "outputs": [],
   "source": [
    "r = 2\n",
    "Vr, _ = opinf.pre.pod_basis(Q, r, mode=\"dense\")\n",
    "print(f\"Shape of Vr: {Vr.shape}\")"
   ]
  },
  {
   "cell_type": "markdown",
   "metadata": {},
   "source": [
    "To get a sense of the kinds of solutions we may see, we plot the columns of $\\mathbf{V}_r$.\n",
    "All solutions of the resulting ROM can only be linear combinations of these columns."
   ]
  },
  {
   "cell_type": "code",
   "execution_count": null,
   "metadata": {},
   "outputs": [],
   "source": [
    "for j in range(Vr.shape[1]):\n",
    "    plt.plot(x_all, np.concatenate(([0], Vr[:,j], [0])), label=f\"POD mode {j+1}\")\n",
    "plt.legend(loc=\"upper right\")\n",
    "plt.show()"
   ]
  },
  {
   "cell_type": "markdown",
   "metadata": {},
   "source": [
    "## Estimating Time Derivatives"
   ]
  },
  {
   "cell_type": "markdown",
   "metadata": {},
   "source": [
    "Operator Inference constructs a reduced-order model by solving a least-squares regression problem that corresponds to the form of the model.\n",
    "In this case, the original model has the form $\\frac{\\text{d}}{\\text{d}t}\\mathbf{q}(t) = \\mathbf{A}\\mathbf{q}(t)$.\n",
    "The snapshot matrix $\\mathbf{Q}$ contains data for $\\mathbf{q}(t)$, but we also need data for $\\frac{\\text{d}}{\\text{d}t}\\mathbf{q}(t)$.\n",
    "In this simple example, we can directly compute the _snapshot time derivative matrix_ $\\dot{\\mathbf{Q}}\\in\\mathbb{R}^{n\\times k}$ that corresponds to the snapshots by setting $\\dot{\\mathbf{Q}} = \\mathbf{A} \\mathbf{Q}$."
   ]
  },
  {
   "cell_type": "code",
   "execution_count": null,
   "metadata": {},
   "outputs": [],
   "source": [
    "Qdot = A @ Q\n",
    "\n",
    "print(f\"Shape of Q:\\t{Q.shape}\")\n",
    "print(f\"Shape of Qdot:\\t{Qdot.shape}\")"
   ]
  },
  {
   "cell_type": "markdown",
   "metadata": {},
   "source": [
    "If the matrix $\\mathbf{A}$ is unknown or computationally unavailable, the time derivative matrix can be estimated through finite differences of the snapshots.\n",
    "The `pre` submodule has some convenience tools for this.\n",
    "Since our time domain is uniformly spaced, we use `opinf.pre.ddt_uniform()`; for snapshots that are not uniformly spaced in time, see `opinf.pre.ddt_nonuniform()`."
   ]
  },
  {
   "cell_type": "code",
   "execution_count": null,
   "metadata": {
    "tags": [
     "hide-output"
    ]
   },
   "outputs": [],
   "source": [
    "print_doc(opinf.pre.ddt_uniform)"
   ]
  },
  {
   "cell_type": "code",
   "execution_count": null,
   "metadata": {},
   "outputs": [],
   "source": [
    "Qdot2 = opinf.pre.ddt_uniform(Q, dt, order=6)\n",
    "\n",
    "# Check that the estimate is close to the true time derivatives.\n",
    "la.norm(Qdot - Qdot2, ord=np.inf) / la.norm(Qdot, ord=np.inf)"
   ]
  },
  {
   "cell_type": "markdown",
   "metadata": {},
   "source": [
    "```{note}\n",
    "The finite difference approximation for $\\dot{\\mathbf{Q}}$ commutes with the projection to a low-dimensional subspace, that is, $\\mathbf{V}_{r}^\\top\\frac{\\text{d}}{\\text{d}t}\\left[\\mathbf{Q}\\right] = \\frac{\\text{d}}{\\text{d}t}\\left[\\mathbf{V}_{r}^{\\top}\\mathbf{Q}\\right]$.\n",
    "To save memory, the snapshot matrix may be projected first, and the projected time derivatives can be calculated from the projected snapshots.\n",
    "The ROM classes in the next section accept both full-order ($n \\times k$) or reduced-order ($r\\times k$) snapshot and time derivative matrices as training data.\n",
    "```"
   ]
  },
  {
   "cell_type": "code",
   "execution_count": null,
   "metadata": {},
   "outputs": [],
   "source": [
    "Q_ = Vr.T @ Q                                   # Project the state snapshots.\n",
    "Qdot_ = opinf.pre.ddt_uniform(Q_, dt, order=6)  # Estimate the projected time derivatives.\n",
    "\n",
    "np.allclose(Vr.T @ Qdot2, Qdot_)                # Same as project the full-order time derivatives."
   ]
  },
  {
   "cell_type": "markdown",
   "metadata": {},
   "source": [
    "## Constructing the ROM via Operator Inference"
   ]
  },
  {
   "cell_type": "markdown",
   "metadata": {},
   "source": [
    "We now have training data and a linear basis for a low-dimensional subspace.\n",
    "\n",
    "| Name | Symbol | Code Variable |\n",
    "| :--- | :----: | :------------ |\n",
    "| State snapshots | $\\mathbf{Q}$ | `Q` |\n",
    "| Time derivatives | $\\dot{\\mathbf{Q}}$ | `Qdot` |\n",
    "| POD basis | $\\mathbf{V}_{r}$ | `Vr` |\n",
    "| Initial state | $\\mathbf{q}_0$ | `q0` |\n",
    "| | |\n",
    "| Spatial domain | $\\Omega$ | `x` |\n",
    "| Time domain | $[t_0,t_f]$ | `t` |\n",
    "\n",
    "Next, we initialize a `rom_operator_inference` \"ROM\" class and fit it to the data.\n",
    "Since the problem is continuous (time-dependent), we use the `ContinuousOpInfROM` class.\n",
    "The constructor takes a single parameter, `modelform`, that specifies the structure of the desired model.\n",
    "\n",
    "| Character | Name | Reduced-order model term |\n",
    "| :-------- | :--- | :------- |\n",
    "| `c` | Constant |  $\\widehat{\\mathbf{c}}$ |\n",
    "| `A` | Linear |  $\\widehat{\\mathbf{A}}\\widehat{\\mathbf{q}}(t)$ |\n",
    "| `H` | Quadratic |  $\\widehat{\\mathbf{H}}\\left(\\widehat{\\mathbf{q}}\\otimes\\widehat{\\mathbf{q}}\\right)(t)$ |\n",
    "| `G` | Cubic |  $\\widehat{\\mathbf{G}}\\left(\\widehat{\\mathbf{q}}\\otimes\\widehat{\\mathbf{q}}\\otimes\\widehat{\\mathbf{q}}\\right)(t)$ |\n",
    "| `B` | Input |  $\\widehat{\\mathbf{B}}\\mathbf{u}(t)$ |\n",
    "\n",
    "Since we seek a ROM of the form $\\frac{\\text{d}}{\\text{d}t}\\widehat{\\mathbf{q}}(t) = \\widehat{\\mathbf{A}}\\widehat{\\mathbf{q}}(t)$, we set `modelform=\"A\"`.\n",
    "If there were a constant term, $\\frac{\\text{d}}{\\text{d}t}\\widehat{\\mathbf{q}}(t) = \\widehat{\\mathbf{c}} + \\widehat{\\mathbf{A}}\\widehat{\\mathbf{q}}(t)$, we would use `modelform=\"cA\"`, and so on.\n",
    "Beware that with cubic terms ($\\widehat{\\mathbf{G}}$), the data matrix starts to get very large."
   ]
  },
  {
   "cell_type": "code",
   "execution_count": null,
   "metadata": {},
   "outputs": [],
   "source": [
    "rom = opinf.ContinuousOpInfROM(\"A\")\n",
    "print(rom)"
   ]
  },
  {
   "cell_type": "markdown",
   "metadata": {},
   "source": [
    "We now fit the model to the data by solving the least-squares problem {eq}`eq_opinf`,\n",
    "\\begin{align*}\n",
    "    \\min_{\\widehat{\\mathbf{A}}\\in\\mathbb{R}^{r\\times r}}\\sum_{j=0}^{k-1}\\left\\|\n",
    "        \\widehat{\\mathbf{A}}\\mathbf{V}^{\\top}\\mathbf{q}_{j} - \\mathbf{V}^{\\top}\\dot{\\mathbf{q}}_{j}\n",
    "    \\right\\|_{2}^2\n",
    "    =\n",
    "    \\min_{\\widehat{\\mathbf{A}}\\in\\mathbb{R}^{r\\times r}}\\sum_{j=0}^{k-1}\\left\\|\n",
    "        \\widehat{\\mathbf{A}}\\widehat{\\mathbf{q}}_{j} - \\dot{\\widehat{\\mathbf{q}}}_{j}\n",
    "    \\right\\|_{2}^2\n",
    "    = \\min_{\\widehat{\\mathbf{A}}\\in\\mathbb{R}^{r\\times r}}\\left\\|\n",
    "        \\widehat{\\mathbf{A}}\\widehat{\\mathbf{Q}} - \\dot{\\widehat{\\mathbf{Q}}}\n",
    "    \\right\\|_{F}^2,\n",
    "\\end{align*}\n",
    "where\n",
    "\\begin{align*}\n",
    "    \\widehat{\\mathbf{Q}} &= \\mathbf{V}_r^{\\top}\\mathbf{Q},\n",
    "    &\n",
    "    \\dot{\\widehat{\\mathbf{Q}}} &= \\mathbf{V}_r^{\\top}\\dot{\\mathbf{Q}}.\n",
    "\\end{align*}\n",
    "\n",
    "This is all done in the `fit()` method, given $\\mathbf{V}_r$, $\\mathbf{Q}$, and $\\dot{\\mathbf{Q}}$."
   ]
  },
  {
   "cell_type": "code",
   "execution_count": null,
   "metadata": {
    "tags": [
     "hide-output"
    ]
   },
   "outputs": [],
   "source": [
    "print_doc(rom.fit)"
   ]
  },
  {
   "cell_type": "code",
   "execution_count": null,
   "metadata": {},
   "outputs": [],
   "source": [
    "rom.fit(Vr, Q, Qdot)"
   ]
  },
  {
   "cell_type": "markdown",
   "metadata": {},
   "source": [
    "After fitting the model, we can directly examine the inferred operators of the model."
   ]
  },
  {
   "cell_type": "code",
   "execution_count": null,
   "metadata": {},
   "outputs": [],
   "source": [
    "rom.A_.entries"
   ]
  },
  {
   "cell_type": "markdown",
   "metadata": {},
   "source": [
    "Because this is such a simple problem, Operator Inference recovers the exact same operator $\\widehat{\\mathbf{A}}$ as intrusive projection, i.e., $\\tilde{\\mathbf{A}} = \\mathbf{V}_r^{\\top} \\mathbf{A} \\mathbf{V}_r$:"
   ]
  },
  {
   "cell_type": "code",
   "execution_count": null,
   "metadata": {},
   "outputs": [],
   "source": [
    "Atilde = Vr.T @ A @ Vr\n",
    "Atilde"
   ]
  },
  {
   "cell_type": "code",
   "execution_count": null,
   "metadata": {},
   "outputs": [],
   "source": [
    "np.allclose(rom.A_.entries, Atilde)"
   ]
  },
  {
   "cell_type": "markdown",
   "metadata": {},
   "source": [
    "## Simulating the Learned ROM"
   ]
  },
  {
   "cell_type": "markdown",
   "metadata": {},
   "source": [
    "Once the model is fit, we may simulate the ROM with the `predict()` method, which wraps `scipy.integrate.solve_ivp()`.\n",
    "This method takes an initial condition from the original space $\\mathbb{R}^n$, projects it to $\\mathbb{R}^r$, simulates the ROM in $\\mathbb{R}^r$, and maps the results to $\\mathbb{R}^n$."
   ]
  },
  {
   "cell_type": "code",
   "execution_count": null,
   "metadata": {
    "tags": [
     "hide-output"
    ]
   },
   "outputs": [],
   "source": [
    "print_doc(rom.predict)"
   ]
  },
  {
   "cell_type": "code",
   "execution_count": null,
   "metadata": {},
   "outputs": [],
   "source": [
    "Q_ROM = rom.predict(q0, t, method=\"BDF\", max_step=dt)\n",
    "Q_ROM.shape"
   ]
  },
  {
   "cell_type": "markdown",
   "metadata": {},
   "source": [
    ":::{note}\n",
    "\n",
    "The `predict()` method is convenient, but `scipy.integrate.solve_ivp()` implements relatively few time integration schemes.  However, the ROM can be simulated by **any** ODE solver scheme by extracting the inferred operator $\\widehat{\\mathbf{A}}$. \n",
    "If `solver(A, q0)` were a solver for systems of the form $\\frac{\\text{d}}{\\text{d}t}\\mathbf{q} = \\mathbf{A}\\mathbf{q}(t),\\ \\mathbf{q}(0) = \\mathbf{q}_0$, we could simulate the ROM with the following code.\n",
    "\n",
    "```python\n",
    "q0_ = Vr.T @ q0                      # Project the initial conditions.\n",
    "Q_ = solver(rom.A_.entries, q0_)     # Solve the ROM in the reduced space.\n",
    "Q_ROM = Vr @ Q_                      # Map the results to the full space.\n",
    "```\n",
    "\n",
    "More generally, the ROM object has a method `evaluate()` that represents the right-hand side of the model, the $\\widehat{\\mathbf{f}}$ of $\\frac{\\text{d}}{\\text{d}t}\\widehat{\\mathbf{q}}(t) = \\widehat{\\mathbf{f}}(t, \\widehat{\\mathbf{q}}(t))$.\n",
    "All-purpose integrators can therefore be applied to the function `rom.evaluate()`.\n",
    ":::"
   ]
  },
  {
   "cell_type": "markdown",
   "metadata": {},
   "source": [
    "## Evaluating ROM Performance"
   ]
  },
  {
   "cell_type": "markdown",
   "metadata": {},
   "source": [
    "To see how the ROM does, we begin by visualizing the simulation output `Q_ROM`.\n",
    "It should look similar to the plot of the snapshot data `Q`."
   ]
  },
  {
   "cell_type": "code",
   "execution_count": null,
   "metadata": {},
   "outputs": [],
   "source": [
    "plot_heat_data(Q_ROM, \"ROM State Output\")"
   ]
  },
  {
   "cell_type": "markdown",
   "metadata": {},
   "source": [
    "For more detail, we evaluate the $\\ell^2$ error of the ROM output in time, comparing it to the snapshot set."
   ]
  },
  {
   "cell_type": "code",
   "execution_count": null,
   "metadata": {
    "tags": [
     "hide-output"
    ]
   },
   "outputs": [],
   "source": [
    "print_doc(opinf.post.lp_error)"
   ]
  },
  {
   "cell_type": "code",
   "execution_count": null,
   "metadata": {},
   "outputs": [],
   "source": [
    "abs_l2err, rel_l2err = opinf.post.lp_error(Q, Q_ROM)\n",
    "plt.semilogy(t, abs_l2err)\n",
    "plt.title(r\"Absolute $\\ell^2$ Error\")\n",
    "plt.show()"
   ]
  },
  {
   "cell_type": "markdown",
   "metadata": {},
   "source": [
    "In this **extremely** simple example, the error decreases with time (as solutions get quickly pushed to zero), but this is not the kind of error behavior that should be expected for less trivial systems.\n",
    "\n",
    "We can also get a scalar error measurement by calculating the relative Frobenius norm error."
   ]
  },
  {
   "cell_type": "code",
   "execution_count": null,
   "metadata": {
    "tags": [
     "hide-output"
    ]
   },
   "outputs": [],
   "source": [
    "print_doc(opinf.post.frobenius_error)"
   ]
  },
  {
   "cell_type": "code",
   "execution_count": null,
   "metadata": {},
   "outputs": [],
   "source": [
    "abs_froerr, rel_froerr = opinf.post.frobenius_error(Q, Q_ROM)\n",
    "print(f\"Relative error: {rel_froerr:%}\")"
   ]
  },
  {
   "cell_type": "markdown",
   "metadata": {},
   "source": [
    "In other words, the ROM simulation is within 0.1% of the snapshot data.\n",
    "Note that this value is very close to the projection error that we calculated earlier."
   ]
  }
 ],
 "metadata": {
  "celltoolbar": "Tags",
  "kernelspec": {
   "display_name": "Python 3 (ipykernel)",
   "language": "python",
   "name": "python3"
  },
  "language_info": {
   "codemirror_mode": {
    "name": "ipython",
    "version": 3
   },
   "file_extension": ".py",
   "mimetype": "text/x-python",
   "name": "python",
   "nbconvert_exporter": "python",
   "pygments_lexer": "ipython3",
   "version": "3.8.10"
  },
  "toc-showmarkdowntxt": false,
  "toc-showtags": false
 },
 "nbformat": 4,
 "nbformat_minor": 4
}
