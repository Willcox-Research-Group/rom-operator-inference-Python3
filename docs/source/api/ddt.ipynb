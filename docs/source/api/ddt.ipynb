{
 "cells": [
  {
   "cell_type": "markdown",
   "metadata": {},
   "source": [
    "# `opinf.ddt`"
   ]
  },
  {
   "cell_type": "markdown",
   "metadata": {},
   "source": [
    "```{eval-rst}\n",
    ".. automodule:: opinf.ddt\n",
    "\n",
    ".. currentmodule:: opinf.ddt\n",
    "\n",
    "**Classes**\n",
    "\n",
    ".. autosummary::\n",
    "    :toctree: _autosummaries\n",
    "    :nosignatures:\n",
    "\n",
    "    UniformFiniteDifferencer\n",
    "    NonuniformFiniteDifferencer\n",
    "    DerivativeEstimatorTemplate\n",
    "\n",
    "**Finite Difference Schemes for Uniformly Spaced Data**\n",
    "\n",
    "*Forward Differences*\n",
    "\n",
    ".. autosummary::\n",
    "    :toctree: _autosummaries\n",
    "    :nosignatures:\n",
    "\n",
    "    fwd1\n",
    "    fwd2\n",
    "    fwd3\n",
    "    fwd4\n",
    "    fwd5\n",
    "    fwd6\n",
    "\n",
    "*Backward Differences*\n",
    "\n",
    ".. autosummary::\n",
    "    :toctree: _autosummaries\n",
    "    :nosignatures:\n",
    "\n",
    "    bwd1\n",
    "    bwd2\n",
    "    bwd3\n",
    "    bwd4\n",
    "    bwd5\n",
    "    bwd6\n",
    "\n",
    "*Central Differences*\n",
    "\n",
    ".. autosummary::\n",
    "    :toctree: _autosummaries\n",
    "    :nosignatures:\n",
    "\n",
    "    ctr2\n",
    "    ctr4\n",
    "    ctr6\n",
    "\n",
    "*Mixed Differences*\n",
    "\n",
    ".. autosummary::\n",
    "    :toctree: _autosummaries\n",
    "    :nosignatures:\n",
    "\n",
    "    ord2\n",
    "    ord4\n",
    "    ord6\n",
    "    ddt_uniform\n",
    "\n",
    "**Finite Difference Schemes for Nonuniformly Spaced Data**\n",
    "\n",
    ".. autosummary::\n",
    "    :toctree: _autosummaries\n",
    "    :nosignatures:\n",
    "\n",
    "    ddt_nonuniform\n",
    "    ddt\n",
    "\n",
    "```"
   ]
  },
  {
   "cell_type": "markdown",
   "metadata": {},
   "source": [
    "## Time Derivative Estimation"
   ]
  },
  {
   "cell_type": "markdown",
   "metadata": {},
   "source": [
    "To calibrate time-continuous models, Operator Inference requires the time derivative of the state snapshots.\n",
    "For example, consider the LTI system\n",
    "\n",
    "$$\n",
    "\\begin{aligned}\n",
    "    \\ddt\\qhat(t)\n",
    "    = \\Ahat\\qhat(t) + \\Bhat\\u(t).\n",
    "\\end{aligned}\n",
    "$$ (eq:ddt:lti-reduced)\n",
    "\n",
    "Here, $\\qhat(t)\\in\\RR^{r}$ is the time-dependent ([reduced-order](./basis.ipynb)) state and $\\u(t)\\in\\RR^{m}$ is the time-dependent input.\n",
    "In order to learn $\\Ahat$ and $\\Bhat$, Operator Inference solves a regression problem of the form\n",
    "\n",
    "$$\n",
    "\\begin{aligned}\n",
    "    \\min_{\\Ahat,\\Bhat}\\sum_{j=0}^{k-1}\\left\\|\n",
    "    \\Ahat\\qhat_j + \\Bhat\\u_j\n",
    "    - \\dot{\\qhat}_j\n",
    "    \\right\\|_2^2\n",
    "\\end{aligned}\n",
    "$$\n",
    "\n",
    "or similar, where each triplet $(\\qhat_j, \\dot{\\qhat}_j, \\u_j)$ should correspond to the solution of {eq}`eq:ddt:lti-reduced` at some time $t_j$, $j = 0, \\ldots, k - 1$.\n",
    "In particular, we want\n",
    "\n",
    "$$\n",
    "\\begin{aligned}\n",
    "    \\dot{\\qhat}_j\n",
    "    \\approx \\ddt\\qhat(t)\\big|_{t = t_j}\n",
    "    = \\Ahat\\qhat_j + \\Bhat\\u_j.\n",
    "\\end{aligned}\n",
    "$$\n",
    "\n",
    "This module provides tools for estimating the snapshot time derivatives $\\dot{\\qhat}_0,\\ldots,\\dot{\\qhat}_{k-1}\\in\\RR^{r}$ from the reduced snapshots $\\qhat_0,\\ldots,\\qhat_{k-1}\\in\\RR^{r}$."
   ]
  },
  {
   "cell_type": "markdown",
   "metadata": {},
   "source": [
    ":::{warning}\n",
    "In some cases, a full-order model may provide snapshot time derivatives $\\dot{\\q}_0,\\ldots,\\dot{\\q}_{k-1}\\in\\RR^{n}$ in addition to state snapshots $\\q_0,\\ldots,\\q_{k-1}\\in\\RR^{n}$.\n",
    "If any lifting or preprocessing steps are used on the state snapshots, be careful to use the appropriate transformation for snapshot time derivatives, which may be different than the transformation used on the snapshots themselves.\n",
    "\n",
    "For example, consider the affine state approximation $\\q(t) \\approx \\Vr\\qhat(t) + \\bar{\\q}$ with an orthonormal basis matrix $\\Vr\\in\\RR^{n\\times r}$ and a fixed vector $\\bar{\\q}\\in\\RR^{n}$.\n",
    "In this case,\n",
    "\n",
    "$$\n",
    "\\begin{aligned}\n",
    "    \\ddt\\q(t)\n",
    "    \\approx \\ddt\\left[\\Vr\\qhat(t) + \\bar{\\q}\\right]\n",
    "    = \\Vr\\ddt\\left[\\qhat(t)\\right].\n",
    "\\end{aligned}\n",
    "$$\n",
    "\n",
    "Hence, while the compressed state snapshots are given by $\\qhat_j = \\Vr\\trp(\\q_j - \\bar{\\q})$, the correct compressed snapshot time derivatives are $\\dot{\\qhat}_j = \\Vr\\trp\\dot{\\q}_j$ (without the $\\bar{\\q}$ shift).\n",
    "\n",
    "See {meth}`opinf.lift.LifterTemplate.lift_ddts` and {meth}`opinf.pre.TransformerTemplate.transform_ddts`.\n",
    ":::"
   ]
  },
  {
   "cell_type": "markdown",
   "metadata": {},
   "source": [
    "## Partial Estimation"
   ]
  },
  {
   "cell_type": "markdown",
   "metadata": {},
   "source": [
    "Every finite difference scheme has limitations on where the derivative can be estimated.\n",
    "For example, a [first-order backward scheme](opinf.ddt.bwd1) requires $\\qhat(t_{j-1})$ and $\\qhat(t_j)$ to estimate $\\dot{\\qhat}(t_j)$, hence the derivative cannot be estimated at $t = t_0$.\n",
    "\n",
    "The forward, backward, and central difference functions ({func}`fwd1`, {func}`bwd3`, {func}`ctr6`, etc.) take in a snapshot matrix $\\Qhat\\in\\RR^{r\\times k}$, a time step, and (optionally) the corresponding input matrix $\\U\\in\\RR^{m\\times k}$ and return a subset of the snapshots $\\Qhat'\\in\\mathbb{R}^{r\\times k'}$, the corresponding derivatives $\\dot{\\Qhat}\\in\\RR^{r\\times k'}$, and (optionally) the corresponding inputs $\\U'\\in\\RR^{m \\times k'}$."
   ]
  },
  {
   "cell_type": "code",
   "execution_count": null,
   "metadata": {},
   "outputs": [],
   "source": [
    "import opinf\n",
    "import numpy as np\n",
    "import matplotlib.pyplot as plt\n",
    "\n",
    "opinf.utils.mpl_config()"
   ]
  },
  {
   "cell_type": "code",
   "execution_count": null,
   "metadata": {},
   "outputs": [],
   "source": [
    "# Set a state dimension, input dimension, and number of snapshots.\n",
    "r = 20\n",
    "m = 3\n",
    "k = 400\n",
    "\n",
    "# Make test data.\n",
    "t = np.linspace(0, 1, k)\n",
    "Q = np.random.random((r, k))\n",
    "U = np.random.random((m, k))\n",
    "\n",
    "# Extract the time step.\n",
    "dt = t[1] - t[0]"
   ]
  },
  {
   "cell_type": "code",
   "execution_count": null,
   "metadata": {},
   "outputs": [],
   "source": [
    "Qnew, Qdot = opinf.ddt.bwd2(states=Q, dt=dt)\n",
    "print(f\"{Qnew.shape=}, {Qdot.shape=}\")"
   ]
  },
  {
   "cell_type": "code",
   "execution_count": null,
   "metadata": {},
   "outputs": [],
   "source": [
    "Qnew, Qdot, Unew = opinf.ddt.ctr6(states=Q, dt=dt, inputs=U)\n",
    "print(f\"{Qnew.shape=}, {Qdot.shape=}, {Unew.shape=}\")"
   ]
  },
  {
   "cell_type": "markdown",
   "metadata": {},
   "source": [
    "## Complete Estimation"
   ]
  },
  {
   "cell_type": "markdown",
   "metadata": {},
   "source": [
    "The finite difference functions {func}`ord2`, {func}`ord4`, and {func}`ord6` mix forward, central, and backward differences to provide derivative estimates for all provided state snapshots.\n",
    "These schemes are used by {func}`ddt_uniform`, and {func}`ddt_nonuniform`, which only return the estimated derivatives."
   ]
  },
  {
   "cell_type": "code",
   "execution_count": null,
   "metadata": {},
   "outputs": [],
   "source": [
    "Qnew, Qdot = opinf.ddt.ord4(states=Q, dt=dt)\n",
    "print(f\"{Qnew.shape=}, {Qdot.shape=}\")\n",
    "print(f\"{(Qnew is Q)=}\")"
   ]
  },
  {
   "cell_type": "code",
   "execution_count": null,
   "metadata": {},
   "outputs": [],
   "source": [
    "Qdot = opinf.ddt.ddt_uniform(states=Q, dt=dt, order=4)\n",
    "print(f\"{Qdot.shape=}\")"
   ]
  },
  {
   "cell_type": "code",
   "execution_count": null,
   "metadata": {},
   "outputs": [],
   "source": [
    "Qdot = opinf.ddt.ddt_nonuniform(states=Q, t=t)\n",
    "print(f\"{Qdot.shape=}\")"
   ]
  },
  {
   "cell_type": "markdown",
   "metadata": {},
   "source": [
    "## Convenience Classes"
   ]
  },
  {
   "cell_type": "markdown",
   "metadata": {},
   "source": [
    "The classes {class}`UniformFiniteDifferencer` and {class}`NonuniformFiniteDifferencer` wrap the finite difference methods listed above for use with the `ROM` classes.\n",
    "They also have a [`verify()`](opinf.ddt.UniformFiniteDifferencer.verify) method for checking the estimation scheme against true derivatives for a limited set of test cases."
   ]
  },
  {
   "cell_type": "code",
   "execution_count": null,
   "metadata": {},
   "outputs": [],
   "source": [
    "differ = opinf.ddt.UniformFiniteDifferencer(t, scheme=\"fwd1\")\n",
    "differ.verify(plot=True)"
   ]
  },
  {
   "cell_type": "code",
   "execution_count": null,
   "metadata": {},
   "outputs": [],
   "source": [
    "Qnew, Qdot, Unew = differ.estimate(states=Q, inputs=U)\n",
    "print(f\"{Qnew.shape=}, {Qdot.shape=}, {Unew.shape=}\")"
   ]
  },
  {
   "cell_type": "markdown",
   "metadata": {},
   "source": [
    "## Custom Estimators\n",
    "\n",
    "New time derivative estimators can be defined by inheriting from {class}`DerivativeEstimatorTemplate`.\n",
    "Once implemented, the [`verify()`](opinf.ddt.DerivativeEstimatorTemplate.verify) method may be used to compare the results of [`estimate()`](opinf.ddt.DerivativeEstimatorTemplate.estimate) with true derivatives for a limited number of test cases."
   ]
  },
  {
   "cell_type": "code",
   "execution_count": null,
   "metadata": {},
   "outputs": [],
   "source": [
    "class MyEstimator(opinf.ddt.DerivativeEstimatorTemplate):\n",
    "    \"\"\"Inheritance template for custom derivative estimators.\"\"\"\n",
    "\n",
    "    # Constructor -------------------------------------------------------------\n",
    "    def __init__(self, time_domain, hyperparameters):\n",
    "        \"\"\"Set any hyperparameters.\n",
    "        If there are no hyperparameters, __init__() may be omitted.\n",
    "        \"\"\"\n",
    "        super().__init__(time_domain)\n",
    "        self.time_domain = time_domain\n",
    "        # Process hyperparameters here.\n",
    "\n",
    "    # Required methods --------------------------------------------------------\n",
    "    def estimate(self, states, inputs=None):\n",
    "        \"\"\"Estimate the first time derivatives of the states.\n",
    "\n",
    "        Parameters\n",
    "        ----------\n",
    "        states : (r, k) ndarray\n",
    "            State snapshots, either full or (preferably) reduced.\n",
    "        inputs : (m, k) ndarray or None\n",
    "            Inputs corresponding to the state snapshots, if applicable.\n",
    "\n",
    "        Returns\n",
    "        -------\n",
    "        _states : (r, k') ndarray\n",
    "            Subset of the state snapshots.\n",
    "        ddts : (r, k') ndarray\n",
    "            First time derivatives corresponding to ``_states``.\n",
    "        _inputs : (m, k') ndarray or None\n",
    "            Inputs corresponding to ``_states``, if applicable.\n",
    "            **Only returned** if ``inputs`` is provided.\n",
    "        \"\"\"\n",
    "        raise NotImplementedError"
   ]
  }
 ],
 "metadata": {
  "kernelspec": {
   "display_name": "Python 3 (ipykernel)",
   "language": "python",
   "name": "python3"
  },
  "language_info": {
   "codemirror_mode": {
    "name": "ipython",
    "version": 3
   },
   "file_extension": ".py",
   "mimetype": "text/x-python",
   "name": "python",
   "nbconvert_exporter": "python",
   "pygments_lexer": "ipython3",
   "version": "3.12.3"
  }
 },
 "nbformat": 4,
 "nbformat_minor": 4
}
