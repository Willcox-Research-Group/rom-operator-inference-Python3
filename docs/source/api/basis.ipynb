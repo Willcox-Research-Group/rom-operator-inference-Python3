{
 "cells": [
  {
   "cell_type": "markdown",
   "metadata": {},
   "source": [
    "# `opinf.basis`"
   ]
  },
  {
   "cell_type": "markdown",
   "metadata": {},
   "source": [
    "```{eval-rst}\n",
    ".. automodule:: opinf.basis\n",
    "\n",
    ".. currentmodule:: opinf.basis\n",
    "\n",
    "**Functions**\n",
    "\n",
    ".. autosummary::\n",
    "   :toctree: _autosummaries\n",
    "   :nosignatures:\n",
    "\n",
    "   pod_basis\n",
    "   cumulative_energy\n",
    "   residual_energy\n",
    "   svdval_decay\n",
    "\n",
    "**Classes**\n",
    "\n",
    ".. autosummary::\n",
    "   :toctree: _autosummaries\n",
    "   :nosignatures:\n",
    "\n",
    "   LinearBasis\n",
    "   PODBasis\n",
    "   BasisMulti\n",
    "   BasisTemplate\n",
    "```"
   ]
  },
  {
   "cell_type": "markdown",
   "metadata": {},
   "source": [
    "## Low-dimensional Approximations"
   ]
  },
  {
   "cell_type": "markdown",
   "metadata": {},
   "source": [
    "Reduced-order models enact a computational speedup by approximating the $n$-dimensional system state with $r \\ll n$ degrees of freedom and working in the reduced state space.\n",
    "The {mod}`opinf.basis` module provides tools for constructing low-dimensional state approximations."
   ]
  },
  {
   "cell_type": "markdown",
   "metadata": {},
   "source": [
    "::::{admonition} Notation\n",
    ":class: note\n",
    "\n",
    "On this page,\n",
    "- $\\q \\in \\RR^n$ denotes the high-dimensional state vector to be reduced (the _full state_),\n",
    "- $\\qhat\\in\\RR^r$ is the low-dimensional, compressed version of $\\q$ (the _reduced state_),\n",
    "- $\\breve{\\q}\\in\\RR^n$ is the high-dimensional, decompressed version of $\\qhat$ (the _reconstructed state_),\n",
    "- $\\boldsymbol{\\Gamma}:\\RR^r\\to\\RR^n$ is the decompression function defining the approximation of $\\q$ with $\\qhat$ (sometimes called the _decoder_), and\n",
    "- $\\boldsymbol{\\Gamma}^{*}:\\RR^n\\to\\RR^r$ is the compression function corresponding to $\\boldsymbol{\\Gamma}$ (sometimes called the _encoder_).\n",
    "\n",
    "That is, $\\qhat = \\boldsymbol{\\Gamma}^{*}(\\q)$ and $\\q \\approx \\breve{\\q} = \\boldsymbol{\\Gamma}(\\qhat)$.\n",
    "\n",
    ":::{image} ../../images/dimension-reduction.svg\n",
    ":align: center\n",
    ":width: 60 %\n",
    ":::\n",
    "\n",
    "We assume that the full state $\\q$ has already been preprocessed, for instance with the tools described in {mod}`opinf.pre`.\n",
    "::::"
   ]
  },
  {
   "cell_type": "markdown",
   "metadata": {},
   "source": [
    "For a given $\\boldsymbol{\\Gamma}$ and norm $\\|\\cdot\\|$, the natural compression function $\\boldsymbol{\\Gamma}^{*}$ is the one that minimizes the approximation error induced by $\\boldsymbol{\\Gamma}$:\n",
    "\n",
    "$$\n",
    "\\begin{aligned}\n",
    "    \\boldsymbol{\\Gamma}^{*}(\\q)\n",
    "    = \\underset{\\qhat\\in\\RR^{r}}{\\operatorname{argmin}}\\left\\|\n",
    "        \\q - \\boldsymbol{\\boldsymbol{\\Gamma}}(\\qhat)\n",
    "    \\right\\|.\n",
    "\\end{aligned}\n",
    "$$\n",
    "\n",
    "::::{margin}\n",
    ":::{warning}\n",
    "In the literature, the term _project_ is sometimes used to refer to applying the compression function $\\boldsymbol{\\Gamma}^{*}$.\n",
    "In this package, _project_ always refers to compression followed by decompression.\n",
    ":::\n",
    "::::\n",
    "\n",
    "In this case, $P = \\boldsymbol{\\Gamma} \\circ \\boldsymbol{\\Gamma}^{*}:\\RR^n\\to\\RR^n$ satisfies $P(P(\\q)) = P(\\q)$ for all $\\q\\in\\RR^{n}$ and $P$ is called a _projection_.\n",
    "The error between $\\breve{\\q} = P(\\q)$ and $\\q$ is called the _projection error_ at $\\q$, and $\\breve{\\q}$ is, by definition, the closest point to $\\q$ in $\\operatorname{range}(\\boldsymbol{\\Gamma})$.\n",
    "\n",
    ":::{dropdown} Proof\n",
    "For any $\\tilde{\\q}\\in\\RR^r$, we have\n",
    "\n",
    "$$\n",
    "\\begin{aligned}\n",
    "    \\boldsymbol{\\Gamma}^{*}(\\boldsymbol{\\Gamma}(\\tilde{\\q}))\n",
    "    = \\underset{\\qhat\\in\\RR^{r}}{\\operatorname{argmin}}\\left\\|\n",
    "        \\boldsymbol{\\Gamma}(\\tilde{\\q}) - \\boldsymbol{\\boldsymbol{\\Gamma}}(\\qhat)\n",
    "    \\right\\|.\n",
    "\\end{aligned}\n",
    "$$\n",
    "\n",
    "By inspection, setting $\\qhat = \\tilde{\\q}$ achieves the minimal value of zero.\n",
    "Hence, $\\boldsymbol{\\Gamma}^{*}(\\boldsymbol{\\Gamma}(\\tilde{\\q})) = \\tilde{\\q}$, and we have\n",
    "\n",
    "$$\n",
    "\\begin{aligned}\n",
    "    \\boldsymbol{\\Gamma}(\\boldsymbol{\\Gamma}^{*}(\\boldsymbol{\\Gamma}(\\boldsymbol{\\Gamma}^{*}(\\q))))\n",
    "    = \\boldsymbol{\\Gamma}(\\boldsymbol{\\Gamma}^{*}(\\q)).\n",
    "\\end{aligned}\n",
    "$$\n",
    ":::"
   ]
  },
  {
   "cell_type": "markdown",
   "metadata": {},
   "source": [
    ":::{important}\n",
    "The classes defined in {mod}`opinf.basis` are equipped with the following methods.\n",
    "- [**`fit()`**](opinf.basis.BasisTemplate.fit) uses state data to learn appropriate decompression / compression functions.\n",
    "- [**`compress()`**](opinf.basis.BasisTemplate.compress) applies the compression function $\\boldsymbol{\\Gamma}^{*}$.\n",
    "- [**`decompress()`**](opinf.basis.BasisTemplate.decompress) applies the decompression function $\\boldsymbol{\\Gamma}$.\n",
    "- [**`project()`**](opinf.basis.BasisTemplate.project) applies the composition $\\boldsymbol{\\Gamma}\\circ\\boldsymbol{\\Gamma}^{*}$.\n",
    "- [**`projection_error()`**](opinf.basis.BasisTemplate.projection_error) computes the relative or absolute error of the projection at a given state.\n",
    "- [**`verify()`**](opinf.basis.BasisTemplate.verify) checks that composing `decompress()` with `compress()` defines a projection.\n",
    ":::"
   ]
  },
  {
   "cell_type": "markdown",
   "metadata": {},
   "source": [
    "## Linear Bases"
   ]
  },
  {
   "cell_type": "markdown",
   "metadata": {},
   "source": [
    "A linear basis approximates approximates the full state $\\q\\in\\RR^n$ as a linear combination of $r$ _basis vectors_ $\\v_1,\\ldots,\\v_r\\in\\RR^n$.\n",
    "Mathematically, this means the reconstructed state $\\breve{\\q}\\in\\RR^n$ is contained in the $r$-dimensional linear subspace $\\operatorname{span}(\\{\\v_1,\\ldots,\\v_r\\})\\subset\\RR^n$.\n",
    "The reduced state vector $\\qhat = [~\\hat{q}_1~~\\cdots~~\\hat{q}_r~]\\trp\\in\\RR^r$ consists of latent coordinate coefficients for each basis vector.\n",
    "\n",
    "Gathering the basis vectors into the _basis matrix_ $\\Vr = [~\\v_1~~\\cdots~~\\v_r~]\\in\\RR^{n\\times r}$, a linear basis approximation is given by\n",
    "\n",
    "$$\n",
    "\\begin{aligned}\n",
    "    \\q\n",
    "    \\approx \\Vr\\qhat\n",
    "    = \\sum_{i=1}^{r}\\hat{q}_i\\v_i.\n",
    "\\end{aligned}\n",
    "$$\n",
    "\n",
    "If the basis vectors are orthonormal, i.e., $\\Vr\\trp\\Vr = \\I\\in\\RR^{r\\times r}$, then the compression function is defined by the application of $\\Vr\\trp$.\n",
    "\n",
    "::::{grid}\n",
    ":gutter: 3\n",
    ":margin: 2 2 0 0\n",
    "\n",
    ":::{grid-item-card}\n",
    "Compression\n",
    "^^^\n",
    "$\\boldsymbol{\\Gamma}^{*} : \\q \\mapsto \\Vr\\trp\\q$\n",
    ":::\n",
    "\n",
    ":::{grid-item-card}\n",
    "Decompression\n",
    "^^^\n",
    "$\\boldsymbol{\\Gamma} : \\qhat \\mapsto \\Vr\\qhat$\n",
    ":::\n",
    "\n",
    ":::{grid-item-card}\n",
    "Projection\n",
    "^^^\n",
    "$\\boldsymbol{\\Gamma}\\circ\\boldsymbol{\\Gamma}^{*} : \\q \\mapsto \\Vr\\Vr\\trp\\q$.\n",
    ":::\n",
    "::::\n",
    "\n",
    "% This is a test.\n",
    "\n",
    ":::{dropdown} Derivation of $~\\boldsymbol{\\Gamma}^{*}$\n",
    "As stated above, the optimal compression function is defined by\n",
    "\n",
    "$$\n",
    "\\begin{aligned}\n",
    "    \\boldsymbol{\\Gamma}^{*}(\\q)\n",
    "    = \\underset{\\qhat\\in\\RR^{r}}{\\operatorname{argmin}}\\left\\|\n",
    "        \\q - \\boldsymbol{\\boldsymbol{\\Gamma}}(\\qhat)\n",
    "    \\right\\|_2\n",
    "    = \\underset{\\qhat\\in\\RR^{r}}{\\operatorname{arg min}}\\left\\|\n",
    "        \\q - \\Vr\\qhat\n",
    "    \\right\\|_2^2.\n",
    "\\end{aligned}\n",
    "$$\n",
    "\n",
    "This is a linear least-squares problem; the solution is given by the normal equations\n",
    "\n",
    "$$\n",
    "\\begin{aligned}\n",
    "    \\Vr\\trp\\Vr\\qhat\n",
    "    = \\Vr\\trp\\q,\n",
    "\\end{aligned}\n",
    "$$\n",
    "\n",
    "which simplifies to $\\qhat = \\Vr\\trp\\q$ since $\\Vr\\trp\\Vr = \\I$.\n",
    "\n",
    "In general, $\\qhat = (\\Vr\\trp\\Vr)^{-1}\\Vr\\q = \\Vr^{\\dagger}\\q$, where $\\Vr^{\\dagger}$ is the [Moore--Penrose pseudoinverse](https://en.wikipedia.org/wiki/Moore%E2%80%93Penrose_inverse) of $\\Vr$.\n",
    ":::"
   ]
  },
  {
   "cell_type": "markdown",
   "metadata": {},
   "source": [
    "### Known Basis Matrix"
   ]
  },
  {
   "cell_type": "markdown",
   "metadata": {},
   "source": [
    "\n",
    "The {class}`LinearBasis` class creates a linear basis from a given, orthonormal basis matrix.\n",
    "\n",
    "Unlike the other classes in this module, {meth}`LinearBasis.compress` and {meth}`LinearBasis.decompress` can be used immediately after instantiation because the basis matrix is provided up front instead of learned from state data in {meth}`LinearBasis.fit`.\n",
    "The basis matrix is accessible via the `entries` attribute or by indexing with `[:]`."
   ]
  },
  {
   "cell_type": "markdown",
   "metadata": {},
   "source": [
    ":::{admonition} Non-orthonormal Bases\n",
    ":class: tip\n",
    "\n",
    "{class}`LinearBasis` raises a warning if initialized with a basis matrix $\\Vr$ whose columns are not orthonormal.\n",
    "To avoid this issue, a basis matrix can be orthonormalized (without changing the column span) through the [Gram--Schmidt process](https://en.wikipedia.org/wiki/Gram%E2%80%93Schmidt_process) via, e.g., `scpiy.linalg.qr()`.\n",
    "\n",
    "```python\n",
    ">>> import scipy.linalg as la\n",
    "\n",
    ">>> Vr_orth = la.qr(Vr, mode=\"economic\")[0]\n",
    "```\n",
    ":::"
   ]
  },
  {
   "cell_type": "markdown",
   "metadata": {},
   "source": [
    "The following code uses a {class}`LinearBasis` for a trigonometric basis representing the functions $\\sin(2\\pi x)$, $\\sin(4\\pi x)$, ..., $\\sin(2r\\pi x)$ evaluated over a one-dimensional spatial domain."
   ]
  },
  {
   "cell_type": "code",
   "execution_count": null,
   "metadata": {},
   "outputs": [],
   "source": [
    "import numpy as np\n",
    "import scipy.linalg as la\n",
    "import matplotlib.pyplot as plt\n",
    "\n",
    "import opinf\n",
    "\n",
    "# Suppress some warning printouts.\n",
    "import warnings\n",
    "\n",
    "warnings.showwarning = lambda msg, cat, *args: print(f\"{cat.__name__}: {msg}\")\n",
    "opinf.utils.mpl_config()"
   ]
  },
  {
   "cell_type": "code",
   "execution_count": null,
   "metadata": {},
   "outputs": [],
   "source": [
    "# Choose full and reduced state dimensions.\n",
    "n = 500\n",
    "r = 8\n",
    "\n",
    "# Define a spatial domain and evaluate the basis functions over that domain.\n",
    "x = np.linspace(0, 1, n)\n",
    "Vr = np.column_stack([np.sin(2 * k * np.pi * x) for k in range(1, r + 1)])\n",
    "\n",
    "# Check to see if Vr has orthonormal columns.\n",
    "np.round(Vr.T @ Vr, 4)"
   ]
  },
  {
   "cell_type": "markdown",
   "metadata": {},
   "source": [
    "Because $\\Vr\\trp\\Vr$ is diagonal but not the identify matrix, these basis vectors are orthogonal but do not have unit length.\n",
    "Using this basis matrix to initialize a {class}`LinearBasis` results in a warning; additionally, calling {meth}`LinearBasis.verify` raises an error ot indicate that composing the decompression and compression functions does not define a projection."
   ]
  },
  {
   "cell_type": "code",
   "execution_count": null,
   "metadata": {},
   "outputs": [],
   "source": [
    "trig_basis = opinf.basis.LinearBasis(Vr)\n",
    "\n",
    "try:\n",
    "    trig_basis.verify()\n",
    "except Exception as ex:\n",
    "    print(f\"{type(ex).__name__}: {ex}\")"
   ]
  },
  {
   "cell_type": "markdown",
   "metadata": {},
   "source": [
    "To normalize the basis matrix, we divide each column vector by its norm."
   ]
  },
  {
   "cell_type": "code",
   "execution_count": null,
   "metadata": {},
   "outputs": [],
   "source": [
    "# Normalize the columns of the basis matrix.\n",
    "Vr_orth = Vr / la.norm(Vr, axis=0)\n",
    "trig_basis_orth = opinf.basis.LinearBasis(Vr_orth)\n",
    "\n",
    "# Print dimensions and check that the basis matrix is orthonormal.\n",
    "print(trig_basis_orth)\n",
    "trig_basis_orth.verify()\n",
    "\n",
    "# Plot the first few basis vectors as functions of x.\n",
    "trig_basis_orth.plot1D(x, num_vectors=4)\n",
    "plt.show()"
   ]
  },
  {
   "cell_type": "markdown",
   "metadata": {},
   "source": [
    "The next code block checks how well the function $f(x) = x(1 - x)e^x$ can be approximated by this basis."
   ]
  },
  {
   "cell_type": "code",
   "execution_count": null,
   "metadata": {},
   "outputs": [],
   "source": [
    "# Represent a new function in the span of the basis.\n",
    "f = x * (1 - x) * np.exp(x)\n",
    "f_projected = trig_basis_orth.project(f)\n",
    "\n",
    "# Compute the projection error for the new function.\n",
    "error = trig_basis_orth.projection_error(f)\n",
    "print(f\"Relative projection error: {error:%}\")\n",
    "\n",
    "# Plot the original function and its projection with this basis.\n",
    "plt.plot(x, f, label=\"$f(x)$\")\n",
    "plt.plot(x, f_projected, label=\"$f(x)$ projected\")\n",
    "plt.legend(loc=\"upper left\")\n",
    "plt.show()"
   ]
  },
  {
   "cell_type": "markdown",
   "metadata": {},
   "source": [
    "The projection is a poor approximation for the original function because $f(x)$ lies well outside of the span of the basis functions $\\sin(2\\pi x),\\ldots,\\sin(2r\\pi x)$.\n",
    "A better option is a Fourier basis consisting of cosines as well as sines."
   ]
  },
  {
   "cell_type": "code",
   "execution_count": null,
   "metadata": {},
   "outputs": [],
   "source": [
    "# Construct basis vectors with cosines and sines.\n",
    "Vr_raw = np.column_stack(\n",
    "    [np.cos(2 * k * np.pi * x) for k in range(r // 2)]\n",
    "    + [np.sin(2 * k * np.pi * x) for k in range(1, (r // 2) + 1)]\n",
    ")\n",
    "\n",
    "# Orthonormalize the basis with the Gram-Schmidt process.\n",
    "Vr_orth = la.qr(Vr_raw, mode=\"economic\")[0]\n",
    "fourier_basis = opinf.basis.LinearBasis(Vr_orth)\n",
    "\n",
    "# Print dimensions and check that the basis matrix is orthonormal.\n",
    "print(fourier_basis)\n",
    "fourier_basis.verify()\n",
    "\n",
    "# Calculate the projection of f(x) and its relative projection error.\n",
    "f_projected = fourier_basis.project(f)\n",
    "error = fourier_basis.projection_error(f)\n",
    "print(f\"Relative projection error: {error:%}\")\n",
    "\n",
    "# Plot the original function and its projection with this new basis.\n",
    "plt.plot(x, f, label=\"$f(x)$\")\n",
    "plt.plot(x, f_projected, label=\"$f(x)$ projected\")\n",
    "plt.legend(loc=\"upper left\")\n",
    "plt.show()"
   ]
  },
  {
   "cell_type": "markdown",
   "metadata": {},
   "source": [
    "The approximation with the Fourier basis is much better than with the sine basis, even when they have same number of basis vectors.\n",
    "In general, using more basis vectors improves the approximation power of the basis and decreases projection error."
   ]
  },
  {
   "cell_type": "markdown",
   "metadata": {},
   "source": [
    "### Proper Orthogonal Decomposition"
   ]
  },
  {
   "cell_type": "markdown",
   "metadata": {},
   "source": [
    "There is no one basis that works well for every problem.\n",
    "The {class}`PODBasis` class uses [Proper Orthogonal Decomposition](https://en.wikipedia.org/wiki/Proper_orthogonal_decomposition) (POD), a close relative of [Principal Component Analysis](https://en.wikipedia.org/wiki/Principal_component_analysis) (PCA), to construct a linear basis that is tailored to a provided set of state data.\n",
    "This is the most common basis used in Operator Inference applications."
   ]
  },
  {
   "cell_type": "markdown",
   "metadata": {},
   "source": [
    "#### Definition\n"
   ]
  },
  {
   "cell_type": "markdown",
   "metadata": {},
   "source": [
    "In finite dimensions, POD is computed by taking the [singular value decomposition](https://en.wikipedia.org/wiki/Singular_value_decomposition) (SVD) of a snapshot matrix $\\Q = [~\\q_0~~\\cdots~~\\q_{k-1}~]\\in\\RR^{n\\times k}$.\n",
    "If $\\boldsymbol{\\Phi\\Sigma\\Psi}\\trp = \\Q$ is the SVD, then the rank-$r$ POD basis is $\\Vr = \\boldsymbol{\\Phi}_{:,:r}$, the matrix comprising the first $r$ left singular vectors.\n",
    "Since the singular vectors are orthogonal, we always have $\\Vr\\trp\\Vr = \\I$."
   ]
  },
  {
   "cell_type": "markdown",
   "metadata": {},
   "source": [
    ":::{admonition} Example Data\n",
    ":class: tip\n",
    "\n",
    "The following example uses data from a compressible flow problem for an ideal gas as described in {cite}`qian2020liftandlearn,guo2022bayesopinf`.\n",
    "The data consists of three variables recorded at $k = 200$ points in time:\n",
    "\n",
    "- Velocity $v$,\n",
    "- Pressure $p$, and\n",
    "- Specific volume (inverse density) $\\xi = 1/\\rho$.\n",
    "\n",
    "The spatial discretization results in $400$ degrees of freedom per variable, i.e., $n = 3 \\times 400 = 1{,}200$.\n",
    "You can [download the data here](https://github.com/Willcox-Research-Group/rom-operator-inference-Python3/raw/data/basis_example.npy) to repeat the demonstration.\n",
    ":::"
   ]
  },
  {
   "cell_type": "code",
   "execution_count": null,
   "metadata": {},
   "outputs": [],
   "source": [
    "# Load the example snapshot data.\n",
    "snapshots = np.load(\"basis_example.npy\")\n",
    "snapshots.shape"
   ]
  },
  {
   "cell_type": "code",
   "execution_count": null,
   "metadata": {},
   "outputs": [],
   "source": [
    "# Extract the pressure variable from the snapshot data.\n",
    "velocity, pressure, sp_volume = np.split(snapshots, 3, axis=0)\n",
    "\n",
    "pressure.shape"
   ]
  },
  {
   "cell_type": "code",
   "execution_count": null,
   "metadata": {},
   "outputs": [],
   "source": [
    "# Construct a POD basis with a specified number of basis vectors.\n",
    "r = 6\n",
    "pressure_basis = opinf.basis.PODBasis(num_vectors=r, name=\"pressure\")\n",
    "pressure_basis.fit(pressure)\n",
    "print(pressure_basis)\n",
    "\n",
    "# Plot the first few vectors.\n",
    "pressure_basis.plot1D()\n",
    "plt.show()"
   ]
  },
  {
   "cell_type": "markdown",
   "metadata": {},
   "source": [
    "#### Selecting the Reduced Dimension"
   ]
  },
  {
   "cell_type": "markdown",
   "metadata": {},
   "source": [
    "\n",
    "By default, {meth}`PODBasis.fit` stores all computed basis vectors, and the reduced state dimension $r$ can be changed on the fly with {meth}`PODBasis.set_dimension`.\n",
    "In this case, we can increase the reduced state dimension up to $k = 200$.\n",
    "However, we often don't need (or want) all $k$ basis vectors---as $r$ increases so does the computational cost of solving the eventual reduced-order model, and at some point adding additional vectors does not significantly increase the approximation power of the basis.\n",
    "\n",
    "The singular values of the snapshot matrix $\\Q$ can provide guidance for choosing an appropriate reduced state dimension.\n",
    "There are four related criteria stemming from the singular values $\\sigma_1 > \\sigma_2 > \\cdots > \\sigma_k$.\n",
    "{class}`PODBasis` has methods for visualizing each criteria, and {meth}`PODBasis.set_dimension` has arguments related to each.\n",
    "\n",
    "```{eval-rst}\n",
    ".. currentmodule:: opinf.basis.PODBasis\n",
    "```\n",
    "\n",
    "| Criterion            | Definition | {meth}`set_dimension` arg | Visualization |\n",
    "| -------------------: | :--------- |:------------------------- | :------------ |\n",
    "| Singular value decay | $\\sigma_i \\ge \\xi$ for $i\\le r$ | `svdval_threshold` $\\xi$ | {meth}`plot_svdval_decay` |\n",
    "| Cumulative energy    | $\\frac{\\sum_{i=1}^r\\sigma_i^2}{\\sum_{j=1}^k\\sigma_j^2} \\ge \\kappa$ | `cumulative_energy` $\\kappa$ | {meth}`plot_cumulative_energy` |\n",
    "| Residual energy      | $\\frac{\\sum_{i=r+1}^k\\sigma_i^2}{\\sum_{j=1}^k\\sigma_j^2} \\le \\epsilon$ | `residual_energy` $\\epsilon$ | {meth}`plot_residual_energy` | \n",
    "| Projection error     | $\\frac{\\\\|\\Q - \\Vr\\Vr\\trp\\Q\\\\|_F}{\\\\|\\Q\\\\|_F} \\le \\rho$ | `projection_error` $\\rho$ | `plot_projection_error` |\n",
    "\n",
    "```{eval-rst}\n",
    ".. currentmodule:: opinf.basis\n",
    "```\n",
    "\n",
    "These singular value-based selection criteria are all related.\n",
    "In particular, the squared projection error of the snapshot matrix is equal to the residual energy:\n",
    "\n",
    "$$\n",
    "\\begin{aligned}\n",
    "    \\frac{\\|\\Q - \\Vr\\Vr\\trp\\Q\\|_{F}^{2}}{\\|\\Q\\|_{F}^{2}}\n",
    "    = \\displaystyle\\frac{\\sum_{j = r + 1}^{\\ell}\\sigma_{j}^{2}}{\\sum_{j=1}^{\\ell}\\sigma_{j}^{2}}.\n",
    "\\end{aligned}\n",
    "$$\n",
    "\n",
    ":::{dropdown} Proof\n",
    "Let $\\Q = \\boldsymbol{\\Phi}\\boldsymbol{\\Sigma}\\boldsymbol{\\Psi}\\trp$ be the thin singular value decomposition of $\\Q\\in\\RR^{n \\times k}$,\n",
    "meaning $\\boldsymbol{\\Phi}\\in\\RR^{n\\times \\ell}$, $\\boldsymbol{\\Sigma}\\in\\RR^{\\ell \\times \\ell}$, and $\\boldsymbol{\\Psi}\\in\\RR^{k\\times \\ell}$,\n",
    "with $\\boldsymbol{\\Phi}\\trp\\boldsymbol{\\Phi} = \\boldsymbol{\\Psi}\\trp\\boldsymbol{\\Psi} = \\I$.\n",
    "Splitting the decomposition into \"first $r$ modes\" and \"remaining modes\" gives\n",
    "\n",
    "$$\n",
    "    \\Q\n",
    "    = \\left[\\begin{array}{cc}\n",
    "        \\boldsymbol{\\Phi}_{r} & \\boldsymbol{\\Phi}_{\\perp}\n",
    "    \\end{array}\\right]\n",
    "    \\left[\\begin{array}{cc}\n",
    "        \\boldsymbol{\\Sigma}_{r} & \\\\\n",
    "        & \\boldsymbol{\\Sigma}_{\\perp}\n",
    "    \\end{array}\\right]\n",
    "    \\left[\\begin{array}{c}\n",
    "        \\boldsymbol{\\Psi}_{r}\\trp \\\\\n",
    "        \\boldsymbol{\\Psi}_{\\perp}\\trp\n",
    "    \\end{array}\\right]\n",
    "    = \\underbrace{\\boldsymbol{\\Phi}_{r}\\boldsymbol{\\Sigma}_{r}\\boldsymbol{\\Psi}_{r}\\trp}_{\\Q_{r}} + \\underbrace{\\boldsymbol{\\Phi}_{\\perp}\\boldsymbol{\\Sigma}_{\\perp}\\boldsymbol{\\Psi}_{\\perp}\\trp}_{\\Q_{\\perp}},\n",
    "$$\n",
    "\n",
    "where\n",
    "\n",
    "\\begin{align*}\n",
    "    &\\boldsymbol{\\Phi}_{r}\\in\\RR^{n\\times r},\n",
    "    &\n",
    "    &\\boldsymbol{\\Phi}_{\\perp}\\in\\RR^{n\\times (\\ell - r)},\n",
    "    &\n",
    "    &\\boldsymbol{\\Phi}_{r}\\trp\\boldsymbol{\\Phi}_{r}\n",
    "    = \\boldsymbol{\\Psi}_{r}\\trp\\boldsymbol{\\Psi}_{r}\n",
    "    = \\I,\n",
    "    \\\\\n",
    "    &\\boldsymbol{\\Sigma}_{r}\\in\\RR^{r\\times r},\n",
    "    &\n",
    "    &\\boldsymbol{\\Sigma}_{\\perp}\\in\\RR^{(\\ell - r)\\times (\\ell - r)},\n",
    "    &\n",
    "    &\\boldsymbol{\\Phi}_{\\perp}\\trp\\boldsymbol{\\Phi}_{\\perp}\n",
    "    = \\boldsymbol{\\Psi}_{\\perp}\\trp\\boldsymbol{\\Psi}_{\\perp}\n",
    "    = \\I,\n",
    "    \\\\\n",
    "    &\\boldsymbol{\\Psi}_{r}\\in\\RR^{k\\times r},\n",
    "    &\n",
    "    &\\boldsymbol{\\Psi}_{\\perp}\\in\\RR^{k\\times (\\ell - r)},\n",
    "    &\n",
    "    &\\boldsymbol{\\Phi}_{r}\\trp\\boldsymbol{\\Phi}_{\\perp}\n",
    "    = \\boldsymbol{\\Psi}_{r}\\trp\\boldsymbol{\\Psi}_{\\perp}\n",
    "    = \\mathbf{0}.\n",
    "\\end{align*}\n",
    "\n",
    "We have defined $\\Vr = \\boldsymbol{\\Phi}_{r}$.\n",
    "Using $\\Vr\\trp\\boldsymbol{\\Phi}_{r} = \\Vr\\trp\\Vr = \\I$\n",
    "and $\\Vr\\trp\\boldsymbol{\\Phi}_{\\perp} = \\boldsymbol{\\Phi}_{r}\\boldsymbol{\\Phi}_{\\perp} = \\mathbf{0}$,\n",
    "\n",
    "\\begin{align*}\n",
    "    \\Vr\\Vr\\trp\\Q_{r}\n",
    "    &= \\Vr\\Vr\\trp\\boldsymbol{\\Phi}_{r}\\boldsymbol{\\Sigma}_{r}\\boldsymbol{\\Psi}_{r}\\trp\n",
    "    = \\Vr\\boldsymbol{\\Sigma}_{r}\\boldsymbol{\\Psi}_{r}\\trp\n",
    "    = \\Q_{r},\n",
    "    \\\\\n",
    "    \\Vr\\Vr\\trp\\Q_{\\perp}\n",
    "    &= \\Vr\\Vr\\trp\\boldsymbol{\\Phi}_{\\perp}\\boldsymbol{\\Sigma}_{\\perp}\\boldsymbol{\\Psi}_{\\perp}\\trp\n",
    "    = \\mathbf{0}.\n",
    "\\end{align*}\n",
    "\n",
    "That is, $\\Vr\\Vr\\trp\\Q = \\Vr\\Vr\\trp(\\Q_{r} + \\Q_{\\perp}) = \\Q_{r}$.\n",
    "It follows that\n",
    "\n",
    "$$\n",
    "    \\Q - \\Vr\\Vr\\trp\\Q\n",
    "    = \\Q_{r} + \\Q_{\\perp} - \\Q_{r}\n",
    "    = \\Q_{\\perp}\n",
    "    = \\boldsymbol{\\Phi}_{\\perp}\\boldsymbol{\\Sigma}_{\\perp}\\boldsymbol{\\Psi}_{\\perp}\\trp.\n",
    "$$\n",
    "\n",
    "Since $\\boldsymbol{\\Phi}_{\\perp}$ and $\\boldsymbol{\\Psi}_{\\perp}$ have orthonormal columns,\n",
    "\n",
    "$$\n",
    "    \\left\\|\\boldsymbol{\\Phi}_{\\perp}\\boldsymbol{\\Sigma}_{\\perp}\\boldsymbol{\\Psi}_{\\perp}\\trp\\right\\|_{F}^{2}\n",
    "    = \\left\\|\\boldsymbol{\\Sigma}_{\\perp}\\right\\|_{F}^{2}\n",
    "    = \\sum_{j=r + 1}^{\\ell}\\sigma_{j}^{2}.\n",
    "$$\n",
    "\n",
    "Putting it all together,\n",
    "\n",
    "$$\n",
    "    \\frac{\\|\\Q - \\Vr\\Vr\\trp\\Q\\|_{F}^{2}}{\\|\\Q\\|_{F}^{2}}\n",
    "    = \\frac{\\|\\boldsymbol{\\Sigma}_{\\perp}\\|_{F}^{2}}{\\|\\boldsymbol{\\Sigma}\\|_{F}^{2}}\n",
    "    = \\frac{\\sum_{j=r + 1}^{\\ell}\\sigma_{j}^{2}}{\\sum_{j=1}^{\\ell}\\sigma_{j}^{2}}.\n",
    "$$\n",
    "\n",
    ":::\n",
    "\n",
    "{meth}`PODBasis.plot_energy` visualizes several criteria together."
   ]
  },
  {
   "cell_type": "code",
   "execution_count": null,
   "metadata": {},
   "outputs": [],
   "source": [
    "# Show the number of normalized singular values above a given threshold.\n",
    "pressure_basis.plot_svdval_decay(threshold=1e-5)\n",
    "plt.show()"
   ]
  },
  {
   "cell_type": "code",
   "execution_count": null,
   "metadata": {},
   "outputs": [],
   "source": [
    "# Set the reduced state dimension based on a singular value threshold.\n",
    "pressure_basis.set_dimension(svdval_threshold=1e-5)\n",
    "print(pressure_basis)\n",
    "\n",
    "# Plot the singular value decay and the singular value energies.\n",
    "pressure_basis.plot_energy(right=100)\n",
    "plt.show()"
   ]
  },
  {
   "cell_type": "markdown",
   "metadata": {},
   "source": [
    "The {func}`pod_basis` function computes a POD basis matrix and the corresponding singular values.\n",
    "The functions {func}`svdval_decay`, {func}`cumulative_energy`, and {func}`residual_energy` visualize the dimension selection criteria."
   ]
  },
  {
   "cell_type": "markdown",
   "metadata": {},
   "source": [
    "#### Centered POD"
   ]
  },
  {
   "cell_type": "markdown",
   "metadata": {},
   "source": [
    "{class}`PODBasis` uses a linear approximation $\\q\\approx\\Vr\\qhat$ with $\\Vr$ derived from the SVD of a snapshot matrix $\\Q = [~\\q_0~~\\cdots~~\\q_{k-1}~]\\in\\RR^{n \\times k}$.\n",
    "It is often advantageous to first center the training data columnwise, in which case POD coincides with PCA.\n",
    "This results in an _affine_ state approximation,\n",
    "\n",
    "$$\n",
    "\\begin{aligned}\n",
    "    \\q \\approx \\Vr\\qhat + \\bar{\\q},\n",
    "    \\qquad\\qquad\n",
    "    \\bar{\\q} = \\frac{1}{k}\\sum_{j=0}^{k-1}\\q_j.\n",
    "\\end{aligned}\n",
    "$$\n",
    "\n",
    "To get this kind of approximation, center the snapshot matrix first with {class}`opinf.pre.ShiftScaleTransformer`, and remember to \"uncenter\" the results of `decompress()`."
   ]
  },
  {
   "cell_type": "code",
   "execution_count": null,
   "metadata": {},
   "outputs": [],
   "source": [
    "shifter = opinf.pre.ShiftScaleTransformer(centering=True)\n",
    "pressure_centered = shifter.fit_transform(pressure)\n",
    "\n",
    "# Train a centered POD basis and plot the first few basis vectors.\n",
    "pressure_pca = opinf.basis.PODBasis(num_vectors=r).fit(pressure_centered)\n",
    "\n",
    "# To project the (uncentered) pressure, transform, project, then untransform.\n",
    "pressure_projected = shifter.inverse_transform(\n",
    "    pressure_pca.project(shifter.transform(pressure))\n",
    ")\n",
    "\n",
    "# Compute the projection error.\n",
    "la.norm(pressure - pressure_projected) / la.norm(pressure)"
   ]
  },
  {
   "cell_type": "code",
   "execution_count": null,
   "metadata": {},
   "outputs": [],
   "source": [
    "# Plot the first few basis vectors.\n",
    "pressure_pca.plot1D()\n",
    "plt.show()"
   ]
  },
  {
   "cell_type": "markdown",
   "metadata": {},
   "source": [
    "The principal basis vector of the previous, non-centered basis is almost constant when compared to the other basis vectors.\n",
    "By contrast, the new, centered basis does not have any relatively constant basis vectors."
   ]
  },
  {
   "cell_type": "code",
   "execution_count": null,
   "metadata": {},
   "outputs": [],
   "source": [
    "# Check the variance of the first basis vector in the non-centered case.\n",
    "np.var(pressure_basis.entries[:, 0])"
   ]
  },
  {
   "cell_type": "code",
   "execution_count": null,
   "metadata": {},
   "outputs": [],
   "source": [
    "# Check the variance of each basis vector in the centered case.\n",
    "np.var(pressure_pca.entries, axis=0).min()"
   ]
  },
  {
   "cell_type": "markdown",
   "metadata": {},
   "source": [
    "Applying a centering can be interpreted more or less as removing the principal component of non-centered data.\n",
    "In other words, [the principal component of non-centered data is often comparable to the mean of the data](https://en.wikipedia.org/wiki/Principal_component_analysis#Further_considerations)."
   ]
  },
  {
   "cell_type": "markdown",
   "metadata": {},
   "source": [
    "## Multivariable Data"
   ]
  },
  {
   "cell_type": "markdown",
   "metadata": {},
   "source": [
    "For systems where the full state consists of several variables (pressure, velocity, temperature, etc.), there are two ways to approach a dimensionality reduction.\n",
    "In this section we use $\\q^{(i)}\\in\\RR^{n_i}$ to denote the $i$-th of $n_q$ state variables, $i = 0, \\ldots, n_q - 1$.\n",
    "For instance, $\\q^{(0)}\\in\\RR^{100}$ could represent the velocity measured at $n_0 = 100$ spatial points and $\\q^{(1)}\\in\\RR^{200}$ could be the pressure at $n_1 = 200$ spatial points.\n",
    "In many application the state variables are all defined on the same spatial grid with $n_x$ nodes, in which case $n_0 = \\cdots = n_{n_q-1} = n_x$."
   ]
  },
  {
   "cell_type": "markdown",
   "metadata": {},
   "source": [
    "### Monolithic Reduction"
   ]
  },
  {
   "cell_type": "markdown",
   "metadata": {},
   "source": [
    "One option is to reduce all state variables jointly by considering the concatenated state\n",
    "\n",
    "$$\n",
    "\\begin{aligned}\n",
    "    \\q = \\left[\\begin{array}{c}\n",
    "        \\q^{(0)} \\\\ \\vdots \\\\ \\q^{(n_q - 1)}\n",
    "    \\end{array}\\right]\n",
    "    \\in \\RR^{n},\n",
    "\\end{aligned}\n",
    "$$\n",
    "\n",
    "where $n = \\sum_{i=0}^{n_q - 1} n_i$.\n",
    "A low-dimensional approximation $\\q \\approx \\boldsymbol{\\Gamma}(\\qhat)$ and a corresponding compression function $\\boldsymbol{\\Gamma}^{*}$ can be used to define a dimensionality reduction without reference to the sub-dimensions $n_i$.\n",
    "With this approach, it is often very important to [preprocess](opinf.pre) the state variables so that their entries are of similar magnitude.\n",
    "For instance, the following code creates a single {class}`PODBasis` for velocity, pressure, and specific volume jointly _without_ and preprocessing."
   ]
  },
  {
   "cell_type": "code",
   "execution_count": null,
   "metadata": {},
   "outputs": [],
   "source": [
    "# Define a basis using the raw snapshot data for all three variables.\n",
    "joint_pod = opinf.basis.PODBasis(\n",
    "    residual_energy=1e-8,\n",
    "    name=\"velocity-pressure-specificvolume\",\n",
    ")\n",
    "joint_pod.fit(snapshots)\n",
    "\n",
    "print(joint_pod)\n",
    "\n",
    "# Plot the basis vectors.\n",
    "joint_pod.plot1D()\n",
    "plt.show()"
   ]
  },
  {
   "cell_type": "markdown",
   "metadata": {},
   "source": [
    "This basis is highly suspicious: the left third of the plot above shows the portion of the basis vectors corresponding to the velocity, the middle third is for the pressure, and the final third is for the specific volume.\n",
    "The pressure basis vector entries have a much stronger magnitude than the entries for the other two variables because the pressure data is of much larger magnitude than the other variables.\n",
    "Furthermore, the relative projection error for the snapshot set as a whole is low, but it varies significantly across the variables."
   ]
  },
  {
   "cell_type": "code",
   "execution_count": null,
   "metadata": {},
   "outputs": [],
   "source": [
    "def projection_error_report(snapshots_projected):\n",
    "    \"\"\"Compute the projection error for each state variable separately.\"\"\"\n",
    "    velocity_proj, pressure_proj, spvol_proj = np.split(snapshots_projected, 3)\n",
    "\n",
    "    # Compute projection errors for the physical variables individually.\n",
    "    v_error = la.norm(velocity_proj - velocity) / la.norm(velocity)\n",
    "    p_error = la.norm(pressure_proj - pressure) / la.norm(pressure)\n",
    "    s_error = la.norm(spvol_proj - sp_volume) / la.norm(sp_volume)\n",
    "    joint_error = la.norm(snapshots_projected - snapshots) / la.norm(snapshots)\n",
    "\n",
    "    # Report the errors.\n",
    "    print(f\"Relative projection error of velocity:\\t\\t{v_error:.4%}\")\n",
    "    print(f\"Relative projection error of pressure:\\t\\t{p_error:.4%}\")\n",
    "    print(f\"Relative projection error of specific volume:\\t{s_error:.4%}\")\n",
    "    print(f\"Relative projection error of joint variables:\\t{joint_error:.4%}\")"
   ]
  },
  {
   "cell_type": "code",
   "execution_count": null,
   "metadata": {},
   "outputs": [],
   "source": [
    "projection_error_report(joint_pod.project(snapshots))"
   ]
  },
  {
   "cell_type": "markdown",
   "metadata": {},
   "source": [
    "To improve the basis, one option is to scale each variables to the range $[0, 1]$ using {class}`opinf.pre.TransformerMulti`."
   ]
  },
  {
   "cell_type": "code",
   "execution_count": null,
   "metadata": {},
   "outputs": [],
   "source": [
    "# Initialize a different scaling for each physical variable.\n",
    "euler_transformer = opinf.pre.TransformerMulti(\n",
    "    [\n",
    "        opinf.pre.ShiftScaleTransformer(\n",
    "            scaling=\"minmax\",\n",
    "            name=\"velocity\",\n",
    "            verbose=True,\n",
    "        ),\n",
    "        opinf.pre.ShiftScaleTransformer(\n",
    "            scaling=\"minmax\",\n",
    "            name=\"pressure\",\n",
    "            verbose=True,\n",
    "        ),\n",
    "        opinf.pre.ShiftScaleTransformer(\n",
    "            scaling=\"minmax\",\n",
    "            name=\"specific volume\",\n",
    "            verbose=True,\n",
    "        ),\n",
    "    ]\n",
    ")\n",
    "\n",
    "# Learn and apply the transformation.\n",
    "snapshots_scaled = euler_transformer.fit_transform(snapshots)"
   ]
  },
  {
   "cell_type": "code",
   "execution_count": null,
   "metadata": {},
   "outputs": [],
   "source": [
    "# Learn a new POD basis from the scaled data.\n",
    "joint_pod.fit(snapshots_scaled)\n",
    "\n",
    "print(joint_pod)\n",
    "\n",
    "# Plot the basis vectors.\n",
    "joint_pod.plot1D(num_vectors=7)\n",
    "plt.show()"
   ]
  },
  {
   "cell_type": "markdown",
   "metadata": {},
   "source": [
    "The transition zones between the three variables are still visible, but now the basis vector entries are all of the same order of magnitude.\n",
    "The projection error across the variables is also much more consistent than before (remember to unscale the projection!)."
   ]
  },
  {
   "cell_type": "code",
   "execution_count": null,
   "metadata": {},
   "outputs": [],
   "source": [
    "projection_error_report(\n",
    "    euler_transformer.inverse_transform(joint_pod.project(snapshots_scaled))\n",
    ")"
   ]
  },
  {
   "cell_type": "markdown",
   "metadata": {},
   "source": [
    "### Multilithic Reduction"
   ]
  },
  {
   "cell_type": "markdown",
   "metadata": {},
   "source": [
    "Instead of reducing multiple variables jointly, it is sometimes advantageous to define different reductions for each variable separately.\n",
    "Mathematically, we define approximations $\\q^{(i)} \\approx \\boldsymbol{\\Gamma}_{i}(\\qhat^{(i)})$ for $\\qhat^{(i)}\\in\\RR^{r_i}$ for each $i = 0, \\ldots, n_q - 1$, each with corresponding compression functions $\\boldsymbol{\\Gamma}_{i}^{*}:\\RR^{r_i}\\to\\RR^{n_i}$.\n",
    "The state approximation for the joint state $\\q$ is then\n",
    "\n",
    "$$\n",
    "\\begin{aligned}\n",
    "    \\left[\\begin{array}{c}\n",
    "        \\q^{(0)} \\\\ \\vdots \\\\ \\q^{(n_q - 1)}\n",
    "    \\end{array}\\right]\n",
    "    = \\q\n",
    "    \\approx \n",
    "    \\boldsymbol{\\Gamma}(\\qhat)\n",
    "    = \\left[\\begin{array}{c}\n",
    "        \\boldsymbol{\\Gamma}_{0}(\\qhat^{(0)})\n",
    "        \\\\ \\vdots \\\\ \n",
    "        \\boldsymbol{\\Gamma}_{n_q-1}(\\qhat^{(n_q - 1)})\n",
    "    \\end{array}\\right],\n",
    "    \\qquad\n",
    "    \\qhat\n",
    "    = \\left[\\begin{array}{c}\n",
    "        \\qhat^{(0)} \\\\ \\vdots \\\\ \\qhat^{(n_q - 1)}\n",
    "    \\end{array}\\right]\n",
    "    \\in \\RR^{r},\n",
    "\\end{aligned}\n",
    "$$\n",
    "\n",
    "where $r = \\sum_{i=0}^{n_q - 1}r_i$.\n",
    "This type of reduction can be helpful for structure preservation because the vector $\\qhat^{(i)}$ is the latent representation for $\\q^{(i)}$, as opposed to the monolithic case in which each of the entries of $\\qhat$ affect every $\\q^{(0)},\\ldots,\\q^{(n_q-1)}$.\n",
    "\n",
    "The {class}`BasisMulti` class joins individual bases to reduce multiple variables independently.\n",
    "The bases need not have the same dimensions or even be of the same class."
   ]
  },
  {
   "cell_type": "code",
   "execution_count": null,
   "metadata": {},
   "outputs": [],
   "source": [
    "euler_pod = opinf.basis.BasisMulti(\n",
    "    [\n",
    "        opinf.basis.PODBasis(residual_energy=1e-8, name=\"velocity\"),\n",
    "        opinf.basis.PODBasis(projection_error=1e-2, name=\"pressure\"),\n",
    "        opinf.basis.PODBasis(num_vectors=10, name=\"specific volume\"),\n",
    "    ],\n",
    ")\n",
    "\n",
    "euler_pod.fit(snapshots)\n",
    "print(euler_pod)"
   ]
  },
  {
   "cell_type": "code",
   "execution_count": null,
   "metadata": {},
   "outputs": [],
   "source": [
    "projection_error_report(euler_pod.project(snapshots))"
   ]
  },
  {
   "cell_type": "markdown",
   "metadata": {},
   "source": [
    "Note that we are working with the non-scaled data again.\n",
    "Because the variables are treated separately, we can easily adjust the accuracy of the approximation."
   ]
  },
  {
   "cell_type": "code",
   "execution_count": null,
   "metadata": {},
   "outputs": [],
   "source": [
    "# Use more basis vectors for the pressure.\n",
    "euler_pod[1].set_dimension(projection_error=1e-4)\n",
    "print(euler_pod[1], end=\"\\n\\n\")\n",
    "\n",
    "projection_error_report(euler_pod.project(snapshots))"
   ]
  },
  {
   "cell_type": "markdown",
   "metadata": {},
   "source": [
    ":::{admonition} Block-diagonal Linear Basis\n",
    ":class: tip\n",
    "\n",
    "In multilithic reduction, if all of the state approximations are linear, then the overall state approximation is linear with a block-diagonal matrix $\\Vr$.\n",
    "Specifically, if $\\q^{(i)} \\approx \\Vr^{(i)}\\qhat^{(i)}$, then the approximation for the joint state is $\\q \\approx \\Vr\\qhat$ where\n",
    "\n",
    "$$\n",
    "\\begin{aligned}\n",
    "    \\Vr\n",
    "    = \\operatorname{blockdiag}(\\Vr^{(0)},\\ldots,\\Vr^{(n_q - 1)})\n",
    "    = \\left[\\begin{array}{ccc}\n",
    "        \\Vr^{(0)} & & \\\\\n",
    "        & \\ddots & \\\\\n",
    "        & & \\Vr^{(n_q - 1)}\n",
    "    \\end{array}\\right]\n",
    "    \\in \\RR^{n \\times r}.\n",
    "\\end{aligned}\n",
    "$$\n",
    ":::"
   ]
  },
  {
   "cell_type": "markdown",
   "metadata": {},
   "source": [
    "## Custom Bases"
   ]
  },
  {
   "cell_type": "markdown",
   "metadata": {},
   "source": [
    "New bases can be defined by inheriting from the {class}`BasisTemplate`.\n",
    "Once implemented, the `verify` method may be used to test for consistency between the required methods."
   ]
  },
  {
   "cell_type": "code",
   "execution_count": null,
   "metadata": {},
   "outputs": [],
   "source": [
    "class MyBasis(opinf.basis.BasisTemplate):\n",
    "    \"\"\"Custom basis for dimension reduction.\"\"\"\n",
    "\n",
    "    # Constructor -------------------------------------------------------------\n",
    "    def __init__(self, hyperparameters, name=None):\n",
    "        \"\"\"Set any basis hyperparameters.\n",
    "        If there are no hyperparameters, __init__() may be omitted.\n",
    "        \"\"\"\n",
    "        super().__init__(name)\n",
    "        # Process/store 'hyperparameters' here.\n",
    "\n",
    "    # Required methods --------------------------------------------------------\n",
    "    def fit(self, states):\n",
    "        \"\"\"Construct the basis.\"\"\"\n",
    "        # Set the state dimensions.\n",
    "        self.full_state_dimension = NotImplemented\n",
    "        self.reduced_state_dimension = NotImplemented\n",
    "\n",
    "        # Learn the basis from `states` to enable compress() and decompress().\n",
    "        raise NotImplementedError\n",
    "\n",
    "    def compress(self, states):\n",
    "        \"\"\"Map high-dimensional states to low-dimensional latent\n",
    "        coordinates.\n",
    "        \"\"\"\n",
    "        raise NotImplementedError\n",
    "\n",
    "    def decompress(self, states_compressed, locs=None):\n",
    "        \"\"\"Map low-dimensional latent coordinates to high-dimensional\n",
    "        states.\n",
    "        \"\"\"\n",
    "        raise NotImplementedError\n",
    "\n",
    "    # Optional methods --------------------------------------------------------\n",
    "    # These may be deleted if not implemented.\n",
    "    def save(self, savefile, overwrite=False):\n",
    "        \"\"\"Save the basis to an HDF5 file.\"\"\"\n",
    "        return NotImplemented\n",
    "\n",
    "    @classmethod\n",
    "    def load(cls, loadfile):\n",
    "        \"\"\"Load a basis from an HDF5 file.\"\"\"\n",
    "        return NotImplemented"
   ]
  },
  {
   "cell_type": "markdown",
   "metadata": {},
   "source": [
    "See {class}`BasisTemplate` for details on the arguments for each method."
   ]
  },
  {
   "cell_type": "markdown",
   "metadata": {},
   "source": [
    ":::{admonition} Developer Note\n",
    ":class: note\n",
    "\n",
    "In order for a custom basis to interface correctly with {class}`BasisMulti`, the `save()` and `load()` methods should be implemented using {func}`opinf.utils.hdf5_savehandle()` and {func}`opinf.utils.hdf5_loadhandle()`, respectively.\n",
    ":::"
   ]
  },
  {
   "cell_type": "markdown",
   "metadata": {},
   "source": [
    "### Example: Canonical Projection"
   ]
  },
  {
   "cell_type": "markdown",
   "metadata": {},
   "source": [
    "The following custom basis reduces the full state vector $\\q$ by selecting a limited number of entries.\n",
    "This strategy is useful for impementing the discrete empirical interpolation method (DEIM)."
   ]
  },
  {
   "cell_type": "code",
   "execution_count": null,
   "metadata": {},
   "outputs": [],
   "source": [
    "class CanonicalBasis(opinf.basis.BasisTemplate):\n",
    "    \"\"\"Canonical projection basis.\"\"\"\n",
    "\n",
    "    def __init__(self, num_elements, name=None):\n",
    "        \"\"\"Set the number of locations to keep when the full state is\n",
    "        compressed.\n",
    "        \"\"\"\n",
    "        super().__init__(name)\n",
    "        self.reduced_state_dimension = num_elements\n",
    "        self.indices = None\n",
    "\n",
    "    def fit(self, states):\n",
    "        \"\"\"Randomly select locations to keep when the full state is\n",
    "        compressed.\n",
    "        \"\"\"\n",
    "        self.full_state_dimension = states.shape[0]\n",
    "        self.indices = np.sort(\n",
    "            np.random.choice(\n",
    "                self.full_state_dimension,\n",
    "                size=self.reduced_state_dimension,\n",
    "                replace=False,\n",
    "            )\n",
    "        )\n",
    "\n",
    "    def compress(self, states):\n",
    "        \"\"\"Extract the selected elements from the full state.\"\"\"\n",
    "        if self.indices is None:\n",
    "            raise AttributeError(\"indices not set, call fit()\")\n",
    "        return states[self.indices]\n",
    "\n",
    "    def decompress(self, states_compressed, locs=None):\n",
    "        \"\"\"Populate a full state with the extracted elements.\"\"\"\n",
    "        if self.indices is None:\n",
    "            raise AttributeError(\"indices not set, call fit()\")\n",
    "\n",
    "        shape = self.full_state_dimension\n",
    "        if states_compressed.ndim == 2:\n",
    "            shape = (self.full_state_dimension, states_compressed.shape[1])\n",
    "\n",
    "        states = np.zeros(shape, dtype=states_compressed.dtype)\n",
    "        states[self.indices] = states_compressed\n",
    "        return states if locs is None else states[locs]\n",
    "\n",
    "    def save(self, savefile, overwrite=False):\n",
    "        \"\"\"Save the basis to an HDF5 file.\"\"\"\n",
    "        with opinf.utils.hdf5_savehandle(savefile, overwrite) as hf:\n",
    "            hf.create_dataset(\"r\", data=[self.reduced_state_dimension])\n",
    "            if self.indices is not None:\n",
    "                hf.create_dataset(\"n\", data=[self.full_state_dimension])\n",
    "                hf.create_dataset(\"indices\", data=self.indices)\n",
    "\n",
    "    @classmethod\n",
    "    def load(cls, loadfile):\n",
    "        \"\"\"Load a basis from an HDF5 file.\"\"\"\n",
    "        with opinf.utils.hdf5_loadhandle(loadfile) as hf:\n",
    "            basis = cls(hf[\"r\"][0])\n",
    "            if \"n\" in hf:\n",
    "                basis.full_state_dimension = hf[\"n\"][0]\n",
    "                basis.indices = hf[\"indices\"][:]\n",
    "            return basis"
   ]
  },
  {
   "cell_type": "code",
   "execution_count": null,
   "metadata": {},
   "outputs": [],
   "source": [
    "canon = CanonicalBasis(4)\n",
    "canon.fit(pressure)\n",
    "\n",
    "print(canon)\n",
    "canon.verify()"
   ]
  }
 ],
 "metadata": {
  "kernelspec": {
   "display_name": "Python 3 (ipykernel)",
   "language": "python",
   "name": "python3"
  },
  "language_info": {
   "codemirror_mode": {
    "name": "ipython",
    "version": 3
   },
   "file_extension": ".py",
   "mimetype": "text/x-python",
   "name": "python",
   "nbconvert_exporter": "python",
   "pygments_lexer": "ipython3",
   "version": "3.11.5"
  }
 },
 "nbformat": 4,
 "nbformat_minor": 4
}
