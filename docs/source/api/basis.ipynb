{
 "cells": [
  {
   "cell_type": "markdown",
   "metadata": {},
   "source": [
    "# `opinf.basis`"
   ]
  },
  {
   "cell_type": "markdown",
   "metadata": {},
   "source": [
    "```{eval-rst}\n",
    ".. automodule:: opinf.basis\n",
    "\n",
    ".. currentmodule:: opinf.basis\n",
    "\n",
    "**Functions**\n",
    "\n",
    ".. autosummary::\n",
    "   :toctree: _autosummaries\n",
    "   :nosignatures:\n",
    "\n",
    "   pod_basis\n",
    "   cumulative_energy\n",
    "   residual_energy\n",
    "   svdval_decay\n",
    "\n",
    "**Classes**\n",
    "\n",
    ".. autosummary::\n",
    "   :toctree: _autosummaries\n",
    "   :nosignatures:\n",
    "\n",
    "   LinearBasis\n",
    "   PODBasis\n",
    "   BasisMulti\n",
    "   BasisTemplate\n",
    "```"
   ]
  },
  {
   "cell_type": "markdown",
   "metadata": {},
   "source": [
    "## Low-dimensional Approximations"
   ]
  },
  {
   "cell_type": "markdown",
   "metadata": {},
   "source": [
    "Reduced-order models enact a computational speedup by approximating the $n$-dimensional system state with $r \\ll n$ degrees of freedom and working in the reduced state space.\n",
    "The {mod}`opinf.basis` module provides tools for constructing low-dimensional state approximations."
   ]
  },
  {
   "cell_type": "markdown",
   "metadata": {},
   "source": [
    "::::{admonition} Notation\n",
    ":class: note\n",
    "\n",
    "On this page,\n",
    "- $\\q \\in \\RR^n$ denotes the high-dimensional state vector to be reduced (the _full state_),\n",
    "- $\\qhat\\in\\RR^r$ is the low-dimensional, compressed version of $\\q$ (the _reduced state_),\n",
    "- $\\breve{\\q}\\in\\RR^n$ is the high-dimensional, decompressed version of $\\qhat$ (the _reconstructed state_),\n",
    "- $\\boldsymbol{\\Gamma}:\\RR^r\\to\\RR^n$ is the decompression function defining the approximation of $\\q$ with $\\qhat$ (sometimes called the _decoder_), and\n",
    "- $\\boldsymbol{\\Gamma}^{*}:\\RR^n\\to\\RR^r$ is the compression function corresponding to $\\boldsymbol{\\Gamma}$ (sometimes called the _encoder_).\n",
    "\n",
    "That is, $\\qhat = \\boldsymbol{\\Gamma}^{*}(\\q)$ and $\\q \\approx \\breve{\\q} = \\boldsymbol{\\Gamma}(\\qhat)$.\n",
    "\n",
    ":::{image} ../../images/dimension-reduction.svg\n",
    ":align: center\n",
    ":width: 60 %\n",
    ":::\n",
    "\n",
    "We assume that the full state $\\q$ has already been preprocessed, for instance with the tools described in {mod}`opinf.pre`.\n",
    "::::"
   ]
  },
  {
   "cell_type": "markdown",
   "metadata": {},
   "source": [
    "For a given $\\boldsymbol{\\Gamma}$ and norm $\\|\\cdot\\|$, the natural compression function $\\boldsymbol{\\Gamma}^{*}$ is the one that minimizes the approximation error induced by $\\boldsymbol{\\Gamma}$:\n",
    "\n",
    "$$\n",
    "\\begin{aligned}\n",
    "    \\boldsymbol{\\Gamma}^{*}(\\q)\n",
    "    = \\underset{\\qhat\\in\\RR^{r}}{\\operatorname{argmin}}\\left\\|\n",
    "        \\q - \\boldsymbol{\\boldsymbol{\\Gamma}}(\\qhat)\n",
    "    \\right\\|.\n",
    "\\end{aligned}\n",
    "$$\n",
    "\n",
    "::::{margin}\n",
    ":::{warning}\n",
    "In the literature, the term _project_ is sometimes used to refer to applying the compression function $\\boldsymbol{\\Gamma}^{*}$.\n",
    "In this package, _project_ always refers to compression followed by decompression.\n",
    ":::\n",
    "::::\n",
    "\n",
    "In this case, $P = \\boldsymbol{\\Gamma} \\circ \\boldsymbol{\\Gamma}^{*}:\\RR^n\\to\\RR^n$ satisfies $P(P(\\q)) = P(\\q)$ for all $\\q\\in\\RR^{n}$ and $P$ is called a _projection_.\n",
    "The error between $\\breve{\\q} = P(\\q)$ and $\\q$ is called the _projection error_ at $\\q$, and $\\breve{\\q}$ is, by definition, the closest point to $\\q$ in $\\operatorname{range}(\\boldsymbol{\\Gamma})$.\n",
    "\n",
    ":::{dropdown} Proof\n",
    "For any $\\tilde{\\q}\\in\\RR^r$, we have\n",
    "\n",
    "$$\n",
    "\\begin{aligned}\n",
    "    \\boldsymbol{\\Gamma}^{*}(\\boldsymbol{\\Gamma}(\\tilde{\\q}))\n",
    "    = \\underset{\\qhat\\in\\RR^{r}}{\\operatorname{argmin}}\\left\\|\n",
    "        \\boldsymbol{\\Gamma}(\\tilde{\\q}) - \\boldsymbol{\\boldsymbol{\\Gamma}}(\\qhat)\n",
    "    \\right\\|.\n",
    "\\end{aligned}\n",
    "$$\n",
    "\n",
    "By inspection, setting $\\qhat = \\tilde{\\q}$ achieves the minimal value of zero.\n",
    "Hence, $\\boldsymbol{\\Gamma}^{*}(\\boldsymbol{\\Gamma}(\\tilde{\\q})) = \\tilde{\\q}$, and we have\n",
    "\n",
    "$$\n",
    "\\begin{aligned}\n",
    "    \\boldsymbol{\\Gamma}(\\boldsymbol{\\Gamma}^{*}(\\boldsymbol{\\Gamma}(\\boldsymbol{\\Gamma}^{*}(\\q))))\n",
    "    = \\boldsymbol{\\Gamma}(\\boldsymbol{\\Gamma}^{*}(\\q)).\n",
    "\\end{aligned}\n",
    "$$\n",
    ":::"
   ]
  },
  {
   "cell_type": "markdown",
   "metadata": {},
   "source": [
    ":::{important}\n",
    "The classes defined in {mod}`opinf.basis` are equipped with the following methods.\n",
    "- [**`fit()`**](opinf.basis.BasisTemplate.fit) uses state data to learn appropriate decompression / compression functions.\n",
    "- [**`compress()`**](opinf.basis.BasisTemplate.compress) applies the compression function $\\boldsymbol{\\Gamma}^{*}$.\n",
    "- [**`decompress()`**](opinf.basis.BasisTemplate.decompress) applies the decompression function $\\boldsymbol{\\Gamma}$.\n",
    "- [**`project()`**](opinf.basis.BasisTemplate.project) applies the composition $\\boldsymbol{\\Gamma}\\circ\\boldsymbol{\\Gamma}^{*}$.\n",
    "- [**`projection_error()`**](opinf.basis.BasisTemplate.projection_error) computes the relative or absolute error of the projection at a given state.\n",
    "- [**`verify()`**](opinf.basis.BasisTemplate.verify) checks that composing `decompress()` with `compress()` defines a projection.\n",
    ":::"
   ]
  },
  {
   "cell_type": "markdown",
   "metadata": {},
   "source": [
    "## Linear Bases"
   ]
  },
  {
   "cell_type": "markdown",
   "metadata": {},
   "source": [
    "A linear basis approximates approximates the full state $\\q\\in\\RR^n$ as a linear combination of $r$ _basis vectors_ $\\v_1,\\ldots,\\v_r\\in\\RR^n$.\n",
    "Mathematically, this means the reconstructed state $\\breve{\\q}\\in\\RR^n$ is contained in the $r$-dimensional linear subspace $\\operatorname{span}(\\{\\v_1,\\ldots,\\v_r\\})\\subset\\RR^n$.\n",
    "The reduced state vector $\\qhat = [~\\hat{q}_1~~\\cdots~~\\hat{q}_r~]\\trp\\in\\RR^r$ consists of latent coordinate coefficients for each basis vector.\n",
    "\n",
    "Gathering the basis vectors into the _basis matrix_ $\\Vr = [~\\v_1~~\\cdots~~\\v_r~]\\in\\RR^{n\\times r}$, a linear basis approximation is given by\n",
    "\n",
    "$$\n",
    "\\begin{aligned}\n",
    "    \\q\n",
    "    \\approx \\Vr\\qhat\n",
    "    = \\sum_{i=1}^{r}\\hat{q}_i\\v_i.\n",
    "\\end{aligned}\n",
    "$$\n",
    "\n",
    "If the basis vectors are orthonormal, i.e., $\\Vr\\trp\\Vr = \\I\\in\\RR^{r\\times r}$, then the compression function is defined by the application of $\\Vr\\trp$.\n",
    "\n",
    "::::{grid}\n",
    ":gutter: 3\n",
    ":margin: 2 2 0 0\n",
    "\n",
    ":::{grid-item-card}\n",
    "Compression\n",
    "^^^\n",
    "$\\boldsymbol{\\Gamma}^{*} : \\q \\mapsto \\Vr\\trp\\q$\n",
    ":::\n",
    "\n",
    ":::{grid-item-card}\n",
    "Decompression\n",
    "^^^\n",
    "$\\boldsymbol{\\Gamma} : \\qhat \\mapsto \\Vr\\qhat$\n",
    ":::\n",
    "\n",
    ":::{grid-item-card}\n",
    "Projection\n",
    "^^^\n",
    "$\\boldsymbol{\\Gamma}\\circ\\boldsymbol{\\Gamma}^{*} : \\q \\mapsto \\Vr\\Vr\\trp\\q$.\n",
    ":::\n",
    "::::\n",
    "\n",
    "% This is a test.\n",
    "\n",
    ":::{dropdown} Derivation of $~\\boldsymbol{\\Gamma}^{*}$\n",
    "As stated above, the optimal compression function is defined by\n",
    "\n",
    "$$\n",
    "\\begin{aligned}\n",
    "    \\boldsymbol{\\Gamma}^{*}(\\q)\n",
    "    = \\underset{\\qhat\\in\\RR^{r}}{\\operatorname{argmin}}\\left\\|\n",
    "        \\q - \\boldsymbol{\\boldsymbol{\\Gamma}}(\\qhat)\n",
    "    \\right\\|_2\n",
    "    = \\underset{\\qhat\\in\\RR^{r}}{\\operatorname{arg min}}\\left\\|\n",
    "        \\q - \\Vr\\qhat\n",
    "    \\right\\|_2^2.\n",
    "\\end{aligned}\n",
    "$$\n",
    "\n",
    "This is a linear least-squares problem; the solution is given by the normal equations\n",
    "\n",
    "$$\n",
    "\\begin{aligned}\n",
    "    \\Vr\\trp\\Vr\\qhat\n",
    "    = \\Vr\\trp\\q,\n",
    "\\end{aligned}\n",
    "$$\n",
    "\n",
    "which simplifies to $\\qhat = \\Vr\\trp\\q$ since $\\Vr\\trp\\Vr = \\I$.\n",
    "\n",
    "In general, $\\qhat = (\\Vr\\trp\\Vr)^{-1}\\Vr\\q = \\Vr^{\\dagger}\\q$, where $\\Vr^{\\dagger}$ is the [Moore--Penrose pseudoinverse](https://en.wikipedia.org/wiki/Moore%E2%80%93Penrose_inverse) of $\\Vr$.\n",
    ":::"
   ]
  },
  {
   "cell_type": "markdown",
   "metadata": {},
   "source": [
    "### Known Basis Matrix"
   ]
  },
  {
   "cell_type": "markdown",
   "metadata": {},
   "source": [
    "\n",
    "The {class}`LinearBasis` class creates a linear basis from a given, orthonormal basis matrix.\n",
    "\n",
    "Unlike the other classes in this module, {meth}`LinearBasis.compress` and {meth}`LinearBasis.decompress` can be used immediately after instantiation because the basis matrix is provided up front instead of learned from state data in {meth}`LinearBasis.fit`.\n",
    "The basis matrix is accessible via the `entries` attribute or by indexing with `[:]`."
   ]
  },
  {
   "cell_type": "markdown",
   "metadata": {},
   "source": [
    ":::{admonition} Non-orthonormal Bases\n",
    ":class: tip\n",
    "\n",
    "{class}`LinearBasis` raises a warning if initialized with a basis matrix $\\Vr$ whose columns are not orthonormal.\n",
    "To avoid this issue, a basis matrix can be orthonormalized (without changing the column span) through the [Gram--Schmidt process](https://en.wikipedia.org/wiki/Gram%E2%80%93Schmidt_process) via, e.g., `scpiy.linalg.qr()`.\n",
    "\n",
    "```python\n",
    ">>> import scipy.linalg as la\n",
    "\n",
    ">>> Vr_orth = la.qr(Vr, mode=\"economic\")[0]\n",
    "```\n",
    ":::"
   ]
  },
  {
   "cell_type": "markdown",
   "metadata": {},
   "source": [
    "The following code uses a {class}`LinearBasis` for a trigonometric basis representing the functions $\\sin(2\\pi x)$, $\\sin(4\\pi x)$, ..., $\\sin(2r\\pi x)$ evaluated over a one-dimensional spatial domain."
   ]
  },
  {
   "cell_type": "code",
   "execution_count": null,
   "metadata": {},
   "outputs": [],
   "source": [
    "import numpy as np\n",
    "import scipy.linalg as la\n",
    "import matplotlib.pyplot as plt\n",
    "\n",
    "import opinf\n",
    "\n",
    "# Suppress some warning printouts.\n",
    "import warnings\n",
    "\n",
    "warnings.showwarning = lambda msg, cat, *args: print(f\"{cat.__name__}: {msg}\")\n",
    "opinf.utils.mpl_config()"
   ]
  },
  {
   "cell_type": "code",
   "execution_count": null,
   "metadata": {},
   "outputs": [],
   "source": [
    "# Choose full and reduced state dimensions.\n",
    "n = 500\n",
    "r = 8\n",
    "\n",
    "# Define a spatial domain and evaluate the basis functions over that domain.\n",
    "x = np.linspace(0, 1, n)\n",
    "Vr = np.column_stack([np.sin(2 * k * np.pi * x) for k in range(1, r + 1)])\n",
    "\n",
    "# Check to see if Vr has orthonormal columns.\n",
    "np.round(Vr.T @ Vr, 4)"
   ]
  },
  {
   "cell_type": "markdown",
   "metadata": {},
   "source": [
    "Because $\\Vr\\trp\\Vr$ is diagonal but not the identify matrix, these basis vectors are orthogonal but do not have unit length.\n",
    "Using this basis matrix to initialize a {class}`LinearBasis` results in a warning; additionally, calling {meth}`LinearBasis.verify` raises an error ot indicate that composing the decompression and compression functions does not define a projection."
   ]
  },
  {
   "cell_type": "code",
   "execution_count": null,
   "metadata": {},
   "outputs": [],
   "source": [
    "trig_basis = opinf.basis.LinearBasis(Vr)\n",
    "\n",
    "try:\n",
    "    trig_basis.verify()\n",
    "except Exception as ex:\n",
    "    print(f\"{type(ex).__name__}: {ex}\")"
   ]
  },
  {
   "cell_type": "markdown",
   "metadata": {},
   "source": [
    "To normalize the basis matrix, we divide each column vector by its norm."
   ]
  },
  {
   "cell_type": "code",
   "execution_count": null,
   "metadata": {},
   "outputs": [],
   "source": [
    "# Normalize the columns of the basis matrix.\n",
    "Vr_orth = Vr / la.norm(Vr, axis=0)\n",
    "trig_basis_orth = opinf.basis.LinearBasis(Vr_orth)\n",
    "\n",
    "# Print dimensions and check that the basis matrix is orthonormal.\n",
    "print(trig_basis_orth)\n",
    "trig_basis_orth.verify()\n",
    "\n",
    "# Plot the first few basis vectors as functions of x.\n",
    "trig_basis_orth.plot1D(x, num_vectors=4)\n",
    "plt.show()"
   ]
  },
  {
   "cell_type": "markdown",
   "metadata": {},
   "source": [
    "The next code block checks how well the function $f(x) = x(1 - x)e^x$ can be approximated by this basis."
   ]
  },
  {
   "cell_type": "code",
   "execution_count": null,
   "metadata": {},
   "outputs": [],
   "source": [
    "# Represent a new function in the span of the basis.\n",
    "f = x * (1 - x) * np.exp(x)\n",
    "f_projected = trig_basis_orth.project(f)\n",
    "\n",
    "# Compute the projection error for the new function.\n",
    "error = trig_basis_orth.projection_error(f)\n",
    "print(f\"Relative projection error: {error:%}\")\n",
    "\n",
    "# Plot the original function and its projection with this basis.\n",
    "plt.plot(x, f, label=\"$f(x)$\")\n",
    "plt.plot(x, f_projected, label=\"$f(x)$ projected\")\n",
    "plt.legend(loc=\"upper left\")\n",
    "plt.show()"
   ]
  },
  {
   "cell_type": "markdown",
   "metadata": {},
   "source": [
    "The projection is a poor approximation for the original function because $f(x)$ lies well outside of the span of the basis functions $\\sin(2\\pi x),\\ldots,\\sin(2r\\pi x)$.\n",
    "A better option is a Fourier basis consisting of cosines as well as sines."
   ]
  },
  {
   "cell_type": "code",
   "execution_count": null,
   "metadata": {},
   "outputs": [],
   "source": [
    "# Construct basis vectors with cosines and sines.\n",
    "Vr_raw = np.column_stack(\n",
    "    [np.cos(2 * k * np.pi * x) for k in range(r // 2)]\n",
    "    + [np.sin(2 * k * np.pi * x) for k in range(1, (r // 2) + 1)]\n",
    ")\n",
    "\n",
    "# Orthonormalize the basis with the Gram-Schmidt process.\n",
    "Vr_orth = la.qr(Vr_raw, mode=\"economic\")[0]\n",
    "fourier_basis = opinf.basis.LinearBasis(Vr_orth)\n",
    "\n",
    "# Print dimensions and check that the basis matrix is orthonormal.\n",
    "print(fourier_basis)\n",
    "fourier_basis.verify()\n",
    "\n",
    "# Calculate the projection of f(x) and its relative projection error.\n",
    "f_projected = fourier_basis.project(f)\n",
    "error = fourier_basis.projection_error(f)\n",
    "print(f\"Relative projection error: {error:%}\")\n",
    "\n",
    "# Plot the original function and its projection with this new basis.\n",
    "plt.plot(x, f, label=\"$f(x)$\")\n",
    "plt.plot(x, f_projected, label=\"$f(x)$ projected\")\n",
    "plt.legend(loc=\"upper left\")\n",
    "plt.show()"
   ]
  },
  {
   "cell_type": "markdown",
   "metadata": {},
   "source": [
    "The approximation with the Fourier basis is much better than with the sine basis, even when they have same number of basis vectors.\n",
    "In general, using more basis vectors improves the approximation power of the basis and decreases projection error."
   ]
  },
  {
   "cell_type": "markdown",
   "metadata": {},
   "source": [
    "### Proper Orthogonal Decomposition"
   ]
  },
  {
   "cell_type": "markdown",
   "metadata": {},
   "source": [
    "There is no one basis that works well for every problem.\n",
    "The {class}`PODBasis` class uses [Proper Orthogonal Decomposition](https://en.wikipedia.org/wiki/Proper_orthogonal_decomposition) (POD), a close relative of [Principal Component Analysis](https://en.wikipedia.org/wiki/Principal_component_analysis) (PCA), to construct a linear basis that is tailored to a provided set of state data.\n",
    "This is the most common basis used in Operator Inference applications.\n",
    "\n",
    "In finite dimensions, POD is computed by taking the [singular value decomposition](https://en.wikipedia.org/wiki/Singular_value_decomposition) (SVD) of a snapshot matrix $\\Q = [~\\q_0~~\\cdots~~\\q_{k-1}~]\\in\\RR^{n\\times k}$."
   ]
  },
  {
   "cell_type": "markdown",
   "metadata": {},
   "source": [
    ":::{admonition} Example Data\n",
    ":class: tip\n",
    "\n",
    "The following example uses data from a compressible flow problem for an ideal gas as described in {cite}`qian2020liftandlearn,guo2022bayesopinf`.\n",
    "The data consists of three variables recorded at $k = 200$ points in time:\n",
    "\n",
    "- Velocity $v$,\n",
    "- Pressure $p$, and\n",
    "- Specific volume (inverse density) $\\xi = 1/\\rho$.\n",
    "\n",
    "The spatial discretization results in $400$ degrees of freedom per variable, i.e., $n = 3 \\times 400 = 1{,}200$.\n",
    "You can [download the data here](https://github.com/Willcox-Research-Group/rom-operator-inference-Python3/raw/data/basis_example.npy) to repeat the demonstration.\n",
    ":::"
   ]
  },
  {
   "cell_type": "code",
   "execution_count": null,
   "metadata": {},
   "outputs": [],
   "source": [
    "# Load the example snapshot data.\n",
    "snapshots = np.load(\"basis_example.npy\")\n",
    "snapshots.shape"
   ]
  },
  {
   "cell_type": "code",
   "execution_count": null,
   "metadata": {},
   "outputs": [],
   "source": [
    "# Extract the pressure variable from the snapshot data.\n",
    "velocity, pressure, specific_volume = np.split(snapshots, 3, axis=0)\n",
    "\n",
    "pressure.shape"
   ]
  },
  {
   "cell_type": "code",
   "execution_count": null,
   "metadata": {},
   "outputs": [],
   "source": [
    "# Construct a POD basis with a specified number of basis vectors.\n",
    "r = 6\n",
    "pressure_basis = opinf.basis.PODBasis(num_vectors=r, name=\"pressure\")\n",
    "pressure_basis.fit(pressure)\n",
    "print(pressure_basis)\n",
    "\n",
    "# Plot the first few vectors.\n",
    "pressure_basis.plot1D()\n",
    "plt.show()"
   ]
  },
  {
   "cell_type": "markdown",
   "metadata": {},
   "source": [
    "By default, {meth}`PODBasis.fit` stores all computed basis vectors, and the reduced state dimension $r$ can be changed on the fly with {meth}`PODBasis.set_dimension`.\n",
    "In this case, we can increase the reduced state dimension up to $k = 200$.\n",
    "However, we often don't need (or want) all $k$ basis vectors---as $r$ increases so does the computational cost of solving the eventual reduced-order model, and at some point adding additional vectors does not significantly increase the approximation power of the basis.\n",
    "\n",
    "The singular values of the snapshot matrix $\\Q$ can provide guidance for choosing an appropriate reduced state dimension.\n",
    "There are four related criteria stemming from the singular values.\n",
    "{class}`PODBasis` has methods for visualizing each criteria, and {meth}`PODBasis.set_dimension` has arguments related to each.\n",
    "\n",
    "```{eval-rst}\n",
    ".. currentmodule:: opinf.basis.PODBasis\n",
    "```\n",
    "\n",
    "| Criterion            | Visualization       | {meth}`set_dimension` argument |\n",
    "| -------------------: | :----------------------------- | :------------------ |\n",
    "| Singular value decay | {meth}`plot_svdval_decay`      | `svdval_threshold`  |\n",
    "| Cumulative energy    | {meth}`plot_cumulative_energy` | `cumulative_energy` |\n",
    "| Residual energy      | {meth}`plot_residual_energy`   | `residual_energy`   | \n",
    "| Projection error     |       `plot_projection_error`  | `projection_error`  |\n",
    "\n",
    "```{eval-rst}\n",
    ".. currentmodule:: opinf.basis\n",
    "```\n",
    "\n",
    "{meth}`PODBasis.plot_energy` visualizes several criteria together."
   ]
  },
  {
   "cell_type": "code",
   "execution_count": null,
   "metadata": {},
   "outputs": [],
   "source": [
    "# Show the number of normalized singular values above a given threshold.\n",
    "pressure_basis.plot_svdval_decay(threshold=1e-5)\n",
    "plt.show()"
   ]
  },
  {
   "cell_type": "code",
   "execution_count": null,
   "metadata": {},
   "outputs": [],
   "source": [
    "# Set the reduced state dimension based on a singular value threshold.\n",
    "pressure_basis.set_dimension(svdval_threshold=1e-5)\n",
    "print(pressure_basis)\n",
    "\n",
    "# Plot the singular value decay and the singular value energies.\n",
    "pressure_basis.plot_energy(right=100)\n",
    "plt.show()"
   ]
  },
  {
   "cell_type": "markdown",
   "metadata": {},
   "source": [
    "To get a POD basis matrix without the class structure of {class}`PODBasis`, see {func}`pod_basis`.\n",
    "The functions {func}`svdval_decay`, {func}`cumulative_energy`, and {func}`residual_energy` can be used to visualize the dimension criteria."
   ]
  },
  {
   "cell_type": "markdown",
   "metadata": {},
   "source": [
    ":::{admonition} PCA (centered POD)\n",
    ":class: important\n",
    "\n",
    "{class}`PODBasis` uses a linear approximation $\\q\\approx\\Vr\\qhat$ with $\\Vr$ derived from the SVD of a snapshot matrix $\\Q = [~\\q_0~~\\cdots~~\\q_{k-1}~]\\in\\RR^{n \\times k}$.\n",
    "It is often advantageous to first center the training data with respect to time, in which case POD coincides with PCA.\n",
    "This results in an _affine_ state approximation,\n",
    "\n",
    "$$\n",
    "\\begin{aligned}\n",
    "    \\q \\approx \\Vr\\qhat + \\bar{\\q},\n",
    "    \\qquad\\qquad\n",
    "    \\bar{\\q} = \\frac{1}{k}\\sum_{j=0}^{k-1}\\q_j.\n",
    "\\end{aligned}\n",
    "$$\n",
    "\n",
    "To get this kind of approximation, center the snapshot matrix first with {class}`opinf.pre.ShiftScaleTransformer`, and remember to \"uncenter\" the results of `decompress()`.\n",
    ":::"
   ]
  },
  {
   "cell_type": "code",
   "execution_count": null,
   "metadata": {},
   "outputs": [],
   "source": [
    "shifter = opinf.pre.ShiftScaleTransformer(centering=True)\n",
    "pressure_centered = shifter.fit_transform(pressure)\n",
    "\n",
    "# Train a centered POD basis and plot the first few basis vectors.\n",
    "pressure_pca = opinf.basis.PODBasis(num_vectors=r).fit(pressure_centered)\n",
    "\n",
    "# To project the (uncentered) pressure, transform, project, then untransform.\n",
    "pressure_projected = shifter.inverse_transform(\n",
    "    pressure_pca.project(shifter.transform(pressure))\n",
    ")\n",
    "\n",
    "# Compute the projection error.\n",
    "la.norm(pressure - pressure_projected) / la.norm(pressure)"
   ]
  },
  {
   "cell_type": "code",
   "execution_count": null,
   "metadata": {},
   "outputs": [],
   "source": [
    "# Plot the first few basis vectors.\n",
    "pressure_pca.plot1D()\n",
    "plt.show()"
   ]
  },
  {
   "cell_type": "markdown",
   "metadata": {},
   "source": [
    "The principal basis vector of the previous, non-centered basis is almost constant when compared to the other basis vectors.\n",
    "By contrast, the new, centered basis does not have any relatively constant basis vectors."
   ]
  },
  {
   "cell_type": "code",
   "execution_count": null,
   "metadata": {},
   "outputs": [],
   "source": [
    "# Check the variance of the first basis vector in the non-centered case.\n",
    "np.var(pressure_basis.entries[:, 0])"
   ]
  },
  {
   "cell_type": "code",
   "execution_count": null,
   "metadata": {},
   "outputs": [],
   "source": [
    "# Check the variance of each basis vector in the centered case.\n",
    "np.var(pressure_pca.entries, axis=0).min()"
   ]
  },
  {
   "cell_type": "markdown",
   "metadata": {},
   "source": [
    "Applying a centering can be interpreted more or less as removing the principal component of non-centered data.\n",
    "In other words, [the principal component of non-centered data is often comparable to the mean of the data](https://en.wikipedia.org/wiki/Principal_component_analysis#Further_considerations)."
   ]
  },
  {
   "cell_type": "markdown",
   "metadata": {},
   "source": [
    "## Multivariable Data"
   ]
  },
  {
   "cell_type": "markdown",
   "metadata": {},
   "source": [
    "For systems where the full state consists of several variables (pressure, velocity, temperature, etc.), it may not be appropriate to use the same dimensionality reduction for each variable.\n",
    "The {class}`BasisMulti` class joins individual transformers together to handle multi-state data."
   ]
  },
  {
   "cell_type": "markdown",
   "metadata": {},
   "source": [
    "**TODO**\n",
    "- monolithic versus multilithic\n",
    "- example of a basis for the joint states\n",
    "- example of a basis for the states separately using BasisMulti and PODBasis"
   ]
  },
  {
   "cell_type": "markdown",
   "metadata": {},
   "source": [
    "## Custom Bases"
   ]
  },
  {
   "cell_type": "markdown",
   "metadata": {},
   "source": [
    "New bases can be defined by inheriting from the {class}`BasisTemplate`.\n",
    "Once implemented, the `verify` method may be used to test for consistency between the required methods."
   ]
  },
  {
   "cell_type": "code",
   "execution_count": null,
   "metadata": {},
   "outputs": [],
   "source": [
    "class MyBasis(opinf.basis.BasisTemplate):\n",
    "    \"\"\"Custom basis for dimension reduction.\"\"\"\n",
    "\n",
    "    # Constructor -------------------------------------------------------------\n",
    "    def __init__(self, hyperparameters, name=None):\n",
    "        \"\"\"Set any basis hyperparameters.\n",
    "        If there are no hyperparameters, __init__() may be omitted.\n",
    "        \"\"\"\n",
    "        super().__init__(name)\n",
    "        # Process/store 'hyperparameters' here.\n",
    "\n",
    "    # Required methods --------------------------------------------------------\n",
    "    def fit(self, states):\n",
    "        \"\"\"Construct the basis.\"\"\"\n",
    "        # Set the state dimensions.\n",
    "        self.full_state_dimension = NotImplemented\n",
    "        self.reduced_state_dimension = NotImplemented\n",
    "\n",
    "        # Learn the basis from `states` to enable compress() and decompress().\n",
    "        raise NotImplementedError\n",
    "\n",
    "    def compress(self, states):\n",
    "        \"\"\"Map high-dimensional states to low-dimensional latent\n",
    "        coordinates.\n",
    "        \"\"\"\n",
    "        raise NotImplementedError\n",
    "\n",
    "    def decompress(self, states_compressed, locs=None):\n",
    "        \"\"\"Map low-dimensional latent coordinates to high-dimensional\n",
    "        states.\n",
    "        \"\"\"\n",
    "        raise NotImplementedError\n",
    "\n",
    "    # Optional methods --------------------------------------------------------\n",
    "    # These may be deleted if not implemented.\n",
    "    def save(self, savefile, overwrite=False):\n",
    "        \"\"\"Save the basis to an HDF5 file.\"\"\"\n",
    "        return NotImplemented\n",
    "\n",
    "    @classmethod\n",
    "    def load(cls, loadfile):\n",
    "        \"\"\"Load a basis from an HDF5 file.\"\"\"\n",
    "        return NotImplemented"
   ]
  },
  {
   "cell_type": "markdown",
   "metadata": {},
   "source": [
    "See {class}`BasisTemplate` for details on the arguments for each method."
   ]
  },
  {
   "cell_type": "markdown",
   "metadata": {},
   "source": [
    ":::{admonition} Developer Note\n",
    ":class: note\n",
    "\n",
    "In order for a custom basis to interface correctly with {class}`BasisMulti`, the `save()` and `load()` methods should be implemented using {func}`opinf.utils.hdf5_savehandle()` and {func}`opinf.utils.hdf5_loadhandle()`, respectively.\n",
    ":::"
   ]
  },
  {
   "cell_type": "markdown",
   "metadata": {},
   "source": [
    "### Example: Canonical Projection"
   ]
  },
  {
   "cell_type": "markdown",
   "metadata": {},
   "source": [
    "The following custom basis reduces the full state vector $\\q$ by selecting a limited number of entries.\n",
    "This strategy is useful for impementing the discrete empirical interpolation method (DEIM)."
   ]
  },
  {
   "cell_type": "code",
   "execution_count": null,
   "metadata": {},
   "outputs": [],
   "source": [
    "class CanonicalBasis(opinf.basis.BasisTemplate):\n",
    "    \"\"\"Canonical projection basis.\"\"\"\n",
    "\n",
    "    def __init__(self, num_elements, name=None):\n",
    "        \"\"\"Set the number of locations to keep when the full state is\n",
    "        compressed.\n",
    "        \"\"\"\n",
    "        super().__init__(name)\n",
    "        self.reduced_state_dimension = num_elements\n",
    "        self.indices = None\n",
    "\n",
    "    def fit(self, states):\n",
    "        \"\"\"Randomly select locations to keep when the full state is\n",
    "        compressed.\n",
    "        \"\"\"\n",
    "        self.full_state_dimension = states.shape[0]\n",
    "        self.indices = np.sort(\n",
    "            np.random.choice(\n",
    "                self.full_state_dimension,\n",
    "                size=self.reduced_state_dimension,\n",
    "                replace=False,\n",
    "            )\n",
    "        )\n",
    "\n",
    "    def compress(self, states):\n",
    "        \"\"\"Extract the selected elements from the full state.\"\"\"\n",
    "        if self.indices is None:\n",
    "            raise AttributeError(\"indices not set, call fit()\")\n",
    "        return states[self.indices]\n",
    "\n",
    "    def decompress(self, states_compressed, locs=None):\n",
    "        \"\"\"Populate a full state with the extracted elements.\"\"\"\n",
    "        if self.indices is None:\n",
    "            raise AttributeError(\"indices not set, call fit()\")\n",
    "\n",
    "        shape = self.full_state_dimension\n",
    "        if states_compressed.ndim == 2:\n",
    "            shape = (self.full_state_dimension, states_compressed.shape[1])\n",
    "\n",
    "        states = np.zeros(shape, dtype=states_compressed.dtype)\n",
    "        states[self.indices] = states_compressed\n",
    "        return states if locs is None else states[locs]\n",
    "\n",
    "    def save(self, savefile, overwrite=False):\n",
    "        \"\"\"Save the basis to an HDF5 file.\"\"\"\n",
    "        with opinf.utils.hdf5_savehandle(savefile, overwrite) as hf:\n",
    "            hf.create_dataset(\"r\", data=[self.reduced_state_dimension])\n",
    "            if self.indices is not None:\n",
    "                hf.create_dataset(\"n\", data=[self.full_state_dimension])\n",
    "                hf.create_dataset(\"indices\", data=self.indices)\n",
    "\n",
    "    @classmethod\n",
    "    def load(cls, loadfile):\n",
    "        \"\"\"Load a basis from an HDF5 file.\"\"\"\n",
    "        with opinf.utils.hdf5_loadhandle(loadfile) as hf:\n",
    "            basis = cls(hf[\"r\"][0])\n",
    "            if \"n\" in hf:\n",
    "                basis.full_state_dimension = hf[\"n\"][0]\n",
    "                basis.indices = hf[\"indices\"][:]\n",
    "            return basis"
   ]
  },
  {
   "cell_type": "code",
   "execution_count": null,
   "metadata": {},
   "outputs": [],
   "source": [
    "canon = CanonicalBasis(4)\n",
    "canon.fit(pressure)\n",
    "\n",
    "print(canon)\n",
    "canon.verify()"
   ]
  }
 ],
 "metadata": {
  "kernelspec": {
   "display_name": "Python 3 (ipykernel)",
   "language": "python",
   "name": "python3"
  },
  "language_info": {
   "codemirror_mode": {
    "name": "ipython",
    "version": 3
   },
   "file_extension": ".py",
   "mimetype": "text/x-python",
   "name": "python",
   "nbconvert_exporter": "python",
   "pygments_lexer": "ipython3",
   "version": "3.11.5"
  }
 },
 "nbformat": 4,
 "nbformat_minor": 4
}
