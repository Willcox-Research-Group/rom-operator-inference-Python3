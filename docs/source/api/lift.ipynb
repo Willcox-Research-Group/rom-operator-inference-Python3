{
 "cells": [
  {
   "cell_type": "markdown",
   "id": "cbdcc1b7-35eb-4118-8e63-aa924a503ccd",
   "metadata": {},
   "source": [
    "# `opinf.lift`"
   ]
  },
  {
   "cell_type": "markdown",
   "id": "66dd1d0a-6490-4811-897f-7db1d1605c38",
   "metadata": {},
   "source": [
    "```{eval-rst}\n",
    ".. automodule:: opinf.lift\n",
    "```"
   ]
  },
  {
   "cell_type": "markdown",
   "id": "e9672597",
   "metadata": {},
   "source": [
    "## Lifting Maps"
   ]
  },
  {
   "cell_type": "markdown",
   "id": "de63239f-70f9-4b7a-aa20-427de55780f2",
   "metadata": {},
   "source": [
    "Operator Inference learns models with polynomial terms, for example,\n",
    "\n",
    "$$\n",
    "    \\ddt\\qhat(t)\n",
    "    = \\chat\n",
    "    + \\Ahat\\qhat(t)\n",
    "    + \\Hhat[\\qhat(t)\\otimes\\qhat(t)]\n",
    "    + \\Bhat\\u(t).\n",
    "$$\n",
    "\n",
    "If training data do not exhibit this kind of polynomial structure, a reduced-order model learned through Operator Inference is not likely to perform well.\n",
    "In some systems with nonpolynomial nonlinearities, a change of variables can induce a polynomial structure, which can greatly improve the effectiveness of Operator Inference.\n",
    "Such variable transformations are often called _lifting maps_, especially if the transformation augments the state by introducing additional variables.\n",
    "This module defines a template class for implementing lifting maps in a way that interfaces with the rest of the package.\n",
    "\n",
    "```{eval-rst}\n",
    ".. currentmodule:: opinf.lift\n",
    "\n",
    ".. autosummary::\n",
    "    :toctree: _autosummaries\n",
    "    :nosignatures:\n",
    "\n",
    "    LifterTemplate\n",
    "```"
   ]
  },
  {
   "cell_type": "markdown",
   "id": "c8ff3672-0ce8-42ef-99ba-52589f3a0450",
   "metadata": {},
   "source": [
    "## Inheritance Template"
   ]
  },
  {
   "cell_type": "markdown",
   "id": "ee5e91f3-ee49-4cf2-8344-70a2467b38ef",
   "metadata": {},
   "source": [
    "To define a custom lifting map, define a class that inherits from {class}`LifterTemplate` and implements a `lift()` and `unlift()` method.\n",
    "An optional ``lift_ddts()`` method may be implemented to compute the time derivatives of the lifted state variables.\n",
    "Once implemented, the `verify()` method may be used to test the consistency of these three methods.\n",
    "\n",
    "```python\n",
    "import opinf\n",
    "\n",
    "class MyLifter(opinf.lift.LifterTemplate):\n",
    "    \"\"\"Custom lifting map.\"\"\"\n",
    "\n",
    "    @staticmethod\n",
    "    def lift(state):\n",
    "        \"\"\"Lift the native state variables to the learning variables.\"\"\"\n",
    "        raise NotImplementedError\n",
    "\n",
    "    @staticmethod\n",
    "    def unlift(lifted_state):\n",
    "        \"\"\"Recover the native state variables from the learning variables.\"\"\"\n",
    "        raise NotImplementedError\n",
    "\n",
    "    @staticmethod\n",
    "    def lift_ddts(state, ddts):\n",
    "        \"\"\"Lift the native state time derivatives to the time derivatives\n",
    "        of the learning variables.\n",
    "        \"\"\"\n",
    "        raise NotImplementedError\n",
    "```"
   ]
  },
  {
   "cell_type": "markdown",
   "id": "c3004bca-e111-4f08-9214-76f27a760e9e",
   "metadata": {},
   "source": [
    "## Example: Polynomial Lifting Maps"
   ]
  },
  {
   "cell_type": "markdown",
   "id": "b5c396a4-6571-446f-979f-6c269a0646b1",
   "metadata": {},
   "source": [
    "This example originates from {cite}`qian2021thesis`.\n",
    "Consider a nonlinear diffusion-reaction equation with a cubic reaction term:\n",
    "\n",
    "$$\n",
    "\\begin{align*}\n",
    "    \\frac{\\partial}{\\partial t}q\n",
    "    = \\frac{\\partial^{2}}{\\partial x^{2}}q - q^3.\n",
    "\\end{align*}\n",
    "$$\n",
    "\n",
    "By introducing an auxiliary variable $w = q^{2}$, we have $\\frac{\\partial}{\\partial t}w = 2q\\frac{\\partial}{\\partial t}q$,\n",
    "hence the previous equation can be expressed as the system\n",
    "\n",
    "$$\n",
    "\\begin{align*}\n",
    "    \\frac{\\partial}{\\partial t}q\n",
    "    &= \\frac{\\partial^{2}}{\\partial x^{2}}q - qw.\n",
    "    &\n",
    "    \\frac{\\partial}{\\partial t}2\n",
    "    &= 2q\\frac{\\partial^{2}}{\\partial x^{2}}q - 2w^2.\n",
    "\\end{align*}\n",
    "$$\n",
    "\n",
    "This system is quadratic in the lifted variables $(q, w)$.\n",
    "\n",
    "The following class implements the lifting map $q \\mapsto (q, q^2)$."
   ]
  },
  {
   "cell_type": "code",
   "execution_count": null,
   "id": "bfe52f01-7561-4ac6-b1cc-793977082940",
   "metadata": {},
   "outputs": [],
   "source": [
    "import opinf\n",
    "\n",
    "\n",
    "class QuadraticLifter(opinf.lift.LifterTemplate):\n",
    "    \"\"\"Quadratic lifting map q -> (q, q^2).\"\"\"\n",
    "\n",
    "    @staticmethod\n",
    "    def lift(states):\n",
    "        \"\"\"Apply the lifting map q -> (q, q^2).\"\"\"\n",
    "        return np.concatenate((states, states**2))\n",
    "\n",
    "    @staticmethod\n",
    "    def unlift(lifted_states):\n",
    "        \"\"\"Apply the reverse lifting map (q, q^2) -> q.\"\"\"\n",
    "        return np.split(lifted_states, 2, axis=0)[0]\n",
    "\n",
    "    @staticmethod\n",
    "    def lift_ddts(states, ddts):\n",
    "        \"\"\"Get the time derivatives of the lifted variables,\n",
    "        d / dt (q, q^2) = (q_t, 2qq_t).\n",
    "        \"\"\"\n",
    "        return np.concatenate((ddts, 2 * states * ddts))"
   ]
  },
  {
   "cell_type": "code",
   "execution_count": null,
   "id": "3099e4aa-1a59-4ece-b44b-a2e027bc8483",
   "metadata": {},
   "outputs": [],
   "source": [
    "import numpy as np\n",
    "\n",
    "# Get test state data.\n",
    "n = 5\n",
    "t = np.linspace(0, 1, 400)\n",
    "Q = np.array([np.sin(m * t) for m in range(1, n + 1)])\n",
    "\n",
    "# Verify the implementation.\n",
    "QuadraticLifter().verify(Q, t, tol=1e-4)"
   ]
  },
  {
   "cell_type": "markdown",
   "id": "26f0bd1a-dba9-4be7-92a5-690834108625",
   "metadata": {},
   "source": [
    "A more detailed version of this class is included in the package as an example.\n",
    "\n",
    "```{eval-rst}\n",
    ".. currentmodule:: opinf.lift\n",
    "\n",
    ".. autosummary::\n",
    "    :toctree: _autosummaries\n",
    "    :nosignatures:\n",
    "\n",
    "    QuadraticLifter\n",
    "    PolynomialLifter\n",
    "```"
   ]
  },
  {
   "cell_type": "markdown",
   "id": "db66d920-6dbd-42d5-9f35-2036b02479a4",
   "metadata": {},
   "source": [
    "## Example: Specific Volume Variables"
   ]
  },
  {
   "cell_type": "markdown",
   "id": "c483473a-401d-4d3b-9cc6-8d6d823409ff",
   "metadata": {},
   "source": [
    "This example was used in {cite}`qian2019transform,qian2020liftandlearn,qian2021thesis,guo2022bayesopinf`.\n",
    "The compressible Euler equations for an ideal gas can be written in conservative form as\n",
    "\n",
    "$$\n",
    "\\begin{align*}\n",
    "    \\frac{\\partial}{\\partial t}\\left[\\rho\\right]\n",
    "    &= -\\frac{\\partial}{\\partial x}\\left[\\rho u\\right],\n",
    "    &\n",
    "    \\frac{\\partial}{\\partial t}\\left[\\rho u\\right]\n",
    "    &= -\\frac{\\partial}{\\partial x}\\left[\\rho u^2 + p\\right],\n",
    "    &\n",
    "    \\frac{\\partial}{\\partial t}\\left[\\rho e\\right]\n",
    "    &= -\\frac{\\partial}{\\partial x}\\left[(\\rho e + p)u\\right].\n",
    "\\end{align*}\n",
    "$$\n",
    "\n",
    "These equations are nonpolynomially nonlinear in the conservative variables $\\vec{q}_{c} = (\\rho, \\rho u, \\rho e)$.\n",
    "However, by changing to the specific-volume variables $\\vec{q} = (u, p, \\zeta)$ and using the ideal gas law\n",
    "\n",
    "$$\n",
    "\\begin{align*}\n",
    "    \\rho e = \\frac{p}{\\gamma - 1} + \\frac{\\rho u^2}{2},\n",
    "\\end{align*}\n",
    "$$\n",
    "\n",
    "we arrive at a _quadratic_ system\n",
    "\n",
    "$$\n",
    "\\begin{align*}\n",
    "    \\frac{\\partial u}{\\partial t}\n",
    "    &= -u \\frac{\\partial u}{\\partial x} - \\zeta\\frac{\\partial p}{\\partial x},\n",
    "    &\n",
    "    \\frac{\\partial p}{\\partial t}\n",
    "    &= -\\gamma p \\frac{\\partial u}{\\partial x} - u\\frac{\\partial p}{\\partial x},\n",
    "    &\n",
    "    \\frac{\\partial \\zeta}{\\partial t}\n",
    "    &= -u \\frac{\\partial\\zeta}{\\partial x} + \\zeta\\frac{\\partial u}{\\partial x}.\n",
    "\\end{align*}\n",
    "$$\n",
    "\n",
    "Hence, a quadratic reduced-order model of the form\n",
    "\n",
    "$$\n",
    "    \\frac{\\text{d}}{\\text{d}t}\\qhat(t)\n",
    "    = \\Hhat[\\qhat(t)\\otimes\\qhat(t)]\n",
    "$$\n",
    "\n",
    "can be learned for this system using data in the variables $\\vec{q}$.\n",
    "See {cite}`qian2020liftandlearn` for details.\n",
    "\n",
    "The following class defines this the variable transformation using the {class}`LifterTemplate`."
   ]
  },
  {
   "cell_type": "markdown",
   "id": "79b6d052-e6d2-4cf5-bf92-d1842d60fcf2",
   "metadata": {},
   "source": [
    "::::{margin}\n",
    ":::{note}\n",
    "In this class, `lift()` and `unlift()` are _not_ static methods because they rely on the `gamma` attribute.\n",
    "\n",
    "Additionally, since `lift_ddts()` is not implemented, `verify()` only checks the consistency between `lift()` and `unlift()`.\n",
    ":::\n",
    "::::"
   ]
  },
  {
   "cell_type": "code",
   "execution_count": null,
   "id": "db8b5ab2-a33f-4c67-8ab2-ec1048bdb874",
   "metadata": {},
   "outputs": [],
   "source": [
    "class EulerLifter(opinf.lift.LifterTemplate):\n",
    "    \"\"\"Lifting map for the Euler equations transforming conservative\n",
    "    variables to specific volume variables.\n",
    "    \"\"\"\n",
    "\n",
    "    def __init__(self, gamma=1.4):\n",
    "        \"\"\"Store the heat capacity ratio, gamma.\"\"\"\n",
    "        self.gamma = gamma\n",
    "\n",
    "    def lift(self, state):\n",
    "        \"\"\"Map the conservative variables to the learning variables,\n",
    "        [rho, rho*u, rho*e] -> [u, p, 1/rho].\n",
    "        \"\"\"\n",
    "        rho, rho_u, rho_e = np.split(state, 3)\n",
    "\n",
    "        u = rho_u / rho\n",
    "        p = (self.gamma - 1) * (rho_e - 0.5 * rho * u**2)\n",
    "        zeta = 1 / rho\n",
    "\n",
    "        return np.concatenate((u, p, zeta))\n",
    "\n",
    "    def unlift(self, upzeta):\n",
    "        \"\"\"Map the learning variables to the conservative variables,\n",
    "        [u, p, 1/rho] -> [rho, rho*u, rho*e].\n",
    "        \"\"\"\n",
    "        u, p, zeta = np.split(upzeta, 3)\n",
    "\n",
    "        rho = 1 / zeta\n",
    "        rho_u = rho * u\n",
    "        rho_e = p / (self.gamma - 1) + 0.5 * rho * u**2\n",
    "\n",
    "        return np.concatenate((rho, rho_u, rho_e))"
   ]
  },
  {
   "cell_type": "code",
   "execution_count": null,
   "id": "71dc2ab9-c164-44c8-803d-889ed5b30432",
   "metadata": {},
   "outputs": [],
   "source": [
    "# Get test state data.\n",
    "n = 100\n",
    "Q = np.random.random((3 * n, 200))\n",
    "\n",
    "# Verify the implementation.\n",
    "EulerLifter().verify(Q)"
   ]
  },
  {
   "cell_type": "markdown",
   "id": "7ee43cdc-e59b-4a14-a8bd-82d61283061d",
   "metadata": {},
   "source": [
    ":::{admonition} Takeaway\n",
    ":class: attention\n",
    "**You are responsible** for ensuring that the structure of the reduced-order model to be learned is appropriate for the problem.\n",
    "Changing and/or augmenting the state variables can sometimes help to induce a polynomial structure.\n",
    ":::\n",
    "\n",
    "See {cite}`qian2020liftandlearn,swischuk2020combustion,mcquarrie2021combustion,jain2021performance,khodabakhshi2022diffalg` for examples of Operator Inference with lifting, and {cite}`benner2020opinfdeim` for an alternative method to approaching nonlinearities via the discrete empirical interpolation method (DEIM)."
   ]
  }
 ],
 "metadata": {
  "kernelspec": {
   "display_name": "Python 3 (ipykernel)",
   "language": "python",
   "name": "python3"
  },
  "language_info": {
   "codemirror_mode": {
    "name": "ipython",
    "version": 3
   },
   "file_extension": ".py",
   "mimetype": "text/x-python",
   "name": "python",
   "nbconvert_exporter": "python",
   "pygments_lexer": "ipython3",
   "version": "3.11.5"
  }
 },
 "nbformat": 4,
 "nbformat_minor": 5
}
