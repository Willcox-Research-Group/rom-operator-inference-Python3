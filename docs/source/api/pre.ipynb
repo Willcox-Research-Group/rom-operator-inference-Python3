{
 "cells": [
  {
   "cell_type": "markdown",
   "metadata": {},
   "source": [
    "# `opinf.pre`"
   ]
  },
  {
   "cell_type": "markdown",
   "metadata": {},
   "source": [
    "```{eval-rst}\n",
    ".. automodule:: opinf.pre\n",
    "\n",
    ".. currentmodule:: opinf.pre\n",
    "\n",
    "**Classes**\n",
    "\n",
    ".. autosummary::\n",
    "   :toctree: _autosummaries\n",
    "   :nosignatures:\n",
    "\n",
    "   TransformerTemplate\n",
    "   TransformerMulti\n",
    "   ShiftScaleTransformer\n",
    "\n",
    "**Functions**\n",
    "\n",
    ".. autosummary::\n",
    "   :toctree: _autosummaries\n",
    "   :nosignatures:\n",
    "\n",
    "   shift\n",
    "   scale\n",
    "```"
   ]
  },
  {
   "cell_type": "markdown",
   "metadata": {},
   "source": [
    ":::{admonition} Overview\n",
    ":class: note\n",
    "\n",
    "- Operator Inference performance often improves when the training data are standardized. Multivariable data in particular benefits from preprocessing.\n",
    "- `opinf.pre` classes define invertible transformations for data standardization.\n",
    ":::"
   ]
  },
  {
   "cell_type": "markdown",
   "metadata": {},
   "source": [
    "::::{admonition} Example Data\n",
    ":class: tip\n",
    "\n",
    "The examples on this page use data from the combustion problem described in {cite}`swischuk2020combustion`.\n",
    "\n",
    ":::{dropdown} State Variables\n",
    "\n",
    "The data consists of nine variables recorded at 100 points in time.\n",
    "\n",
    "- Pressure $p$\n",
    "- $x$-velocity $v_{x}$\n",
    "- $y$-velocity $v_{y}$\n",
    "- Temperature $T$\n",
    "- Specific volume (inverse density) $\\xi = 1/\\rho$\n",
    "- Chemical species molar concentrations for CH$_{4}$, O$_{2}$, CO$_{2}$, and H$_{2}$O.\n",
    "\n",
    "The dimension of the spatial discretization in the full example in {cite}`swischuk2020combustion` is $38{,}523$ per variable, so $n = 9 \\times 38{,}523 = 346{,}707$.\n",
    "Here we have downsampled the state dimension to $535$ for each variable for demonstration purposes, i.e., $n = 9 \\times 535 = 4{,}815$.\n",
    ":::\n",
    "\n",
    "You can [download the data here](https://github.com/Willcox-Research-Group/rom-operator-inference-Python3/raw/data/pre_example.npy) to repeat the experiments.\n",
    "::::"
   ]
  },
  {
   "cell_type": "code",
   "execution_count": null,
   "metadata": {},
   "outputs": [],
   "source": [
    "import numpy as np\n",
    "import matplotlib.pyplot as plt\n",
    "\n",
    "import opinf\n",
    "\n",
    "opinf.utils.mpl_config()"
   ]
  },
  {
   "cell_type": "markdown",
   "metadata": {},
   "source": [
    "## Preprocessing Data"
   ]
  },
  {
   "cell_type": "markdown",
   "metadata": {},
   "source": [
    "Raw dynamical systems data often need to be lightly preprocessed before use in Operator Inference.\n",
    "This module includes tools for centering/shifting and scaling/nondimensionalization of snapshot data after lifting (when applicable) and prior to dimensionality reduction."
   ]
  },
  {
   "cell_type": "markdown",
   "metadata": {},
   "source": [
    ":::{admonition} Notation\n",
    ":class: note\n",
    "\n",
    "On this page,\n",
    "- $\\q \\in \\RR^n$ denotes the unprocessed state variable for which we have $k$ snapshots $\\q_0,\\ldots,\\q_{k-1}\\in\\RR^n$,\n",
    "- $\\q'\\in\\RR^n$ denotes state variable after being shifted (centered), and\n",
    "- $\\q''\\in\\RR^n$ denotes the state variable after being shifted _and_ scaled (non-dimensionalized).\n",
    "\n",
    "The tools demonstrated here define a mapping $\\mathcal{T}:\\RR^n\\to\\RR^n$ with $\\q'' = \\mathcal{T}(\\q)$.\n",
    ":::"
   ]
  },
  {
   "cell_type": "markdown",
   "metadata": {},
   "source": [
    ":::{admonition} Lifting and Preprocessing\n",
    ":class: note\n",
    "\n",
    "A [lifting map](opinf.lift) can be viewed as a type of preprocessing map, $\\mathcal{L}:\\RR^{n_1}\\to\\RR^{n_2}$.\n",
    "However, the preprocessing transformations defined in this module map from a vector space back to itself ($n_1 = n_2$) while lifting maps may augment the state with additional variables ($n_2 \\ge n_1$).\n",
    ":::"
   ]
  },
  {
   "cell_type": "markdown",
   "metadata": {},
   "source": [
    "## Shifting / Centering"
   ]
  },
  {
   "cell_type": "markdown",
   "metadata": {},
   "source": [
    "A common first preprocessing step is to shift the training snapshots by some reference snapshot $\\bar{\\q}\\in\\RR^n$, i.e.,\n",
    "\n",
    "$$\n",
    "    \\q' = \\q - \\bar{\\q}.\n",
    "$$\n",
    "\n",
    "For example, the reference snapshot could be chosen to be the average of the training snapshots:\n",
    "\n",
    "$$\n",
    "    \\bar{\\q}\n",
    "    := \\frac{1}{k}\\sum_{j=0}^{k-1}\\q_{j}.\n",
    "$$\n",
    "\n",
    "In this case, the transformed snapshots $\\q_j' = \\q_j - \\bar{\\q}$ are centered around $\\0$.\n",
    "This type of transformation can be accomplished using a {class}`ShiftScaleTransformer` with `centering=True` or the {func}`shift()` function."
   ]
  },
  {
   "cell_type": "code",
   "execution_count": null,
   "metadata": {},
   "outputs": [],
   "source": [
    "# Load the example snapshot data.\n",
    "snapshots = np.load(\"pre_example.npy\")\n",
    "\n",
    "snapshots.shape"
   ]
  },
  {
   "cell_type": "code",
   "execution_count": null,
   "metadata": {},
   "outputs": [],
   "source": [
    "# Extract the pressure variable from the snapshot data.\n",
    "pressure = np.split(snapshots, 9, axis=0)[0]\n",
    "\n",
    "# Initialize a ShiftScaleTransformer for centering the pressure variable.\n",
    "pressure_transformer = opinf.pre.ShiftScaleTransformer(\n",
    "    centering=True,\n",
    "    verbose=True,\n",
    ")\n",
    "\n",
    "# Shift the pressure snapshots by the average pressure snapshot.\n",
    "pressure_shifted = pressure_transformer.fit_transform(pressure)"
   ]
  },
  {
   "cell_type": "code",
   "execution_count": null,
   "metadata": {},
   "outputs": [],
   "source": [
    "# Average pressure value.\n",
    "np.mean(pressure)"
   ]
  },
  {
   "cell_type": "code",
   "execution_count": null,
   "metadata": {},
   "outputs": [],
   "source": [
    "# Average shifted pressure value (zero).\n",
    "np.mean(pressure_shifted)"
   ]
  },
  {
   "cell_type": "code",
   "execution_count": null,
   "metadata": {},
   "outputs": [],
   "source": [
    "# Plot the distribution of the entries of the raw and processed states.\n",
    "fig, axes = plt.subplots(1, 2, sharey=True)\n",
    "axes[0].hist(pressure.flatten(), bins=40)\n",
    "axes[1].hist(pressure_shifted.flatten(), bins=40)\n",
    "axes[0].set_ylabel(\"Frequency\")\n",
    "axes[0].set_xlabel(\"Pressure\")\n",
    "axes[1].set_xlabel(\"Shifted pressure\")\n",
    "fig.tight_layout()\n",
    "plt.show()"
   ]
  },
  {
   "cell_type": "markdown",
   "metadata": {},
   "source": [
    "::::{admonition} Shifting Affects Model Form\n",
    ":class: important\n",
    "\n",
    "Introducing a shift can cause a structural change in the governing dynamics.\n",
    "When shifting state variables, the structure of a reduced-order model should be determined based on the dynamics of the shifted variable, not the original variable.\n",
    "\n",
    ":::{dropdown} Example 1: Linear System\n",
    "\n",
    "Consider the linear system\n",
    "\n",
    "$$\n",
    "\\begin{align*}\n",
    "    \\ddt\\q(t) = \\A\\q(t).\n",
    "\\end{align*}\n",
    "$$\n",
    "\n",
    "The dynamics of the shifted variable $\\q'(t) = \\q(t) - \\bar{\\q}$ are given by\n",
    "\n",
    "$$\n",
    "\\begin{align*}\n",
    "    \\ddt\\q'(t)\n",
    "    = \\ddt[\\q(t) - \\bar{\\q}]\n",
    "    = \\ddt\\q(t)\n",
    "    = \\A\\q(t)\n",
    "    = \\A[\\bar{\\q} + \\q'(t)]\n",
    "    = \\A\\bar{\\q} + \\A\\q'(t),\n",
    "\\end{align*}\n",
    "$$\n",
    "\n",
    "which has a new constant term $\\A\\bar{\\q}$ in addition to a linear term $\\A\\q'(t)$.\n",
    "If the variable $\\q$ is used for Operator Inference, the reduced-order model should take on the linear form $\\ddt\\qhat(t) = \\Ahat\\qhat(t)$, while if $\\q'$ is the state variable, the reduced-order model should be $\\ddt\\qhat(t) = \\chat + \\Ahat\\qhat(t)$.\n",
    ":::\n",
    "\n",
    ":::{dropdown} Example 2: Quadratic System\n",
    "\n",
    "Consider the purely quadratic system\n",
    "\n",
    "$$\n",
    "\\begin{align*}\n",
    "    \\ddt\\q(t) = \\H[\\q(t)\\otimes\\q(t)],\n",
    "\\end{align*}\n",
    "$$\n",
    "\n",
    "where $\\otimes$ denotes the [Kronecker product](https://en.wikipedia.org/wiki/Kronecker_product).\n",
    "An appropriate reduced-order model for this system is also quadratic, $\\ddt\\qhat(t) = \\Hhat[\\qhat(t)\\otimes\\qhat(t)]$.\n",
    "However, the dynamics of the shifted variable $\\q'(t) = \\q(t) - \\bar{\\q}$ includes lower-order terms:\n",
    "\n",
    "$$\n",
    "\\begin{align*}\n",
    "    \\ddt\\q'(t)\n",
    "    &= \\ddt[\\q(t) - \\bar{\\q}]\n",
    "    \\\\\n",
    "    &= \\H[\\q(t)\\otimes\\q(t)]\n",
    "    \\\\\n",
    "    &= \\H[(\\bar{\\q} + \\q'(t))\\otimes(\\bar{\\q} + \\q'(t))]\n",
    "    \\\\\n",
    "    &= \\H[\\bar{\\q}\\otimes\\bar{\\q}]\n",
    "    + \\H[\\bar{\\q}\\otimes\\q'(t)] + \\H[\\q'(t)\\otimes\\bar{\\q}]\n",
    "    + \\H[\\q'(t)\\otimes\\q'(t)].\n",
    "\\end{align*}\n",
    "$$\n",
    "\n",
    "The terms $\\H[\\bar{\\q}\\otimes\\q'(t)] + \\H[\\q'(t)\\otimes\\bar{\\q}]$ can be interpreted as a linear transformation of $\\q'(t)$, hence an appropriate reduced-order model for $\\q'(t)$ has the fully quadratic form $\\ddt\\qhat(t) = \\chat + \\Ahat\\qhat(t) + \\Hhat[\\qhat(t)\\otimes\\qhat(t)]$.\n",
    ":::\n",
    "::::"
   ]
  },
  {
   "cell_type": "markdown",
   "metadata": {},
   "source": [
    "## Scaling / Non-dimensionalization"
   ]
  },
  {
   "cell_type": "markdown",
   "metadata": {},
   "source": [
    "Many engineering problems feature multiple variables with ranges across different scales.\n",
    "For such cases, it is often beneficial to scale the variables to similar ranges so that one variable does not overwhelm the other in the operator learning.\n",
    "\n",
    "A simple scaling is given by\n",
    "\n",
    "$$\n",
    "    \\q'' = \\frac{1}{\\alpha}\\q',\n",
    "$$\n",
    "\n",
    "where $\\alpha$ is chosen by examining the range of the training data.\n",
    "For example, after centering the data, a scaling to $[-1, 1]$ is given by\n",
    "\n",
    "$$\n",
    "    \\q''\n",
    "    = \\frac{1}{\\alpha}\\big(\\q - \\bar{\\q}\\big)\n",
    "    = \\frac{1}{\\alpha}\\q',\n",
    "    \\qquad\n",
    "    \\alpha = \\max_{i,j}|\\tilde{q}_{ij}'|\n",
    "$$\n",
    "\n",
    "where $\\tilde{q}_{ij}'$ is the $i$th entry of $\\q_j' = \\q_j - \\bar{\\q}$.\n",
    "\n",
    "The `scaling` argument of the {class}`ShiftScaleTransformer` determines the type of scaling transformation; see also {func}`scale()`."
   ]
  },
  {
   "cell_type": "code",
   "execution_count": null,
   "metadata": {},
   "outputs": [],
   "source": [
    "# Extract the H2O molar concentration.\n",
    "water = np.split(snapshots, 9, axis=0)[-1]\n",
    "\n",
    "# Compare the scales of the variables.\n",
    "print(\n",
    "    \"Pressure range (raw):\",\n",
    "    f\"[{pressure.min():.2e}, {pressure.max():.2e}]\",\n",
    "    sep=\"\\t\\t\",\n",
    ")\n",
    "print(\n",
    "    \"Pressure range (shifted):\",\n",
    "    f\"[{pressure_shifted.min():.2e}, {pressure_shifted.max():.2e}]\",\n",
    "    sep=\"\\t\",\n",
    ")\n",
    "print(\n",
    "    \"Water range:\",\n",
    "    f\"[{water.min():.2e}, {water.max():.2e}]\",\n",
    "    sep=\"\\t\\t\\t\",\n",
    ")"
   ]
  },
  {
   "cell_type": "code",
   "execution_count": null,
   "metadata": {},
   "outputs": [],
   "source": [
    "# Apply a min-max scaling to [0, .01] on the shifted pressure snapshots.\n",
    "pressure_scaled, pscale1, pscale2 = opinf.pre.scale(\n",
    "    pressure_shifted,\n",
    "    scale_to=(0, 1e-2),\n",
    ")"
   ]
  },
  {
   "cell_type": "code",
   "execution_count": null,
   "metadata": {},
   "outputs": [],
   "source": [
    "# Compare the scales of the variables.\n",
    "print(\n",
    "    \"Pressure range (raw):\",\n",
    "    f\"[{pressure.min():.2e}, {pressure.max():.2e}]\",\n",
    "    sep=\"\\t\\t\",\n",
    ")\n",
    "print(\n",
    "    \"Pressure range (shifted):\",\n",
    "    f\"[{pressure_shifted.min():.2e}, {pressure_shifted.max():.2e}]\",\n",
    "    sep=\"\\t\",\n",
    ")\n",
    "print(\n",
    "    \"Pressure range (scaled):\",\n",
    "    f\"[{pressure_scaled.min():.2e}, {pressure_scaled.max():.2e}]\",\n",
    "    sep=\"\\t\",\n",
    ")\n",
    "print(\n",
    "    \"Water range:\",\n",
    "    f\"[{water.min():.2e}, {water.max():.2e}]\",\n",
    "    sep=\"\\t\\t\\t\",\n",
    ")"
   ]
  },
  {
   "cell_type": "markdown",
   "metadata": {},
   "source": [
    ":::{admonition} No Free Lunch\n",
    ":class: note\n",
    "\n",
    "Choosing an advantageous preprocessing strategy is highly problem dependent, and the tools in this module are not the only ways to preprocess snapshot data.\n",
    "See, for example, {cite}`issan2023shifted` for a compelling application of Operator Inference to solar wind streams in which preprocessing plays a vital role.\n",
    ":::"
   ]
  },
  {
   "cell_type": "markdown",
   "metadata": {},
   "source": [
    "## Multivariable Data"
   ]
  },
  {
   "cell_type": "markdown",
   "metadata": {},
   "source": [
    "For systems where the full state consists of several variables (pressure, velocity, temperature, etc.), it may not be appropriate to apply the same scaling to each variable.\n",
    "The {class}`TransformerMulti` class joins individual transformers together to handle multi-state data."
   ]
  },
  {
   "cell_type": "markdown",
   "metadata": {},
   "source": [
    "Below, we construct the following transformation for the nine state variables.\n",
    "- Pressure: center, then scale to $[-1, 1]$.\n",
    "- $x$-velocity: Scale to $[-1, 1]$.\n",
    "- $y$-velocity: Scale to $[-1, 1]$.\n",
    "- Temperature: center, then scale to $[-1, 1]$.\n",
    "- Specific volume: scale to $[0, 1]$.\n",
    "- Chemical species: scale to $[0, 1]$."
   ]
  },
  {
   "cell_type": "code",
   "execution_count": null,
   "metadata": {},
   "outputs": [],
   "source": [
    "combustion_transformer = opinf.pre.TransformerMulti(\n",
    "    transformers=[\n",
    "        opinf.pre.ShiftScaleTransformer(\n",
    "            name=\"pressure\", centering=True, scaling=\"maxabs\", verbose=True\n",
    "        ),\n",
    "        opinf.pre.ShiftScaleTransformer(\n",
    "            name=\"x-velocity\", scaling=\"maxabs\", verbose=True\n",
    "        ),\n",
    "        opinf.pre.ShiftScaleTransformer(\n",
    "            name=\"y-velocity\", scaling=\"maxabs\", verbose=True\n",
    "        ),\n",
    "        opinf.pre.ShiftScaleTransformer(\n",
    "            name=\"temperature\", centering=True, scaling=\"maxabs\", verbose=True\n",
    "        ),\n",
    "        opinf.pre.ShiftScaleTransformer(\n",
    "            name=\"specific volume\", scaling=\"minmax\", verbose=True\n",
    "        ),\n",
    "        opinf.pre.ShiftScaleTransformer(\n",
    "            name=\"methane\", scaling=\"minmax\", verbose=True\n",
    "        ),\n",
    "        opinf.pre.ShiftScaleTransformer(\n",
    "            name=\"oxygen\", scaling=\"minmax\", verbose=True\n",
    "        ),\n",
    "        opinf.pre.ShiftScaleTransformer(\n",
    "            name=\"carbon dioxide\", scaling=\"minmax\", verbose=True\n",
    "        ),\n",
    "        opinf.pre.ShiftScaleTransformer(\n",
    "            name=\"water\", scaling=\"minmax\", verbose=True\n",
    "        ),\n",
    "    ]\n",
    ")\n",
    "\n",
    "snapshots_preprocessed = combustion_transformer.fit_transform(snapshots)"
   ]
  },
  {
   "cell_type": "code",
   "execution_count": null,
   "metadata": {},
   "outputs": [],
   "source": [
    "# Extract a single variable from the processed snapshots.\n",
    "oxygen_processed = combustion_transformer.get_var(\n",
    "    \"oxygen\",\n",
    "    snapshots_preprocessed,\n",
    ")\n",
    "\n",
    "oxygen_processed.shape"
   ]
  },
  {
   "cell_type": "markdown",
   "metadata": {},
   "source": [
    "## Custom Transformers"
   ]
  },
  {
   "cell_type": "markdown",
   "metadata": {},
   "source": [
    "New transformers can be defined by inheriting from the {class}`TransformerTemplate`.\n",
    "Once implemented, the [`verify()`](TransformerTemplate.verify) method may be used to test for consistency between the required methods."
   ]
  },
  {
   "cell_type": "code",
   "execution_count": null,
   "metadata": {},
   "outputs": [],
   "source": [
    "class MyTransformer(opinf.pre.TransformerTemplate):\n",
    "    \"\"\"Custom pre-processing transformation.\"\"\"\n",
    "\n",
    "    def __init__(self, hyperparameters, name=None):\n",
    "        \"\"\"Set any transformation hyperparameters.\n",
    "        If there are no hyperparameters, __init__() may be omitted.\n",
    "        \"\"\"\n",
    "        super().__init__(name)\n",
    "        # Process/store 'hyperparameters' here.\n",
    "\n",
    "    # Required methods --------------------------------------------------------\n",
    "    def fit_transform(self, states, inplace=False):\n",
    "        \"\"\"Learn and apply the transformation.\"\"\"\n",
    "        # Set self.state_dimension in this method, e.g.,\n",
    "        self.state_dimension = len(states)\n",
    "        raise NotImplementedError\n",
    "\n",
    "    def transform(self, states, inplace=False):\n",
    "        \"\"\"Apply the learned transformation.\"\"\"\n",
    "        raise NotImplementedError\n",
    "\n",
    "    def inverse_transform(self, states_transformed, inplace=False, locs=None):\n",
    "        \"\"\"Apply the inverse of the learned transformation.\"\"\"\n",
    "        raise NotImplementedError\n",
    "\n",
    "    # Optional methods --------------------------------------------------------\n",
    "    # These may be deleted if not implemented.\n",
    "    def transform_ddts(self, ddts, inplace=False):\n",
    "        \"\"\"Apply the learned transformation to snapshot time derivatives.\"\"\"\n",
    "        return NotImplemented\n",
    "\n",
    "    def save(self, savefile, overwrite=False):\n",
    "        \"\"\"Save the transformer to an HDF5 file.\"\"\"\n",
    "        return NotImplemented\n",
    "\n",
    "    @classmethod\n",
    "    def load(cls, loadfile):\n",
    "        \"\"\"Load a transformer from an HDF5 file.\"\"\"\n",
    "        return NotImplemented"
   ]
  },
  {
   "cell_type": "markdown",
   "metadata": {},
   "source": [
    "See the {class}`TransformerTemplate` page for details on the arguments for each method."
   ]
  },
  {
   "cell_type": "markdown",
   "metadata": {},
   "source": [
    "### Example: Hadamard Scaling"
   ]
  },
  {
   "cell_type": "markdown",
   "metadata": {},
   "source": [
    "The following class implements the transformation $\\mathcal{T}(\\q) = \\q \\ast \\w$ where $\\ast$ is the Hadamard (elementwise) product and $\\s\\in\\RR^{n}$ is a given vector with all nonzero entries.\n",
    "The inverse of this transform is $\\mathcal{T}^{-1}(\\q) = \\q \\ast \\w'$ where the entries of $\\w'\\in\\RR^{n}$ are the inverse of the entries of $\\w$.\n",
    "This transformation is equivalent to applying a diagonal weighting matrix to the state snapshots."
   ]
  },
  {
   "cell_type": "code",
   "execution_count": null,
   "metadata": {},
   "outputs": [],
   "source": [
    "class HadamardTransformer(opinf.pre.TransformerTemplate):\n",
    "    \"\"\"Hadamard product transformer (weighting).\"\"\"\n",
    "\n",
    "    def __init__(self, w, name=None):\n",
    "        \"\"\"Set the product vector.\"\"\"\n",
    "        super().__init__(name)\n",
    "        self.w = w\n",
    "        self.winv = 1 / w\n",
    "\n",
    "    # Required methods --------------------------------------------------------\n",
    "    def fit_transform(self, states, inplace=False):\n",
    "        \"\"\"Learn and apply the transformation.\"\"\"\n",
    "        self.state_dimension = self.w.size\n",
    "        return self.transform(states, inplace=inplace)\n",
    "\n",
    "    def transform(self, states, inplace=False):\n",
    "        \"\"\"Apply the learned transformation.\"\"\"\n",
    "        out = states if inplace else np.empty_like(states)\n",
    "        w = self.w\n",
    "        if states.ndim == 2:\n",
    "            w = w.reshape((self.state_dimension, 1))\n",
    "        out[:] = states * w\n",
    "        return out\n",
    "\n",
    "    def inverse_transform(self, states_transformed, inplace=False, locs=None):\n",
    "        \"\"\"Apply the inverse of the learned transformation.\"\"\"\n",
    "        winv = self.winv\n",
    "        if locs is not None:\n",
    "            winv = winv[locs]\n",
    "        if states_transformed.ndim == 2:\n",
    "            winv = winv.reshape((-1, 1))\n",
    "        states = (\n",
    "            states_transformed\n",
    "            if inplace\n",
    "            else np.empty_like(states_transformed)\n",
    "        )\n",
    "        states[:] = states_transformed * winv\n",
    "        return states\n",
    "\n",
    "    def transform_ddts(self, ddts, inplace=False):\n",
    "        \"\"\"Apply the learned transformation to snapshot time derivatives.\"\"\"\n",
    "        return self.transform(ddts, inplace=inplace)\n",
    "\n",
    "    def save(self, savefile, overwrite=False):\n",
    "        \"\"\"Save the transformer to an HDF5 file.\"\"\"\n",
    "        with opinf.utils.hdf5_savehandle(savefile, overwrite) as hf:\n",
    "            hf.create_dataset(\"w\", data=self.w)\n",
    "            if self.name is not None:\n",
    "                meta = hf.create_dataset(\"meta\", shape=(0,))\n",
    "                meta.attrs[\"name\"] = self.name\n",
    "\n",
    "    @classmethod\n",
    "    def load(cls, loadfile):\n",
    "        \"\"\"Load a transformer from an HDF5 file.\"\"\"\n",
    "        name = None\n",
    "        with opinf.utils.hdf5_loadhandle(loadfile) as hf:\n",
    "            w = hf[\"w\"][:]\n",
    "            if \"meta\" in hf:\n",
    "                name = str(hf[\"meta\"].attrs[\"name\"])\n",
    "        return cls(w, name=name)"
   ]
  },
  {
   "cell_type": "code",
   "execution_count": null,
   "metadata": {},
   "outputs": [],
   "source": [
    "w = np.random.uniform(size=pressure.shape[0])\n",
    "ht = HadamardTransformer(w, name=\"Pressure weighter\")\n",
    "pressure_weighted = ht.fit_transform(pressure)"
   ]
  },
  {
   "cell_type": "code",
   "execution_count": null,
   "metadata": {},
   "outputs": [],
   "source": [
    "ht.verify()"
   ]
  },
  {
   "cell_type": "markdown",
   "metadata": {},
   "source": [
    ":::{admonition} Developer Notes\n",
    ":class: note\n",
    "\n",
    "- In this example, the `state_dimension` could be set in the constructor because the `w` argument is a vector of length $n$. However, the `state_dimension` is not required to be set until [`fit_transform()`](TransformerTemplate.fit_transform).\n",
    "- Because the transformation is dictated by the choice of `\\w` and not calibrated from data, [`fit_transform()`](TransformerTemplate.fit_transform) simply calls [`transform()`](TransformerTemplate.transform).\n",
    "- When `locs` is provided in [`inverse_transform()`](TransformerTemplate.inverse_transform), it is assumed that the `states_transformed` are the elements of the state vector at the given locations. That is,`inverse_transform(transform(states)[locs], locs) == states[locs]`.\n",
    ":::"
   ]
  }
 ],
 "metadata": {
  "kernelspec": {
   "display_name": "Python 3 (ipykernel)",
   "language": "python",
   "name": "python3"
  },
  "language_info": {
   "codemirror_mode": {
    "name": "ipython",
    "version": 3
   },
   "file_extension": ".py",
   "mimetype": "text/x-python",
   "name": "python",
   "nbconvert_exporter": "python",
   "pygments_lexer": "ipython3",
   "version": "3.12.3"
  }
 },
 "nbformat": 4,
 "nbformat_minor": 4
}
