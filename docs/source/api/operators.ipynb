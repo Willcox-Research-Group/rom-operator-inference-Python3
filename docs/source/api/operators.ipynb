{
 "cells": [
  {
   "cell_type": "markdown",
   "metadata": {},
   "source": [
    "# `opinf.operators`"
   ]
  },
  {
   "cell_type": "markdown",
   "metadata": {},
   "source": [
    "```{eval-rst}\n",
    ".. automodule:: opinf.operators\n",
    "\n",
    ".. currentmodule:: opinf.operators\n",
    "\n",
    "**Nonparametric Operators**\n",
    "\n",
    ".. autosummary::\n",
    "   :toctree: _autosummaries\n",
    "   :nosignatures:\n",
    "\n",
    "   OperatorTemplate\n",
    "   InputMixin\n",
    "   OpInfOperator\n",
    "   ConstantOperator\n",
    "   LinearOperator\n",
    "   QuadraticOperator\n",
    "   CubicOperator\n",
    "   InputOperator\n",
    "   StateInputOperator\n",
    "\n",
    "**Parametric Operators**\n",
    "\n",
    ".. autosummary::\n",
    "   :toctree: _autosummaries\n",
    "   :nosignatures:\n",
    "\n",
    "   ParametricOperatorTemplate\n",
    "   ParametricOpInfOperator\n",
    "   AffineConstantOperator\n",
    "   AffineLinearOperator\n",
    "   AffineQuadraticOperator\n",
    "   AffineCubicOperator\n",
    "   AffineInputOperator\n",
    "   AffineStateInputOperator\n",
    "   InterpConstantOperator\n",
    "   InterpLinearOperator\n",
    "   InterpQuadraticOperator\n",
    "   InterpCubicOperator\n",
    "   InterpInputOperator\n",
    "   InterpStateInputOperator\n",
    "```"
   ]
  },
  {
   "cell_type": "markdown",
   "metadata": {},
   "source": [
    ":::{admonition} Overview\n",
    ":class: note\n",
    "\n",
    "- `opinf.operators` classes represent the individual terms in a [model](opinf.models). [Nonparametric operators](sec-operators-nonparametric) are functions of the state and input, while [parametric operators](sec-operators-parametric) are also dependent on one or more external parameters.\n",
    "- Operators that can be written as the product of a matrix and a known vector-valued function can be [calibrated](sec-operators-calibration) through solving a regression problem.\n",
    "- {mod}`opinf.models` objects are  constructed with a list of operator objects. A model's [`fit()`](opinf.models.ContinuousModel.fit) method constructs and solves a regression problem to learn the operator matrices.\n",
    ":::\n",
    "\n",
    "<!-- - Monolithic operators are designed for dense systems; multilithic operators are designed for systems with sparse block structure. -->"
   ]
  },
  {
   "cell_type": "code",
   "execution_count": null,
   "metadata": {},
   "outputs": [],
   "source": [
    "import numpy as np\n",
    "import scipy.linalg as la\n",
    "\n",
    "import opinf"
   ]
  },
  {
   "cell_type": "markdown",
   "metadata": {},
   "source": [
    "## Operators"
   ]
  },
  {
   "cell_type": "markdown",
   "metadata": {},
   "source": [
    "Models based on Operator Inference are systems of [ordinary differential equations](opinf.models.ContinuousModel) (or [discrete-time difference equations](opinf.models.DiscreteModel)) that can be written as a sum of terms,\n",
    "\n",
    "$$\n",
    "\\begin{aligned}\n",
    "   \\ddt\\qhat(t)\n",
    "   = \\sum_{\\ell=1}^{n_\\textrm{terms}}\\Ophat_{\\ell}(\\qhat(t),\\u(t)),\n",
    "\\end{aligned}\n",
    "$$ (eq:operators:model)\n",
    "\n",
    "where each $\\Ophat_{\\ell}:\\RR^{r}\\times\\RR^{m}\\to\\RR^{r}$ is a vector-valued function of the reduced state $\\qhat\\in\\RR^{r}$ and the input $\\u\\in\\RR^{m}$.\n",
    "We call these functions *operators* on this page.\n",
    "\n",
    "Operator Inference calibrates operators that can be written as the product of a matrix $\\Ohat_{\\ell}\\in\\RR^{r \\times d_\\ell}$ and a known (possibly nonlinear) vector-valued function $\\d_{\\ell}:\\RR^{r}\\times\\RR^{m}\\to\\RR^{d_ell}$,\n",
    "\n",
    "$$\n",
    "\\begin{aligned}\n",
    "    \\Ophat_{\\ell}(\\qhat,\\u)\n",
    "    = \\Ohat_{\\ell}\\d_{\\ell}(\\qhat,\\u).\n",
    "\\end{aligned}\n",
    "$$\n",
    "\n",
    "Operators with this structure are called *OpInf operators* on this page.\n",
    "The goal of Operator Inference is to learn the *operator matrix* $\\Ohat_\\ell$ for each OpInf operator in the model.\n",
    "\n",
    "This module defines classes representing various operators."
   ]
  },
  {
   "cell_type": "markdown",
   "metadata": {},
   "source": [
    ":::{admonition} Example\n",
    ":class: tip\n",
    "\n",
    "To represent a linear time-invariant (LTI) system\n",
    "\n",
    "$$\n",
    "\\begin{align}\n",
    "    \\ddt\\qhat(t)\n",
    "    = \\Ahat\\qhat(t) + \\Bhat\\u(t),\n",
    "    \\qquad\n",
    "    \\Ahat\\in\\RR^{r \\times r},\n",
    "    ~\n",
    "    \\Bhat\\in\\RR^{r \\times m},\n",
    "\\end{align}\n",
    "$$ (eq:operators:ltiexample)\n",
    "\n",
    "we use the following operator classes.\n",
    "\n",
    "| Class | Definition | Operator matrix | data vector |\n",
    "| :---- | :--------- | :-------------- | :---------- |\n",
    "| {class}`LinearOperator` | $\\Ophat_{1}(\\qhat,\\u) = \\Ahat\\qhat$ | $\\Ohat_{1} = \\Ahat \\in \\RR^{r\\times r}$ | $\\d_{1}(\\qhat,\\u) = \\qhat\\in\\RR^{r}$ |\n",
    "| {class}`InputOperator` | $\\Ophat_{2}(\\qhat,\\u) = \\Bhat\\u$ | $\\Ohat_{2} = \\Bhat \\in \\RR^{r\\times m}$ | $\\d_{2}(\\qhat,\\u) = \\u\\in\\RR^{m}$ |\n",
    "\n",
    "An {class}`opinf.models.ContinuousModel` object can be instantiated with a list of operators objects to represent {eq}`eq:operators:ltiexample`:\n",
    "\n",
    "```python\n",
    "LTI_model = opinf.models.ContinuousModel(\n",
    "    operators=[\n",
    "        opinf.operators.LinearOperator(),\n",
    "        opinf.operators.InputOperator(),\n",
    "    ]\n",
    ")\n",
    "```\n",
    "\n",
    "The operator matrices $\\Ahat$ and $\\Bhat$ are calibrated by calling [`LTI_model.fit()`](opinf.models.ContinuousModel.fit).\n",
    ":::"
   ]
  },
  {
   "cell_type": "markdown",
   "metadata": {},
   "source": [
    "(sec-operators-nonparametric)=\n",
    "## Nonparametric Operators"
   ]
  },
  {
   "cell_type": "markdown",
   "metadata": {},
   "source": [
    "A _nonparametric_ operator is a function of the state and input only.\n",
    "For OpInf operators, this means the operator matrix $\\Ohat_\\ell$ is constant.\n",
    "See [Parametric Operators](sec-operators-parametric) for operators that also depend on one or more external parameters.\n",
    "\n",
    "Available nonparametric OpInf operators are listed below."
   ]
  },
  {
   "cell_type": "markdown",
   "metadata": {},
   "source": [
    "```{eval-rst}\n",
    ".. autosummary::\n",
    "   :nosignatures:\n",
    "\n",
    "   ConstantOperator\n",
    "   LinearOperator\n",
    "   QuadraticOperator\n",
    "   CubicOperator\n",
    "   InputOperator\n",
    "   StateInputOperator\n",
    "```"
   ]
  },
  {
   "cell_type": "markdown",
   "metadata": {},
   "source": [
    "Nonparametric OpInf operators can be instantiated without arguments.\n",
    "If the operator matrix is known, it can be passed into the constructor or set later with [`set_entries()`](OpInfOperator.set_entries).\n",
    "The operator matrix is stored as the [`entries`](OpInfOperator.entries) attribute and can be accessed with slicing operations `[:]`."
   ]
  },
  {
   "cell_type": "code",
   "execution_count": null,
   "metadata": {},
   "outputs": [],
   "source": [
    "N = opinf.operators.StateInputOperator()\n",
    "print(N)"
   ]
  },
  {
   "cell_type": "code",
   "execution_count": null,
   "metadata": {},
   "outputs": [],
   "source": [
    "r = 4\n",
    "m = 2\n",
    "Ohat = np.arange(r * r * m).reshape((r, r * m))\n",
    "\n",
    "N.set_entries(Ohat)\n",
    "print(N)"
   ]
  },
  {
   "cell_type": "code",
   "execution_count": null,
   "metadata": {},
   "outputs": [],
   "source": [
    "N.entries  # or N[:]"
   ]
  },
  {
   "cell_type": "markdown",
   "metadata": {},
   "source": [
    "There are two ways to determine operator matrices in the context of model reduction:\n",
    "\n",
    "- [**Non-intrusive Operator Inference**](sec-operators-calibration): Learn operator matrices from data.\n",
    "- [**Intrusive (Petrov--)Galerkin Projection**](sec-operators-projection): Compress an existing high-dimensional operator.\n",
    "\n",
    "Once the `entries` are set, the following methods are used to compute the action\n",
    "of the operator or its derivatives.\n",
    "\n",
    "- [`apply()`](OperatorTemplate.apply): compute the operator action $\\Ophat_\\ell(\\qhat, \\u)$.\n",
    "- [`jacobian()`](OperatorTemplate.jacobian): construct the state Jacobian $\\ddqhat\\Ophat_\\ell(\\qhat, \\u)$."
   ]
  },
  {
   "cell_type": "code",
   "execution_count": null,
   "metadata": {},
   "outputs": [],
   "source": [
    "qhat = np.zeros(r)\n",
    "u = np.ones(m)\n",
    "\n",
    "N.apply(qhat, u)"
   ]
  },
  {
   "cell_type": "code",
   "execution_count": null,
   "metadata": {},
   "outputs": [],
   "source": [
    "N.jacobian(qhat, u)"
   ]
  },
  {
   "cell_type": "markdown",
   "metadata": {},
   "source": [
    "(sec-operators-calibration)=\n",
    "### Learning Operators from Data"
   ]
  },
  {
   "cell_type": "markdown",
   "metadata": {},
   "source": [
    ":::{attention}\n",
    "This section describes the crux of Operator Inference.\n",
    ":::"
   ]
  },
  {
   "cell_type": "markdown",
   "metadata": {},
   "source": [
    "Operator Inference requires state, input, and \"left-hand side\" data $\\{(\\qhat_j,\\u_j,\\z_j)\\}_{j=0}^{k-1}$ that approximately satisfy the desired model dynamics.\n",
    "For [time-continuous models](opinf.models.ContinuousModel), $\\z_j$ is the [time derivative](opinf.ddt) of the state data; for [fully discrete models](opinf.models.DiscreteModel), $\\z_j$ is the ``next state,'' usually $\\qhat_{j+1}$.\n",
    "For {eq}`eq:operators:model`, and assuming each operator is an OpInf operator, the data should approximately satisfy\n",
    "\n",
    "$$\n",
    "\\begin{aligned}\n",
    "    \\z_j\n",
    "    \\approx \\Ophat(\\qhat_j, \\u_j)\n",
    "    = \\sum_{\\ell=1}^{n_\\textrm{terms}} \\Ophat_{\\ell}(\\qhat_j, \\u_j)\n",
    "    = \\sum_{\\ell=1}^{n_\\textrm{terms}} \\Ohat_{\\ell}\\d_{\\ell}(\\qhat_j, \\u_j),\n",
    "    \\qquad\n",
    "    j = 0, \\ldots, k-1.\n",
    "\\end{aligned}\n",
    "$$ (eq:operators:approx)\n",
    "\n",
    "Operator Inference determines the operator matrices $\\Ohat_1,\\ldots,\\Ohat_{n_\\textrm{terms}}$ through a regression problem, written generally as\n",
    "\n",
    "$$\n",
    "\\begin{aligned}\n",
    "    \\text{find}\\quad\\Ohat\\quad\\text{such that}\\quad\n",
    "    \\Z \\approx \\Ohat\\D\\trp\n",
    "    \\quad\\Longleftrightarrow\\quad\n",
    "    \\D\\Ohat\\trp \\approx \\Z\\trp,\n",
    "\\end{aligned}\n",
    "$$\n",
    "\n",
    "where $\\D$ is the $k \\times d$ *data matrix* formed from state and input snapshots and $\\Z$ is the $r \\times k$ matrix of left-hand side data.\n",
    "To arrive at this problem, we write\n",
    "\n",
    "$$\n",
    "\\begin{aligned}\n",
    "    \\z_j\n",
    "    \\approx \\sum_{\\ell=1}^{n_\\textrm{terms}} \\Ohat_{\\ell}\\d_{\\ell}(\\qhat_j, \\u_j)\n",
    "    = [~\\Ohat_{1}~~\\cdots~~\\Ohat_{n_\\textrm{terms}}~]\n",
    "    \\left[\\begin{array}{c}\n",
    "        \\d_{1}(\\qhat_j, \\u_j)\n",
    "        \\\\ \\vdots \\\\\n",
    "        \\d_{n_\\textrm{terms}}(\\qhat_j, \\u_j)\n",
    "    \\end{array}\\right].\n",
    "\\end{aligned}\n",
    "$$\n",
    "\n",
    "Collecting this matrix-vector product for each $j=0,\\ldots,k-1$ results in the matrix-matrix product system\n",
    "\n",
    "$$\n",
    "\\begin{aligned}\n",
    "    \\left[\\begin{array}{c|c|c}\n",
    "        & & \\\\\n",
    "        \\z_0 & \\cdots & \\z_{k-1}\n",
    "        \\\\ & &\n",
    "    \\end{array}\\right]\n",
    "    \\approx\n",
    "    [~\\Ohat_{1}~~\\cdots~~\\Ohat_{n_\\textrm{terms}}~]\n",
    "    \\left[\\begin{array}{ccc}\n",
    "        \\d_{1}(\\qhat_0, \\u_0) & \\cdots & \\d_{1}(\\qhat_{k-1}, \\u_{k-1})\n",
    "        \\\\ \\vdots & & \\vdots \\\\\n",
    "        \\d_{n_\\textrm{terms}}(\\qhat_0, \\u_0) & \\cdots & \\d_{n_\\textrm{terms}}(\\qhat_{k-1}, \\u_{k-1})\n",
    "    \\end{array}\\right],\n",
    "\\end{aligned}\n",
    "$$\n",
    "\n",
    "which is $\\Z \\approx \\Ohat\\D\\trp$ with\n",
    "\n",
    "$$\n",
    "\\begin{aligned}\n",
    "    \\Z\n",
    "    &= [~\\z_0~~\\cdots~~\\z_{k-1}~] \\in \\RR^{r\\times k},\n",
    "    \\\\ & \\\\\n",
    "    \\Ohat\n",
    "    &= [~\\Ohat_{1}~~\\cdots~~\\Ohat_{n_\\textrm{terms}}~] \\in \\RR^{r \\times d},\n",
    "    \\\\ & \\\\\n",
    "    \\D\\trp\n",
    "    &= \\left[\\begin{array}{ccc}\n",
    "        \\d_{1}(\\qhat_0, \\u_0) & \\cdots & \\d_{1}(\\qhat_{k-1}, \\u_{k-1})\n",
    "        \\\\ \\vdots & & \\vdots \\\\\n",
    "        \\d_{n_\\textrm{terms}}(\\qhat_0, \\u_0) & \\cdots & \\d_{n_\\textrm{terms}}(\\qhat_{k-1}, \\u_{k-1})\n",
    "    \\end{array}\\right]\n",
    "    \\in \\RR^{d \\times k},\n",
    "\\end{aligned}\n",
    "$$\n",
    "\n",
    "where $d = \\sum_{i=1}^{n_\\textrm{terms}}d_\\ell$."
   ]
  },
  {
   "cell_type": "markdown",
   "metadata": {},
   "source": [
    "Nonparametric OpInf operator classes have two static methods that facilitate constructing the operator regression problem.\n",
    "\n",
    "- [`operator_dimension()`](OpInfOperator.operator_dimension): given the state dimension $r$ and the input dimension $r$, return the data dimension $d_\\ell$.\n",
    "- [`datablock()`](OpInfOperator.datablock): given the state-input data pairs $\\{(\\qhat_j,\\u_j)\\}_{j=0}^{k-1}$, form the matrix\n",
    "\n",
    "$$\n",
    "\\begin{aligned}\n",
    "    \\D_{\\ell}\\trp = \\left[\\begin{array}{c|c|c|c}\n",
    "        & & & \\\\\n",
    "        \\d_{\\ell}(\\qhat_0,\\u_0) & \\d_{\\ell}(\\qhat_1,\\u_1) & \\cdots & \\d_{\\ell}(\\qhat_{k-1},\\u_{k-1})\n",
    "        \\\\ & & &\n",
    "    \\end{array}\\right]\n",
    "    \\in \\RR^{d_{\\ell} \\times k}.\n",
    "\\end{aligned}\n",
    "$$\n",
    "\n",
    "The complete data matrix $\\D$ is the concatenation of the data matrices from each operator:\n",
    "\n",
    "$$\n",
    "\\begin{aligned}\n",
    "    \\D = \\left[\\begin{array}{ccc}\n",
    "        & & \\\\\n",
    "        \\D_1 & \\cdots & \\D_{n_\\textrm{terms}}\n",
    "        \\\\ & &\n",
    "    \\end{array}\\right].\n",
    "\\end{aligned}\n",
    "$$"
   ]
  },
  {
   "cell_type": "markdown",
   "metadata": {},
   "source": [
    ":::{admonition} Model Classes Do the Work\n",
    ":class: important\n",
    "\n",
    "Model classes from {mod}`opinf.models` are instantiated with a list of operators.\n",
    "The model's `fit()` method calls the [`datablock()`](OpInfOperator.datablock) method of each OpInf operator to assemble the full data matrix $\\D$, solves the regression problem for the full data matrix $\\Ohat$ (see {mod}`opinf.lstsq`), and extracts from $\\Ohat$ the individual operator matrix $\\Ohat_{\\ell}$ for each $\\ell = 1, \\ldots, n_{\\textrm{terms}}$ using the [`operator_dimension()`](OpInfOperator.operator_dimension)."
   ]
  },
  {
   "cell_type": "markdown",
   "metadata": {},
   "source": [
    ":::{admonition} Example\n",
    ":class: tip\n",
    "\n",
    "For the LTI system {eq}`eq:operators:ltiexample`, the Operator Inference regression $\\Z \\approx \\Ohat\\D\\trp$ has the following matrices.\n",
    "\n",
    "$$\n",
    "\\begin{aligned}\n",
    "    \\Z\n",
    "    &= [~\\z_0~~\\cdots~~\\z_{k-1}~] \\in \\RR^{r\\times k},\n",
    "    \\\\ \\\\\n",
    "    \\Ohat\n",
    "    &= [~\\Ahat~~\\Bhat~] \\in \\RR^{r \\times (r + m)},\n",
    "    \\\\ \\\\\n",
    "    \\D\\trp\n",
    "    &= \\left[\\begin{array}{ccc}\n",
    "        \\qhat_0 & \\cdots & \\qhat_{k-1}\n",
    "        \\\\\n",
    "        \\u_0 & \\cdots & \\u_{k-1}\n",
    "    \\end{array}\\right]\n",
    "    \\in \\RR^{(r + m) \\times k}.\n",
    "\\end{aligned}\n",
    "$$\n",
    "\n",
    "In this setting, $\\z_j = \\dot{\\qhat}_j$, the time derivative of $\\qhat_j$.\n",
    "Collecting the state snapshots in the matrix $\\Qhat = [~\\qhat_0~~\\cdots~~\\qhat_{k-1}~]\\in\\RR^{r\\times k}$ and the inputs in the matrix $\\U = [~\\u_0~~\\cdots~~\\u_{k-1}~]$, the full data matrix can be abbreviated as $\\D = [~\\Qhat\\trp~~\\U\\trp~]$.\n",
    "\n",
    "If the regression $\\Z \\approx \\Ohat\\D\\trp$ is treated as an [ordinary least-squares problem](opinf.lstsq.PlainSolver), the optimization problem to solve is given by\n",
    "\n",
    "$$\n",
    "\\begin{aligned}\n",
    "    \\min_{\\Ohat}\\left\\|\n",
    "        \\D\\Ohat\\trp - \\Z\\trp\n",
    "    \\right\\|_F^2\n",
    "    = \\min_{\\Ahat,\\Bhat}\\sum_{j=0}^{k-1}\\left\\|\n",
    "        \\Ahat\\qhat_j + \\Bhat\\u_j - \\z_j\n",
    "    \\right\\|_2^2.\n",
    "\\end{aligned}\n",
    "$$\n",
    "\n",
    "That is, the ordinary least-squares Operator Inference regression minimizes a sum of residuals of the model equation {eq}`eq:operators:ltiexample` with respect to available data.\n",
    ":::"
   ]
  },
  {
   "cell_type": "markdown",
   "metadata": {},
   "source": [
    ":::{admonition} Operators with Entries are _Not_ Recalibrated\n",
    ":class: important\n",
    "\n",
    "Only operators whose entries are _not initialized_ (set to `None`) when a model is constructed are learned with Operator Inference when [`fit()`](opinf.models.ContinuousModel.fit) is called.\n",
    "For example, suppose for the LTI system {eq}`eq:operators:ltiexample` an appropriate input matrix $\\Bhat$ is known and stored as the variable `B_`.\n",
    "\n",
    "```python\n",
    "LTI_model = opinf.models.ContinuousModel(\n",
    "    operators=[\n",
    "        opinf.operators.LinearOperator(),   # No entries specified.\n",
    "        opinf.operators.InputOperator(B_),  # Entries set to B_.\n",
    "    ]\n",
    ")\n",
    "```\n",
    "\n",
    "In this case, [`LIT_model.fit()`](opinf.models.ContinuousModel.fit) only determines the entries of the {class}`LinearOperator` object using Operator Inference.\n",
    "The known information for $\\Bhat$ is absorbed into the matrix $\\Z$, so the Operator Inference regression $\\Z \\approx \\Ohat\\D\\trp$ is now defined with the matrices\n",
    "\n",
    "$$\n",
    "\\begin{aligned}\n",
    "    \\Z\n",
    "    &= [~(\\z_0 - \\Bhat\\u_0)~~\\cdots~~(\\z_{k-1} - \\Bhat\\u_{k-1})~] \\in \\RR^{r\\times k},\n",
    "    \\\\\n",
    "    \\Ohat\n",
    "    &= \\Ahat \\in \\RR^{r \\times r},\n",
    "    \\qquad\n",
    "    \\D\\trp\n",
    "    = \\Qhat \\in \\RR^{r \\times k}.\n",
    "\\end{aligned}\n",
    "$$\n",
    "\n",
    "Using ordinary least-squares regression, the optimization problem is given by\n",
    "\n",
    "$$\n",
    "\\begin{aligned}\n",
    "    &\\min_{\\Ahat}\\sum_{j=0}^{k-1}\\left\\|\n",
    "        \\Ahat\\qhat_j - (\\z_j - \\Bhat\\u_j)\n",
    "    \\right\\|_2^2.\n",
    "\\end{aligned}\n",
    "$$\n",
    "\n",
    "A more likely scenario is that $\\Bhat\\in\\RR^{r \\times m}$ is derived from a known $\\B\\in\\RR^{n \\times m}$, which is the subject of the next section.\n",
    ":::"
   ]
  },
  {
   "cell_type": "markdown",
   "metadata": {},
   "source": [
    "(sec-operators-projection)=\n",
    "### Learning Operators via Projection"
   ]
  },
  {
   "cell_type": "markdown",
   "metadata": {},
   "source": [
    "The goal of Operator Inference is to learn operator entries from data because the operators of a high-fidelity / full-order model are unknown or computationally inaccessible.\n",
    "However, in some scenarios a subset of the full-order model operators are known, in which case the corresponding reduced-order model operators can be determined through *intrusive projection*.\n",
    "Consider a full-order operator $\\Op:\\RR^{n}\\times\\RR^{m}\\to\\RR^{n}$, written $\\Op_{\\ell}(\\q,\\u)$, where\n",
    "\n",
    "- $\\q\\in\\RR^n$ is the full-order state, and\n",
    "- $\\u\\in\\RR^m$ is the input.\n",
    "\n",
    "Given a *trial basis* $\\Vr\\in\\RR^{n\\times r}$ and a *test basis* $\\Wr\\in\\RR^{n\\times r}$, the corresponding intrusive projection of $\\Op_{\\ell}$ is the operator $\\Ophat_{\\ell}:\\RR^{r}\\times\\RR^{m}\\to\\RR^{r}$ defined by\n",
    "\n",
    "$$\n",
    "\\begin{aligned}\n",
    "    \\Ophat_{\\ell}(\\qhat, \\u)\n",
    "    = (\\Wr\\trp\\Vr)^{-1}\\Wr\\trp\\Op_{\\ell}(\\Vr\\qhat, \\u)\n",
    "\\end{aligned}\n",
    "$$\n",
    "\n",
    "where\n",
    "- $\\qhat\\in\\RR^{r}$ is the reduced-order state, and\n",
    "- $\\u\\in\\RR^{m}$ is the input (the same as before).\n",
    "\n",
    "This approach uses the low-dimensional state approximation $\\q \\approx \\Vr\\qhat$.\n",
    "If $\\Wr = \\Vr$, the result is called a *Galerkin projection*.\n",
    "Note that if $\\Vr$ has orthonormal columns, we have in this case the simplification\n",
    "\n",
    "$$\n",
    "\\begin{aligned}\n",
    "    \\Ophat_{\\ell}(\\qhat, \\u)\n",
    "    = \\Vr\\trp\\Op_{\\ell}(\\Vr\\qhat, \\u).\n",
    "\\end{aligned}\n",
    "$$\n",
    "\n",
    "If $\\Wr \\neq \\Vr$, the result is called a *Petrov--Galerkin projection*."
   ]
  },
  {
   "cell_type": "markdown",
   "metadata": {},
   "source": [
    ":::{admonition} Example\n",
    ":class: tip\n",
    "\n",
    "Consider the bilinear operator\n",
    "$\\Op(\\q,\\u) = \\N[\\u\\otimes\\q]$ where $\\N\\in\\RR^{n \\times nm}$.\n",
    "This type of operator can represented as a {class}`StateInputOperator`.\n",
    "The intrusive Petrov--Galerkin projection of $\\Op$ is the bilinear operator\n",
    "\n",
    "$$\n",
    "\\begin{aligned}\n",
    "    \\Ophat(\\qhat,\\u)\n",
    "    = (\\Wr\\trp\\Vr)^{-1}\\Wr\\trp\\N[\\u\\otimes\\Vr\\qhat]\n",
    "    = \\Nhat[\\u\\otimes\\qhat]\n",
    "\\end{aligned}\n",
    "$$\n",
    "\n",
    "where $\\Nhat = (\\Wr\\trp\\Vr)^{-1}\\Wr\\trp\\N(\\I_m\\otimes\\Vr) \\in \\RR^{r\\times rm}$.\n",
    "Hence, $\\Ophat$ can also be represented as a {class}`StateInputOperator`.\n",
    "Using Galerkin projection ($\\Wr = \\Vr$), $\\Nhat$ simplifies to $\\Nhat = \\Vr\\trp\\N(\\I_m\\otimes\\Vr)$.\n",
    ":::\n",
    "\n",
    "Every operator class has a [`galerkin()`](OperatorTemplate.galerkin) method that performs intrusive projection."
   ]
  },
  {
   "cell_type": "markdown",
   "metadata": {},
   "source": [
    "### Custom Nonparametric Operators"
   ]
  },
  {
   "cell_type": "markdown",
   "metadata": {},
   "source": [
    "New nonparametric operators can be defined by inheriting from {class}`OperatorTemplate` or, for operators that can be calibrated through Operator Inference, {class}`OpInfOperator`.\n",
    "Once implemented, the [`verify()`](OperatorTemplate.verify) method may be used to test for consistency between [`apply()`](OperatorTemplate.apply) and the other methods outlined below.\n",
    "\n",
    "For an arbitrary operator (not calibrated through Operator Inference), use the following inheritance template."
   ]
  },
  {
   "cell_type": "code",
   "execution_count": null,
   "metadata": {
    "tags": [
     "hide-input"
    ]
   },
   "outputs": [],
   "source": [
    "class MyOperator(opinf.operators.OperatorTemplate):\n",
    "    \"\"\"Custom non-OpInf nonparametric operator.\"\"\"\n",
    "\n",
    "    # Constructor -------------------------------------------------------------\n",
    "    def __init__(self, args_and_kwargs):\n",
    "        \"\"\"Construct the operator and set the state_dimension.\"\"\"\n",
    "        raise NotImplementedError\n",
    "\n",
    "    # Required properties and methods -----------------------------------------\n",
    "    @property\n",
    "    def state_dimension(self):\n",
    "        \"\"\"Dimension of the state that the operator acts on.\"\"\"\n",
    "        return NotImplemented\n",
    "\n",
    "    def apply(self, state, input_=None):\n",
    "        \"\"\"Apply the operator to the given state / input.\"\"\"\n",
    "        raise NotImplementedError\n",
    "\n",
    "    # Optional methods --------------------------------------------------------\n",
    "    def jacobian(self, state, input_=None):\n",
    "        \"\"\"Construct the state Jacobian of the operator.\"\"\"\n",
    "        raise NotImplementedError\n",
    "\n",
    "    def galerkin(self, Vr: np.ndarray, Wr=None):\n",
    "        \"\"\"Get the (Petrov-)Galerkin projection of this operator.\"\"\"\n",
    "        raise NotImplementedError\n",
    "\n",
    "    def save(self, savefile, overwrite=False):\n",
    "        \"\"\"Save the operator to an HDF5 file.\"\"\"\n",
    "        raise NotImplementedError\n",
    "\n",
    "    @classmethod\n",
    "    def load(cls, loadfile):\n",
    "        \"\"\"Load an operator from an HDF5 file.\"\"\"\n",
    "        raise NotImplementedError\n",
    "\n",
    "    def copy(self):\n",
    "        \"\"\"Make a copy of the operator.\n",
    "        If not implemented, copy.deepcopy() is used.\n",
    "        \"\"\"\n",
    "        raise NotImplementedError"
   ]
  },
  {
   "cell_type": "markdown",
   "metadata": {},
   "source": [
    "See {class}`OperatorTemplate` for details on the arguments for each method.\n",
    "\n",
    "For a new Operator Inference operator, use the following inheritance template."
   ]
  },
  {
   "cell_type": "code",
   "execution_count": null,
   "metadata": {
    "tags": [
     "hide-input"
    ]
   },
   "outputs": [],
   "source": [
    "class MyOpInfOperator(opinf.operators.OpInfOperator):\n",
    "    \"\"\"Custom nonparametric OpInf operator.\"\"\"\n",
    "\n",
    "    # Required methods --------------------------------------------------------\n",
    "    @opinf.utils.requires(\"entries\")\n",
    "    def apply(self, state=None, input_=None):\n",
    "        \"\"\"Apply the operator to the given state / input.\"\"\"\n",
    "        raise NotImplementedError\n",
    "\n",
    "    @staticmethod\n",
    "    def datablock(states, inputs=None):\n",
    "        \"\"\"Return the data matrix block corresponding to the operator.\"\"\"\n",
    "        raise NotImplementedError\n",
    "\n",
    "    @staticmethod\n",
    "    def operator_dimension(r=None, m=None):\n",
    "        \"\"\"Column dimension of the operator entries matrix.\"\"\"\n",
    "        raise NotImplementedError\n",
    "\n",
    "    # Optional methods --------------------------------------------------------\n",
    "    @opinf.utils.requires(\"entries\")\n",
    "    def jacobian(self, state, input_=None):\n",
    "        \"\"\"Construct the state Jacobian of the operator.\n",
    "        NOTE: If this method is omitted it is assumed that the Jacobian is\n",
    "        zero, implying that the operator does not depend on the state.\n",
    "        \"\"\"\n",
    "        raise NotImplementedError\n",
    "\n",
    "    def galerkin(self, Vr, Wr=None):\n",
    "        \"\"\"Get the (Petrov-)Galerkin projection of this operator.\"\"\"\n",
    "        raise NotImplementedError"
   ]
  },
  {
   "cell_type": "markdown",
   "metadata": {},
   "source": [
    "See {class}`OpInfOperator` for details on the arguments for each method."
   ]
  },
  {
   "cell_type": "markdown",
   "metadata": {},
   "source": [
    ":::{admonition} Developer Notes\n",
    ":class: note\n",
    "\n",
    "- If the operator depends on the input $\\u$, the class should also inherit from {class}`InputMixin` and set the [`input_dimension`](InputMixin.input_dimension) attribute.\n",
    "- The [`jacobian()`](OperatorTemplate.jacobian) method is optional, but {mod}`opinf.models` objects have a `jacobian()` method that calls `jacobian()` for each of its operators. In an {class}`opinf.models.ContinuousModel`, the Jacobian is required for some time integration strategies used in [`predict()`](opinf.models.ContinuousModel.predict).\n",
    "- The [`galerkin()`](OperatorTemplate.galerkin) method is optional, but {mod}`opinf.models` objects have a `galerkin()` method that calls `galerkin()` for each of its operators.\n",
    "- The [`save()`](OperatorTemplate.save) and [`load()`](OperatorTemplate.load) methods should be implemented using {func}`opinf.utils.hdf5_savehandle()` and {func}`opinf.utils.hdf5_loadhandle()`, respectively.\n",
    ":::"
   ]
  },
  {
   "cell_type": "markdown",
   "metadata": {},
   "source": [
    "#### Example: Hadamard Product with a Fixed Vector"
   ]
  },
  {
   "cell_type": "markdown",
   "metadata": {},
   "source": [
    "Consider the operator $\\Ophat_{\\ell}(\\qhat, \\u) = \\qhat \\ast \\hat{\\s}$, where $\\hat{\\s}\\in\\RR^{r}$ is a constant vector and $\\ast$ denotes the [Hadamard (elementwise) product](https://en.wikipedia.org/wiki/Hadamard_product_(matrices)) (`*` in NumPy).\n",
    "To implement an operator for this class, we first calculate its state Jacobian and determine the operator produced by (Petrov--)Galerkin projection.\n",
    "\n",
    "Let $\\qhat = [~\\hat{q}_1~~\\cdots~~\\hat{q}_r~]\\trp$ and $\\hat{\\s} = [~\\hat{s}_1~~\\cdots~~\\hat{s}_r~]\\trp$, i.e., the $i$-th entry of $\\Ophat_{\\ell}(\\qhat, \\u)$ is $\\hat{q}_i\\hat{s}_i$.\n",
    "Then the $(i,j)$-th entry of the Jacobian is\n",
    "\n",
    "$$\n",
    "\\begin{aligned}\n",
    "    \\frac{\\partial}{\\partial \\hat{q}_j}\\left[\\hat{q}_i\\hat{s}_i\\right]\n",
    "    = \\begin{cases}\n",
    "        \\hat{s}_i & \\textrm{if}~i = j,\n",
    "        \\\\\n",
    "        0 & \\textrm{else}.\n",
    "    \\end{cases}\n",
    "\\end{aligned}\n",
    "$$\n",
    "\n",
    "That is, $\\ddqhat\\Ophat_{\\ell}(\\qhat, \\u) = \\operatorname{diag}(\\hat{\\s}).$\n",
    "\n",
    "Now consider a version of this operator with a large state dimension, $\\Op_{\\ell}(\\q, \\u) = \\q \\ast \\s$ for $\\q,\\s\\in\\mathbb{R}^{n}$.\n",
    "For basis matrices $\\Vr,\\Wr\\in\\mathbb{R}^{n \\times r}$, the Petrov--Galerkin projection of $\\Op_{\\ell}$ is given by\n",
    "\n",
    "$$\n",
    "\\begin{aligned}\n",
    "    \\Ophat_{\\ell}(\\qhat, \\u)\n",
    "    = (\\Wr\\trp\\Vr)^{-1}\\Wr\\trp\\Op_{\\ell}(\\Vr\\qhat, \\u)\n",
    "    = (\\Wr\\trp\\Vr)^{-1}\\Wr\\trp((\\Vr\\qhat)\\ast\\s).\n",
    "\\end{aligned}\n",
    "$$\n",
    "\n",
    "It turns out that this product can be written as a matrix-vector product $\\Ahat\\qhat$ where $\\Ahat$ depends on $\\Vr$ and $\\s$.\n",
    "Therefore, `galerkin()` should return a {class}`LinearOperator` with entries matrix $\\Ahat$.\n",
    "\n",
    "The following class inherits from {class}`OperatorTemplate`, stores $\\hat{\\s}$ and sets the state dimension $r$ in the constructor, and implements the methods outlined the inheritance template."
   ]
  },
  {
   "cell_type": "code",
   "execution_count": null,
   "metadata": {},
   "outputs": [],
   "source": [
    "class HadamardOperator(opinf.operators.OperatorTemplate):\n",
    "    \"\"\"Custom non-OpInf nonparametric operator for the Hadamard product.\"\"\"\n",
    "\n",
    "    # Constructor -------------------------------------------------------------\n",
    "    def __init__(self, s):\n",
    "        \"\"\"Construct the operator and set the state_dimension.\"\"\"\n",
    "        self.svector = np.array(s)\n",
    "        self._jac = np.diag(self.svector)\n",
    "\n",
    "    # Required properties and methods -----------------------------------------\n",
    "    @property\n",
    "    def state_dimension(self):\n",
    "        \"\"\"Dimension of the state that the operator acts on.\"\"\"\n",
    "        return self.svector.shape[0]\n",
    "\n",
    "    def apply(self, state, input_=None):\n",
    "        \"\"\"Apply the operator to the given state / input.\"\"\"\n",
    "        svec = self.svector\n",
    "        if state.ndim == 2:\n",
    "            svec = svec.reshape((self.state_dimension, 1))\n",
    "        return state * svec\n",
    "\n",
    "    # Optional methods --------------------------------------------------------\n",
    "    def jacobian(self, state, input_=None):\n",
    "        \"\"\"Construct the state Jacobian of the operator.\"\"\"\n",
    "        return self._jac\n",
    "\n",
    "    def galerkin(self, Vr, Wr=None):\n",
    "        \"\"\"Get the (Petrov-)Galerkin projection of this operator.\"\"\"\n",
    "        if Wr is None:\n",
    "            Wr = Vr\n",
    "        n = self.state_dimension\n",
    "        r = Vr.shape[1]\n",
    "\n",
    "        M = la.khatri_rao(Vr.T, np.eye(n)).T\n",
    "        Ahat = Wr.T @ (M.reshape((n, r, n)) @ self.svector)\n",
    "        if not np.allclose((WrTVr := Wr.T @ Vr), np.eye(r)):\n",
    "            Ahat = la.solve(WrTVr, Ahat)\n",
    "        return opinf.operators.LinearOperator(Ahat)\n",
    "\n",
    "    def save(self, savefile, overwrite=False):\n",
    "        \"\"\"Save the operator to an HDF5 file.\"\"\"\n",
    "        with opinf.utils.hdf5_savehandle(savefile, overwrite) as hf:\n",
    "            hf.create_dataset(\"svector\", data=self.svector)\n",
    "\n",
    "    @classmethod\n",
    "    def load(cls, loadfile):\n",
    "        \"\"\"Load an operator from an HDF5 file.\"\"\"\n",
    "        with opinf.utils.hdf5_loadhandle(loadfile) as hf:\n",
    "            return cls(hf[\"svector\"][:])\n",
    "\n",
    "    def copy(self):\n",
    "        \"\"\"Make a copy of the operator.\"\"\"\n",
    "        return self.__class__(self.svector)"
   ]
  },
  {
   "cell_type": "code",
   "execution_count": null,
   "metadata": {},
   "outputs": [],
   "source": [
    "r = 10\n",
    "svec = np.random.standard_normal(r)\n",
    "hadamard = HadamardOperator(svec)\n",
    "\n",
    "print(hadamard)"
   ]
  },
  {
   "cell_type": "code",
   "execution_count": null,
   "metadata": {},
   "outputs": [],
   "source": [
    "hadamard.verify()"
   ]
  },
  {
   "cell_type": "markdown",
   "metadata": {},
   "source": [
    "#### Example: Weighted Hadamard Input Operator"
   ]
  },
  {
   "cell_type": "markdown",
   "metadata": {},
   "source": [
    "Consider an operator\n",
    "\n",
    "$$\n",
    "\\begin{aligned}\n",
    "    \\Ophat_{\\ell}(\\qhat,\\u)\n",
    "    = \\Ohat_{\\ell}(\\u\\ast\\u),\n",
    "\\end{aligned}\n",
    "$$\n",
    "\n",
    "where $\\Ohat_{\\ell}\\in\\RR^{r \\times m}$ and $\\ast$ is the Hadamard (elementwise) product.\n",
    "The matrix $\\Ohat_{\\ell}$ can be calibrated with Operator Inference.\n",
    "Since $\\Ophat_{\\ell}$ does not depend on the state $\\qhat$, the state Jacobian is zero."
   ]
  },
  {
   "cell_type": "code",
   "execution_count": null,
   "metadata": {},
   "outputs": [],
   "source": [
    "class HadamardInputOperator(\n",
    "    opinf.operators.OpInfOperator,\n",
    "    opinf.operators.InputMixin,\n",
    "):\n",
    "    \"\"\"Custom nonparametric OpInf operator: Hadamard of inputs.\"\"\"\n",
    "\n",
    "    # Required methods --------------------------------------------------------\n",
    "    @property\n",
    "    def input_dimension(self):\n",
    "        \"\"\"Dimension of the input that the operator acts on.\"\"\"\n",
    "        return self.entries.shape[1] if self.entries is not None else None\n",
    "\n",
    "    @opinf.utils.requires(\"entries\")\n",
    "    def apply(self, state=None, input_=None):\n",
    "        \"\"\"Apply the operator to the given state / input.\"\"\"\n",
    "        return self.entries @ (input_**2)\n",
    "\n",
    "    @staticmethod\n",
    "    def datablock(states, inputs=None):\n",
    "        \"\"\"Return the data matrix block corresponding to the operator.\"\"\"\n",
    "        return inputs**2\n",
    "\n",
    "    @staticmethod\n",
    "    def operator_dimension(r=None, m=None):\n",
    "        \"\"\"Column dimension of the operator entries matrix.\"\"\"\n",
    "        return m\n",
    "\n",
    "    # Optional methods --------------------------------------------------------\n",
    "    def galerkin(self, Vr, Wr=None):\n",
    "        \"\"\"Get the (Petrov-)Galerkin projection of this operator.\"\"\"\n",
    "        if Wr is None:\n",
    "            Wr = Vr\n",
    "        r = Vr.shape[1]\n",
    "\n",
    "        Ohat = Wr.T @ self.entries\n",
    "        if not np.allclose((WrTVr := Wr.T @ Vr), np.eye(r)):\n",
    "            Ohat = la.solve(WrTVr, Ohat)\n",
    "\n",
    "        return self.__class__(Ohat)"
   ]
  },
  {
   "cell_type": "code",
   "execution_count": null,
   "metadata": {},
   "outputs": [],
   "source": [
    "# Instantiate an operator without entries.\n",
    "hadamard_input = HadamardInputOperator()\n",
    "\n",
    "print(hadamard_input)"
   ]
  },
  {
   "cell_type": "code",
   "execution_count": null,
   "metadata": {},
   "outputs": [],
   "source": [
    "hadamard_input.verify()"
   ]
  },
  {
   "cell_type": "code",
   "execution_count": null,
   "metadata": {},
   "outputs": [],
   "source": [
    "m = 4\n",
    "Ohat = np.random.random((r, m))\n",
    "hadamard_input.set_entries(Ohat)\n",
    "\n",
    "print(hadamard_input)"
   ]
  },
  {
   "cell_type": "code",
   "execution_count": null,
   "metadata": {},
   "outputs": [],
   "source": [
    "hadamard_input.verify()"
   ]
  },
  {
   "cell_type": "markdown",
   "metadata": {},
   "source": [
    "(sec-operators-parametric)=\n",
    "## Parametric Operators"
   ]
  },
  {
   "cell_type": "markdown",
   "metadata": {},
   "source": [
    "An operator is called _parametric_ if it depends on an independent parameter vector\n",
    "$\\bfmu\\in\\RR^{p}$, i.e., $\\Ophat_{\\ell} = \\Ophat_{\\ell}(\\qhat,\\u;\\bfmu)$\n",
    "When the parameter vector is fixed, a parametric operator becomes nonparametric.\n",
    "In particular, a parametric operator's [`evaluate()`](ParametricOperatorTemplate.evaluate) method accepts a parameter vector $\\bfmu$ and returns an instance of a nonparametric operator."
   ]
  },
  {
   "cell_type": "markdown",
   "metadata": {},
   "source": [
    "Parametric OpInf operators have the form\n",
    "$\\Ophat_{\\ell}(\\qhat,\\u;\\bfmu) = \\Ohat_{\\ell}(\\bfmu)\\d_{\\ell}(\\qhat,\\u)$ defined by the matrix-valued function $\\Ohat_{\\ell}:\\RR^{p}\\to\\RR^{r\\times d_\\ell}$ and (as in the nonparametric case) the data vector $\\d_{\\ell}:\\RR^{r}\\times\\RR^{m}\\to\\RR^{d_\\ell}$.\n",
    "This module provides two options for the parameterization of $\\Ohat_{\\ell}(\\bfmu)$: [affine expansion](sec-operators-affine) and [elementwise interpolation](sec-operators-interpolated).\n",
    "In each case, Operator Inference begins with $s$ training parameter values $\\bfmu_{0},\\ldots,\\bfmu_{s-1}$ and corresponding state, input, and left-hand side data $\\{(\\qhat_{i,j},\\u_{i,j},\\z_{i,j})\\}_{j=0}^{k_{i}-1}$ for each training parameter value $\\bfmu_{i}$.\n",
    "A regression of the form $\\Z \\approx \\Ohat\\D\\trp$ is formed as in the nonparametric case, with the structure of the matrices $\\Ohat$ and $\\D$ depending on the choice of parameterization for each $\\Ohat_{\\ell}(\\bfmu)$."
   ]
  },
  {
   "cell_type": "markdown",
   "metadata": {},
   "source": [
    ":::{admonition} Example\n",
    ":class: tip\n",
    "Let $\\bfmu = [~\\mu_{0}~~\\mu_{1}~]\\trp$.\n",
    "The operator\n",
    "\n",
    "$$\n",
    "\\begin{aligned}\n",
    "    \\Ophat_1(\\qhat,\\u;\\bfmu) = (\\mu_{0}\\Ahat_{0} + \\mu_{1}^{2}\\Ahat_{1})\\qhat\n",
    "\\end{aligned}\n",
    "$$\n",
    "\n",
    "is a parametric OpInf operator because it can be written as $\\Ophat_1(\\qhat,\\u;\\bfmu) = \\Ohat_1(\\bfmu)\\d_1(\\qhat,\\u)$ with $\\Ohat_1(\\bfmu) = \\mu_{0}\\Ahat_{0} + \\mu_{1}^{2}\\Ahat_{1}$ and $\\d_1(\\qhat,\\u) = \\qhat$.\n",
    "\n",
    "This operator can be represented with an {class}`AffineLinearOperator`.\n",
    "For a given parameter value, the [`evaluate()`](AffineLinearOperator.evaluate) method returns a {class}`LinearOperator` instance.\n",
    ":::"
   ]
  },
  {
   "cell_type": "markdown",
   "metadata": {},
   "source": [
    "(sec-operators-affine)=\n",
    "### Affine Operators"
   ]
  },
  {
   "cell_type": "markdown",
   "metadata": {},
   "source": [
    "Affine parametric OpInf operators $\\Ophat_{\\ell}(\\qhat,\\u;\\bfmu) = \\Ohat_{\\ell}(\\bfmu)\\d_{\\ell}(\\qhat,\\u)$ parameterize the operator matrix $\\Ohat_{\\ell}(\\bfmu)$ as a sum of constant matrices with parameter-dependent scalar coefficients,\n",
    "\n",
    "$$\n",
    "\\begin{aligned}\n",
    "    \\Ohat_{\\ell}(\\bfmu)\n",
    "    &= \\sum_{a=0}^{A_{\\ell}-1}\\theta_{\\ell}^{(a)}\\!(\\bfmu)\\,\\Ohat_{\\ell}^{(a)},\n",
    "\\end{aligned}\n",
    "$$\n",
    "\n",
    "where each $\\theta_{\\ell}^{(a)}:\\RR^{p}\\to\\RR$ is a scalar-valued function and each $\\Ohat_{\\ell}^{(a)}\\in\\RR^{r\\times d_\\ell}$ is constant.\n",
    "Affine expansions are grouped such that the coefficient functions $\\theta_{\\ell}^{(0)},\\ldots,\\theta_{\\ell}^{(A_{\\ell}-1)}$ are linearly independent."
   ]
  },
  {
   "cell_type": "markdown",
   "metadata": {},
   "source": [
    "Affine parametric operators arise in Operator Inference settings because linear projection preserves affine structure.\n",
    "\n",
    ":::{dropdown} Preservation of Affine Structure\n",
    "\n",
    "Consider a full-order affine parametric OpInf operator\n",
    "\n",
    "$$\n",
    "\\begin{aligned}\n",
    "    \\Op_{\\ell}(\\q,\\u;\\bfmu)\n",
    "    = \\sum_{a=0}^{A_{\\ell}-1}\\theta_{\\ell}^{(a)}\\!(\\bfmu)\\,\\Op_{\\ell}^{(a)}\\!(\\q, \\u).\n",
    "\\end{aligned}\n",
    "$$\n",
    "\n",
    "Given a trial basis $\\Vr\\in\\RR^{n\\times r}$ and a test basis $\\Wr\\in\\RR^{n\\times r}$, the [intrusive projection](sec-operators-projection) of $\\Op_{\\ell}$ is the operator\n",
    "\n",
    "$$\n",
    "\\begin{aligned}\n",
    "    \\Ophat_{\\ell}(\\qhat, \\u; \\bfmu)\n",
    "    &= (\\Wr\\trp\\Vr)^{-1}\\Wr\\trp\\Op_{\\ell}(\\Vr\\qhat, \\u; \\bfmu)\n",
    "    \\\\\n",
    "    &= (\\Wr\\trp\\Vr)^{-1}\\Wr\\trp \\sum_{a=0}^{A_{\\ell}-1}\\theta_{\\ell}^{(a)}\\!(\\bfmu)\\,\\Op_{\\ell}^{(a)}\\!(\\V\\qhat, \\u)\n",
    "    \\\\\n",
    "    &= \\sum_{a=0}^{A_{\\ell}-1}\\theta_{\\ell}^{(a)}\\!(\\bfmu)\\,(\\Wr\\trp\\Vr)^{-1}\\Wr\\trp\\Op_{\\ell}^{(a)}\\!(\\V\\qhat, \\u)\n",
    "    = \\sum_{a=0}^{A_{\\ell}-1}\\theta_{\\ell}^{(a)}\\!(\\bfmu)\\,\\Ophat_{\\ell}^{(a)}\\!(\\qhat, \\u),\n",
    "\\end{aligned}\n",
    "$$\n",
    "\n",
    "where $\\Ophat_{\\ell}^{(a)}\\!(\\qhat, \\u) = (\\Wr\\trp\\Vr)^{-1}\\Wr\\trp\\Op_{\\ell}^{(a)}\\!(\\V\\qhat, \\u)$ is the intrusive projection of $\\Op_{\\ell}^{(a)}$.\n",
    "That is, the intrusive projection of an affine expansion is an affine expansion of intrusive projections, and both expansions feature the same coefficient functions.\n",
    ":::"
   ]
  },
  {
   "cell_type": "markdown",
   "metadata": {},
   "source": [
    "Available affine parametric operators are listed below.\n",
    "\n",
    "```{eval-rst}\n",
    ".. currentmodule:: opinf.operators\n",
    "\n",
    ".. autosummary::\n",
    "    :nosignatures:\n",
    "\n",
    "    AffineConstantOperator\n",
    "    AffineLinearOperator\n",
    "    AffineQuadraticOperator\n",
    "    AffineCubicOperator\n",
    "    AffineInputOperator\n",
    "    AffineStateInputOperator\n",
    "```"
   ]
  },
  {
   "cell_type": "markdown",
   "metadata": {},
   "source": [
    "Affine parametric operators are instantiated with a function $\\boldsymbol{\\theta}_{\\ell}(\\mu) = [~\\theta_{\\ell}^{(0)}(\\bfmu)~~\\cdots~~\\theta_{\\ell}^{(A_{\\ell}-1)}(\\bfmu)~]\\trp$ for the affine expansion coefficients, the number of terms $A_{\\ell}$ in the expansion, and with or without the operator matrices $\\Ohat_{\\ell}^{(1)},\\ldots,\\Ohat_{\\ell}^{(A_{\\ell})}$."
   ]
  },
  {
   "cell_type": "code",
   "execution_count": null,
   "metadata": {},
   "outputs": [],
   "source": [
    "thetas = lambda mu: np.array([mu[0], mu[1] ** 2])\n",
    "A = opinf.operators.AffineLinearOperator(thetas, nterms=2)\n",
    "print(A)"
   ]
  },
  {
   "cell_type": "code",
   "execution_count": null,
   "metadata": {},
   "outputs": [],
   "source": [
    "# Set the constant operator matrices in the affine expansion.\n",
    "r = 5\n",
    "Ahats = [np.ones((r, r)), np.eye(r)]\n",
    "A.set_entries(Ahats, fromblock=False)\n",
    "\n",
    "print(A)"
   ]
  },
  {
   "cell_type": "code",
   "execution_count": null,
   "metadata": {},
   "outputs": [],
   "source": [
    "A.entries"
   ]
  },
  {
   "cell_type": "code",
   "execution_count": null,
   "metadata": {},
   "outputs": [],
   "source": [
    "# Evaluate the parametric operator at a fixed parameter value,\n",
    "# resulting in a nonparametric operator.\n",
    "A_nonparametric = A.evaluate([2, 4])\n",
    "print(A_nonparametric)"
   ]
  },
  {
   "cell_type": "code",
   "execution_count": null,
   "metadata": {},
   "outputs": [],
   "source": [
    "A_nonparametric.entries"
   ]
  },
  {
   "cell_type": "code",
   "execution_count": null,
   "metadata": {},
   "outputs": [],
   "source": [
    "# The parameter dimension p = 2 was recorded when A was evaluated.\n",
    "print(A)"
   ]
  },
  {
   "cell_type": "markdown",
   "metadata": {},
   "source": [
    ":::{dropdown} Operator Inference for Affine Operators\n",
    "\n",
    "Consider a model with a single affine operator,\n",
    "\n",
    "$$\n",
    "\\begin{aligned}\n",
    "    \\z\n",
    "    = \\Ophat_{1}(\\qhat,\\u;\\bfmu)\n",
    "    &= \\left(\\sum_{a=0}^{A_{1}-1}\\theta_{1}^{(a)}\\!(\\bfmu)\\,\\Ohat_{1}^{(a)}\\right)\\d_1(\\qhat,\\u).\n",
    "\\end{aligned}\n",
    "$$\n",
    "\n",
    "For the moment we will neglect the $\\ell = 1$ subscript.\n",
    "With data $\\{(\\qhat_{i,j},\\u_{i,j},\\z_{i,j})\\}_{j=0}^{k_{i}-1}$ corresponding to $s$ training parameter values $\\bfmu_0,\\ldots,\\bfmu_{s-1}$, we seek the $A$ operator matrices $\\Ohat^{(0)},\\ldots,\\Ohat^{(A-1)}$ such that for each parameter index $i$ and time index $j$, we have\n",
    "\n",
    "$$\n",
    "\\begin{aligned}\n",
    "    \\z_{i,j}\n",
    "    \\approx \\Ophat(\\qhat_{i,j},\\u_{i,j};\\bfmu_{i})\n",
    "    &= \\left(\\sum_{a=0}^{A-1}\\theta^{(a)}\\!(\\bfmu_{i})\\,\\Ohat^{(a)}\\right)\\d(\\qhat_{i,j},\\u_{i,j})\n",
    "    \\\\\n",
    "    &= \\left[\\begin{array}{ccc}\n",
    "    \\Ohat^{(0)} & \\cdots & \\Ohat^{(A-1)}\n",
    "    \\end{array}\\right]\n",
    "    \\underbrace{\\left[\\begin{array}{c}\n",
    "    \\theta^{(0)}\\!(\\bfmu_{i})\\,\\d(\\qhat_{i,j},\\u_{i,j})\n",
    "    \\\\ \\vdots \\\\\n",
    "    \\theta^{(A-1)}\\!(\\bfmu_{i})\\,\\d(\\qhat_{i,j},\\u_{i,j})\n",
    "    \\end{array}\\right]}_{\\d_{i,j}\\in\\RR^{dA}},\n",
    "\\end{aligned}\n",
    "$$\n",
    "\n",
    "where $d$ is the output dimension of $\\d$.\n",
    "Collecting these expressions for each time index $j = 0, \\ldots, k_i - 1$ (but keeping the parameter index $i$ fixed for the moment) results in\n",
    "\n",
    "$$\n",
    "\\begin{aligned}\n",
    "    \\underbrace{\\left[\\begin{array}{ccc}\n",
    "    \\z_{i,0} & \\cdots & \\z_{i,k_i-1}\n",
    "    \\end{array}\\right]}_{\\Z_i\\in\\RR^{r\\times k_i}}\n",
    "    \\approx \\left[\\begin{array}{ccc}\n",
    "    \\Ohat^{(0)} & \\cdots & \\Ohat^{(A-1)}\n",
    "    \\end{array}\\right]\n",
    "    \\underbrace{\\left[\\begin{array}{ccc}\n",
    "    \\d_{i,0} & \\cdots & \\d_{i,k_i-1}\n",
    "    \\end{array}\\right]}_{\\D_i\\trp\\in\\RR^{dA \\times k_i}}.\n",
    "\\end{aligned}\n",
    "$$\n",
    "\n",
    "Finally, we concatenate each of these expressions for each parameter index $i = 0,\\ldots, s-1$ to arrive at\n",
    "\n",
    "$$\n",
    "\\begin{aligned}\n",
    "    \\underbrace{\\left[\\begin{array}{ccc}\n",
    "    \\Z_{0} & \\cdots & \\Z_{s-1}\n",
    "    \\end{array}\\right]}_{\\Z\\in\\RR^{r\\times K}}\n",
    "    \\approx \\left[\\begin{array}{ccc}\n",
    "    \\Ohat^{(0)} & \\cdots & \\Ohat^{(A-1)}\n",
    "    \\end{array}\\right]\n",
    "    \\underbrace{\\left[\\begin{array}{ccc}\n",
    "    \\D_{0}\\trp & \\cdots & \\D_{s-1}\\trp\n",
    "    \\end{array}\\right]}_{\\D\\trp\\in\\RR^{dA \\times K}},\n",
    "\\end{aligned}\n",
    "$$\n",
    "\n",
    "where $K = \\sum_{i=0}^{s-1}k_i$, the total number of available data instances.\n",
    "This is the familiar $\\Z \\approx \\Ohat\\D\\trp$ where $\\Ohat = [~\\Ohat^{(1)}~~\\cdots~~\\Ohat^{(A)}~]$, which can be solved for $\\Ohat$ using {mod}`opinf.lstsq`.\n",
    "\n",
    "The construction of $\\D$ is taken care of through the [`datablock()`](AffineLinearOperator.datablock) method of the affine \n",
    "\n",
    "For models with multiple affine operators, the operator matrix $\\Ohat$ is further concatenated horizontally to accommodate the operator matrices from each affine expansion, and the data matrix $\\D\\trp$ gains additional block rows.\n",
    ":::"
   ]
  },
  {
   "cell_type": "markdown",
   "metadata": {},
   "source": [
    "(sec-operators-interpolated)=\n",
    "### Interpolatory Operators"
   ]
  },
  {
   "cell_type": "markdown",
   "metadata": {},
   "source": [
    "Interpolatory parametric OpInf operators define the parametric dependence of the operator matrix on $\\bfmu$ through elementwise interpolation.\n",
    "That is,\n",
    "\n",
    "$$\n",
    "\\begin{aligned}\n",
    "    \\Ophat_{\\ell}(\\qhat,\\u;\\bfmu)\n",
    "    = \\Ohat_{\\ell}(\\bfmu)\\d_{\\ell}(\\qhat,\\u),\n",
    "\\end{aligned}\n",
    "$$\n",
    "\n",
    "where $\\Ohat_{\\ell}(\\bfmu)$ is determined by interpolating $s$ matrices $\\Ohat_{\\ell}^{(0)},\\ldots,\\Ohat_{\\ell}^{(s-1)}$.\n",
    "In the context of Operator Inference, $s$ is the number of training parameter values."
   ]
  },
  {
   "cell_type": "markdown",
   "metadata": {},
   "source": [
    "Available interpolatory operators are listed below.\n",
    "\n",
    "```{eval-rst}\n",
    ".. currentmodule:: opinf.operators\n",
    "\n",
    ".. autosummary::\n",
    "    :nosignatures:\n",
    "\n",
    "    InterpConstantOperator\n",
    "    InterpLinearOperator\n",
    "    InterpQuadraticOperator\n",
    "    InterpCubicOperator\n",
    "    InterpInputOperator\n",
    "    InterpStateInputOperator\n",
    "```"
   ]
  },
  {
   "cell_type": "markdown",
   "metadata": {},
   "source": [
    "Interpolatory operators can be instantiated with no arguments."
   ]
  },
  {
   "cell_type": "code",
   "execution_count": null,
   "metadata": {},
   "outputs": [],
   "source": [
    "B = opinf.operators.InterpInputOperator()\n",
    "print(B)"
   ]
  },
  {
   "cell_type": "code",
   "execution_count": null,
   "metadata": {},
   "outputs": [],
   "source": [
    "s = 9  # Number of training parameters\n",
    "p = 1  # Dimension of the training parameters.\n",
    "r = 4  # Dimension of the states.\n",
    "m = 2  # Dimension of the inputs.\n",
    "\n",
    "training_parameters = np.random.standard_normal((s, p))\n",
    "operator_matrices = [np.random.random((r, m)) for _ in range(s)]\n",
    "\n",
    "B.set_training_parameters(training_parameters)\n",
    "print(B)"
   ]
  },
  {
   "cell_type": "code",
   "execution_count": null,
   "metadata": {},
   "outputs": [],
   "source": [
    "B.set_entries(operator_matrices, fromblock=False)\n",
    "print(B)"
   ]
  },
  {
   "cell_type": "code",
   "execution_count": null,
   "metadata": {},
   "outputs": [],
   "source": [
    "B_nonparametric = B.evaluate(np.random.standard_normal(p))\n",
    "print(B_nonparametric)"
   ]
  },
  {
   "cell_type": "markdown",
   "metadata": {},
   "source": [
    ":::{dropdown} Operator Inference for Interpolatory Operators\n",
    "\n",
    "Consider a model with a single affine operator,\n",
    "\n",
    "$$\n",
    "\\begin{aligned}\n",
    "    \\z\n",
    "    = \\Ophat_{1}(\\qhat,\\u;\\bfmu)\n",
    "    = \\Ohat_{1}(\\bfmu)\\d_{1}(\\qhat,\\u).\n",
    "\\end{aligned}\n",
    "$$\n",
    "\n",
    "For the moment we will neglect the $\\ell = 1$ subscript.\n",
    "With data $\\{(\\qhat_{i,j},\\u_{i,j},\\z_{i,j})\\}_{j=0}^{k_{i}-1}$ corresponding to $s$ training parameter values $\\bfmu_0,\\ldots,\\bfmu_{s-1}$, we seek $s$ operator matrices $\\Ohat^{(0)},\\ldots,\\Ohat^{(s-1)}\\in\\RR^{r\\times d}$ such that for each parameter index $i$ and time index $j$, we have\n",
    "\n",
    "$$\n",
    "\\begin{aligned}\n",
    "    \\z_{i,j}\n",
    "    \\approx \\Ophat(\\qhat_{i,j},\\u_{i,j};\\bfmu_{i})\n",
    "    = \\Ohat^{(i)}\\d(\\qhat_{i,j},\\u_{i,j}),\n",
    "\\end{aligned}\n",
    "$$\n",
    "\n",
    "which comes from the interpolation condition $\\Ohat^{(i)} = \\Ohat_{1}(\\bfmu_{i})$ for $i = 0,\\ldots,s-1$.\n",
    "Because only one operator matrix $\\Ohat^{(i)}$ defines the operator action at each parameter value for which we have data, we have $s$ independent nonparametric Operator Inference problems:\n",
    "\n",
    "$$\n",
    "\\begin{aligned}\n",
    "    \\Z_i\n",
    "    &\\approx \\Ohat^{(i)}\\D_i\\trp,\n",
    "    \\\\\n",
    "    \\Z_i\n",
    "    &= \\left[\\begin{array}{ccc}\n",
    "        \\z_{i,0} & \\cdots & \\z_{i,k_{i}-1}\n",
    "    \\end{array}\\right]\\in\\RR^{r \\times k_{i}},\n",
    "    \\\\\n",
    "    \\D_i\\trp\n",
    "    &= \\left[\\begin{array}{ccc}\n",
    "        \\d(\\qhat_{i,0}, \\u_{i,0}) & \\cdots & \\d(\\qhat_{i,k_{i}-1}, \\u_{i,k_{i}-1})\n",
    "    \\end{array}\\right]\\in\\RR^{d\\times k_{i}}\n",
    "\\end{aligned}\n",
    "$$\n",
    "\n",
    "The InterpolatedModel classes represent models comprised solely of interpolatory operators.\n",
    "If interpolatory operators are mixed with other operators (nonparametric or affine parametric), the $\\Ohat\\D\\trp$ block of the problem for the interpolatory operator is included as follows:\n",
    "\n",
    "$$\n",
    "\\begin{aligned}\n",
    "    \\left[\\begin{array}{ccc}\n",
    "    \\Ohat^{(0)} & \\cdots & \\Ohat^{(s-1)}\n",
    "    \\end{array}\\right]\n",
    "    \\left[\\begin{array}{cccc}\n",
    "    \\D_0\\trp & \\0 & \\cdots & \\0 \\\\\n",
    "    \\0 & \\D_1\\trp & \\cdots & \\0 \\\\\n",
    "    \\vdots & \\vdots & \\ddots & \\vdots \\\\\n",
    "    \\0 & \\0 & \\cdots & \\D_{s-1}\\trp\n",
    "    \\end{array}\\right]\n",
    "\\end{aligned}\n",
    "$$\n",
    ":::"
   ]
  },
  {
   "cell_type": "markdown",
   "metadata": {},
   "source": [
    ":::{dropdown} Mixing Nonparametric and Parametric Operators\n",
    "\n",
    "Consider a system of ODEs with a mix of parametric and nonparametric operators,\n",
    "\n",
    "$$\n",
    "\\begin{aligned}\n",
    "    \\ddt\\qhat(t)\n",
    "    = \\left(\\mu_{0}\\Ahat^{(0)} + \\cos(\\mu_{1})\\Ahat^{(1)}\\right)\\qhat(t) + \\Hhat[\\qhat(t) \\otimes \\qhat(t)] + \\Bhat(\\bfmu)\\u(t).\n",
    "\\end{aligned}\n",
    "$$\n",
    "\n",
    "This model can be written in the general form {eq}`eq:operators:model` with three operators:\n",
    "\n",
    "- $\\Ophat_1(\\qhat,\\u;\\bfmu) = \\left(\\theta^{(0)}\\!(\\bfmu)\\,\\Ahat^{(0)} + \\theta^{(1)}\\!(\\bfmu)\\,\\Ahat^{(1)}\\right)\\qhat(t)$, an affine-parametric linear operator where $\\theta^{(0)}\\!(\\bfmu) = \\mu_{0}$ and $\\theta^{(1)}\\!(\\bfmu) = \\cos(\\mu_{1})$;\n",
    "- $\\Ophat_2(\\qhat,\\u) = \\Hhat[\\qhat(t) \\otimes \\qhat(t)]$, a nonparametric quadratic operator; and\n",
    "- $\\Ophat_3(\\qhat,\\u;\\bfmu) = \\Bhat(\\bfmu)\\u(t)$, a parametric input operator without a specified parametric structure.\n",
    "\n",
    "If $\\Bhat(\\bfmu)$ is parameterized with interpolation, the Operator Inference problem to learn the operator matrices can be written as $\\Z \\approx \\Ohat\\D\\trp$ in the following way.\n",
    "Let $\\Qhat_i\\in\\RR^{r\\times k_i}$ and $\\U_i\\in\\RR^{m \\times k_i}$ collect the state and input data for training parameter value $\\bfmu_i$, with corresponding state time derivative data $\\Z_i = \\dot{\\Qhat}_i\\in\\RR^{r\\times k_i}$ for $i = 0,\\ldots, s-1$.\n",
    "We then have\n",
    "\n",
    "$$\n",
    "\\begin{aligned}\n",
    "    \\Z\n",
    "    &= \\left[\\begin{array}{ccc}\n",
    "        \\Z_0 & \\cdots & \\Z_{s-1}\n",
    "    \\end{array}\\right]\\in\\RR^{r\\times K}\n",
    "    \\\\\n",
    "    \\Ohat\n",
    "    &= \\left[\\begin{array}{cc|c|ccc}\n",
    "        \\Ahat^{(0)} & \\Ahat^{(1)} & \\Hhat & \\Bhat^{(0)} & \\cdots & \\Bhat^{(s-1)}\n",
    "    \\end{array}\\right]\\in\\RR^{r \\times d}\n",
    "    \\\\\n",
    "    \\D\\trp\n",
    "    &= \\left[\\begin{array}{}\n",
    "        \\theta^{(0)}\\!(\\bfmu_0)\\Qhat_{0} & \\cdots & \\theta^{(0)}\\!(\\bfmu_s)\\Qhat_{s} \\\\\n",
    "        \\theta^{(1)}\\!(\\bfmu_0)\\Qhat_{0} & \\cdots & \\theta^{(1)}\\!(\\bfmu_s)\\Qhat_{s} \\\\ \\hline\n",
    "        \\Qhat_{0}\\odot\\Qhat_{0} & \\cdots & \\Qhat_{s}\\odot\\Qhat_{s} \\\\ \\hline\n",
    "        \\U_{0} & \\cdots & \\0 \\\\\n",
    "        \\vdots & \\ddots & \\0 \\\\\n",
    "        \\0 & \\cdots & \\U_{s-1}\n",
    "    \\end{array}\\right]\\in\\RR^{d \\times K},\n",
    "\\end{aligned}\n",
    "$$\n",
    "\n",
    "where $K = \\sum_{i=0}^{s-1}k_i$ is the total number of data snapshots and $d = 2r + r(r+1)/2 + sm$ is the total operator dimension.\n",
    "Note that the operator and data matrices have blocks corresponding to each of the three operators in the model.\n",
    ":::"
   ]
  }
 ],
 "metadata": {
  "kernelspec": {
   "display_name": "Python 3 (ipykernel)",
   "language": "python",
   "name": "python3"
  },
  "language_info": {
   "codemirror_mode": {
    "name": "ipython",
    "version": 3
   },
   "file_extension": ".py",
   "mimetype": "text/x-python",
   "name": "python",
   "nbconvert_exporter": "python",
   "pygments_lexer": "ipython3",
   "version": "3.12.3"
  }
 },
 "nbformat": 4,
 "nbformat_minor": 4
}
