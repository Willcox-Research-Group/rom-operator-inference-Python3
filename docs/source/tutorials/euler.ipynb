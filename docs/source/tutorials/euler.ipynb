{
 "cells": [
  {
   "cell_type": "markdown",
   "metadata": {
    "toc-hr-collapsed": false
   },
   "source": [
    "# Regularization"
   ]
  },
  {
   "cell_type": "markdown",
   "metadata": {
    "toc-hr-collapsed": false
   },
   "source": [
    "Operator inference is an inverse problem: it seeks to learn a system (or a low-dimensional representation thereof) that produced a set of observed data.\n",
    "Like most inverse problems, operator inference often benefits from regularization to balance data fitting with desirable conditioning.\n",
    "In some cases, the quality of an operator inference model can be quite sensitive to the choice of the regularization.\n",
    "This tutorial shows how to specify regularization and demonstrated principled methods for optimal regularization selection.\n",
    "\n",
    "**Key references:** {cite}`mcquarrie2021combustion,qian2022pdes,sawant2023pireg`."
   ]
  },
  {
   "cell_type": "markdown",
   "metadata": {
    "toc-nb-collapsed": true
   },
   "source": [
    "## Problem Statement"
   ]
  },
  {
   "cell_type": "markdown",
   "metadata": {},
   "source": [
    "We start with a quadratic problem."
   ]
  },
  {
   "cell_type": "markdown",
   "metadata": {},
   "source": [
    ":::{admonition} Governing Equations\n",
    ":class: info\n",
    "\n",
    "Let $\\Omega = [0,L]\\subset \\mathbb{R}$ be the spatial domain indicated by the variable $x$, and let $[0,T]\\subset\\mathbb{R}$ be the time domain with variable $t$. We consider the one-dimensional Euler equations for the incompressible flow of an ideal gas with periodic boundary conditions.\n",
    "The state is given by\n",
    "\n",
    "$$\n",
    "\\begin{aligned}\n",
    "    \\vec{q}_c(x, t) = \\left[\\begin{array}{c}\n",
    "        \\rho \\\\ \\rho v \\\\ \\rho e\n",
    "    \\end{array}\\right],\n",
    "\\end{aligned}\n",
    "$$\n",
    "\n",
    "where $\\rho = \\rho(x,t)$ is the density, $v = v(x,t)$ is the fluid velocity, and $e = e(x, t)$ is the internal energy.\n",
    "The state evolves according in time according to the system\n",
    "\n",
    "$$\n",
    "\\begin{aligned}\n",
    "    \\frac{\\partial\\vec{q}_c}{\\partial t}\n",
    "    = \\frac{\\partial}{\\partial t} \\left[\\begin{array}{c}\n",
    "        \\rho \\\\ \\rho v \\\\ \\rho e\n",
    "    \\end{array}\\right]\n",
    "    &= -\\frac{\\partial}{\\partial x}\\left[\\begin{array}{c}\n",
    "        \\rho v \\\\ \\rho v^2 + p \\\\ (\\rho e + p) v\n",
    "    \\end{array}\\right]\n",
    "    & x &\\in\\Omega,\\quad t\\in[0,T],\n",
    "    \\\\\n",
    "    \\vec{q}_c(0,t) &= \\vec{q}_c(L,t)\n",
    "    & t &\\in[0,T],\n",
    "    \\\\\n",
    "    \\vec{q}_c(x,0) &= \\vec{q}_0\n",
    "    & x &\\in \\Omega,\n",
    "\\end{aligned}\n",
    "$$\n",
    "\n",
    "where $p = p(x,t)$ is the pressure.\n",
    "Note that the dynamics are nonpolynomially nonlinear with respect to $\\vec{q}_c$.\n",
    "The state variables are related via the ideal gas law\n",
    "\n",
    "$$\n",
    "\\begin{aligned}\n",
    "    \\rho e = \\frac{p}{\\gamma - 1} + \\frac{1}{2}\\rho v^{2},\n",
    "\\end{aligned}\n",
    "$$\n",
    "\n",
    "where $\\gamma = 1.4$ is the heat capacity ratio.\n",
    ":::"
   ]
  },
  {
   "cell_type": "markdown",
   "metadata": {},
   "source": [
    ":::{admonition} Objective\n",
    ":class: info\n",
    "\n",
    "Construct a reduced-order model (ROM) which can be solved rapidly to produce approximate solutions $\\vec{q}(x, t)$ to the partial differential equation given above for various choices of the initial condition $\\vec{q}_0$.\n",
    "In addition, we will only observe data over a limited time interval $t \\in [0, T']$ with $T' < T$, then use the ROM to predict the solution for the entire time domain $[0, T]$.\n",
    "Hence, the ROM will be **predictive in time** and **predictive in the initial data**.\n",
    ":::"
   ]
  },
  {
   "cell_type": "code",
   "execution_count": 1,
   "metadata": {},
   "outputs": [],
   "source": [
    "import itertools\n",
    "import numpy as np\n",
    "import scipy.integrate\n",
    "import scipy.interpolate\n",
    "import matplotlib.colors\n",
    "import matplotlib.pyplot as plt\n",
    "\n",
    "import opinf\n",
    "\n",
    "opinf.utils.mpl_config()"
   ]
  },
  {
   "cell_type": "markdown",
   "metadata": {},
   "source": [
    "## Full-order Model Definition"
   ]
  },
  {
   "cell_type": "markdown",
   "metadata": {},
   "source": [
    "To generate data, we discretize the spatial derivative using a first-order forward difference method."
   ]
  },
  {
   "cell_type": "markdown",
   "metadata": {},
   "source": [
    ":::{dropdown} Discretization details\n",
    "\n",
    "We take an equidistant grid $\\{x_i\\}_{i=0}^{n_x} \\subset \\Omega$,\n",
    "\n",
    "$$\n",
    "\\begin{aligned}\n",
    "    0 &= x_0 < x_1 < \\cdots < x_n < x_{n_x} = L\n",
    "    &\n",
    "    &\\text{and}\n",
    "    &\n",
    "    \\delta x &= \\frac{L}{n} = x_{i+1} - x_{i},\\quad i=0,\\ldots,n_x-1.\n",
    "\\end{aligned}\n",
    "$$\n",
    "\n",
    "The periodic boundary conditions prescribe $q(x_0,t) = q(x_{n_x},t)$.\n",
    "Our goal is to compute $\\vec{q}_\\text{c}(x,t)$ at the spatial points $x_{0},x_{1},\\ldots,x_{n_x-1}$ for each state variable in $\\vec{q}_c$, so we consider the discretized state vector\n",
    "\n",
    "$$\n",
    "\\begin{aligned}\n",
    "    \\q(t) = \\left[\\begin{array}{c}\n",
    "        \\rho(x_{0}, t) \\\\ \\vdots \\\\ \\rho(x_{n-1}, t)\n",
    "        \\\\\n",
    "        (\\rho v)(x_{0}, t) \\\\ \\vdots \\\\ (\\rho v)(x_{n-1}, t)\n",
    "        \\\\\n",
    "        (\\rho e)(x_{0}, t) \\\\ \\vdots \\\\ (\\rho e)(x_{n-1}, t)\n",
    "    \\end{array}\\right]\n",
    "    \\in\\RR^{3n_x}.\n",
    "\\end{aligned}\n",
    "$$\n",
    "\n",
    "Hence, the dimension of the full-order model is $n = 3n_x$.\n",
    "The spatial derivative is approximated with a first-order backward finite difference approximation,\n",
    "\n",
    "$$\n",
    "\\begin{aligned}\n",
    "    \\frac{\\partial}{\\partial x}y(x,t)\n",
    "    \\approx \\frac{y(x, t) - y(x - \\delta x, t)}{\\delta x},\n",
    "\\end{aligned}\n",
    "$$\n",
    "\n",
    "for $y = \\rho v,$ $\\rho v^2 + p,$ and $(\\rho e + p) v.$\n",
    "\n",
    "Note that we do not explicitly construct matrices defining the evolution of $\\q(t).$\n",
    "The system is integrated in time using an adaptive Runge--Kutta method via {func}`scipy.integrate.solve_ivp` with ``method=\"RK45\"``.\n",
    ":::"
   ]
  },
  {
   "cell_type": "markdown",
   "metadata": {},
   "source": [
    "### Training Data Generation"
   ]
  },
  {
   "cell_type": "markdown",
   "metadata": {},
   "source": [
    "Let $L = 2$ with $n_x = 1001$ and $T = 0.15.$\n",
    "We begin by solving the FOM described above, recording the solution at $K = 500$ uniformly spaced time instances, including the initial condition.\n",
    "We will assume that we can only observe the first $k = 200$ snapshots (up to $T' = 0.06$)."
   ]
  },
  {
   "cell_type": "code",
   "execution_count": null,
   "metadata": {
    "tags": [
     "hide-input"
    ]
   },
   "outputs": [],
   "source": [
    "gamma = 1.4\n",
    "\n",
    "# Construct the spatial domain.\n",
    "L = 2\n",
    "nx = 200  # 1000\n",
    "x = np.linspace(0, L, nx + 1)[:-1]\n",
    "dx = x[1] - x[0]\n",
    "\n",
    "# Construct the temporal domain.\n",
    "T = 0.15\n",
    "K = 501\n",
    "t_all = np.linspace(0, T, K)\n",
    "dt = t_all[1] - t_all[0]\n",
    "\n",
    "\n",
    "def _ddx(var):\n",
    "    \"\"\"First-order backward differences with periodic boundary conditions.\"\"\"\n",
    "    return (var - np.roll(var, 1, axis=0)) / dx\n",
    "\n",
    "\n",
    "def fom_derivative(tt, state):\n",
    "    \"\"\"Right-hand side of the full-order model equations.\"\"\"\n",
    "    rho, rho_u, rho_e = np.split(state, 3)\n",
    "    u = rho_u / rho\n",
    "    p = (gamma - 1) * (rho_e - 0.5 * rho * u**2)\n",
    "\n",
    "    return -np.concatenate(\n",
    "        [\n",
    "            _ddx(rho_u),\n",
    "            _ddx(rho * u**2 + p),\n",
    "            _ddx((rho_e + p) * u),\n",
    "        ]\n",
    "    )\n",
    "\n",
    "\n",
    "def full_order_solve(q_init, time_domain):\n",
    "    \"\"\"Solve the full-order model with SciPy.\"\"\"\n",
    "    return scipy.integrate.solve_ivp(\n",
    "        fun=fom_derivative,\n",
    "        t_span=[time_domain[0], time_domain[-1]],\n",
    "        y0=q_init,\n",
    "        method=\"RK45\",\n",
    "        t_eval=time_domain,\n",
    "        rtol=1e-5,\n",
    "        atol=1e-8,\n",
    "    ).y\n",
    "\n",
    "\n",
    "# Construct initial conditions.\n",
    "def initial_conditions(init_params):\n",
    "    r\"\"\"Generate initial conditions by evaluating periodic cubic splines\n",
    "    for density and velocity.\n",
    "\n",
    "    Parameters\n",
    "    ----------\n",
    "    init_params : (6,) ndarray\n",
    "        Degrees of freedom for the initial conditions, three interpolation\n",
    "        values for the density and three for the velocity (in that order).\n",
    "\n",
    "    Returns\n",
    "    -------\n",
    "    init : (3nx,) ndarray\n",
    "        Initial conditions (in the conservative variables [rho, rho v, rho e]).\n",
    "    \"\"\"\n",
    "    # Extrac initial condition parameters and enforce periodicity.\n",
    "    rho0s, v0s = init_params[:3], init_params[3:6]\n",
    "    v0s = np.concatenate((v0s, [v0s[0]]))\n",
    "    rho0s = np.concatenate((rho0s, [rho0s[0]]))\n",
    "\n",
    "    # Construct initial conditions for each variable.\n",
    "    nodes = np.array([0, L / 3, 2 * L / 3, L]) + x[0]\n",
    "    rho = scipy.interpolate.CubicSpline(nodes, rho0s, bc_type=\"periodic\")(x)\n",
    "    v = scipy.interpolate.CubicSpline(nodes, v0s, bc_type=\"periodic\")(x)\n",
    "    p = 1e5 * np.ones_like(x)\n",
    "    rho_e = p / (gamma - 1) + 0.5 * rho * v**2\n",
    "\n",
    "    return np.concatenate((rho, rho * v, rho_e))\n",
    "\n",
    "\n",
    "# Solve the full-order model for a variety fo initial conditions.\n",
    "q0s = [\n",
    "    initial_conditions(icparams)\n",
    "    for icparams in itertools.product(\n",
    "        [20, 24],\n",
    "        [22],\n",
    "        [20, 24],\n",
    "        [95, 105],\n",
    "        [100],\n",
    "        [95, 105],\n",
    "    )\n",
    "]\n",
    "with opinf.utils.TimedBlock(f\"{len(q0s)} full-order solves\"):\n",
    "    Q_alls = [full_order_solve(q0, t_all) for q0 in q0s]\n",
    "\n",
    "# Solve the full-order model for a single initial condition.\n",
    "q0 = initial_conditions([22, 20, 24, 95, 105, 100])\n",
    "with opinf.utils.TimedBlock(\"Full-order solve\"):\n",
    "    Q_all = full_order_solve(q0, t_all)\n",
    "\n",
    "# Retain only the first k snapshots for training the ROM.\n",
    "k = 200\n",
    "t_train = t_all[:k]\n",
    "Q_train = Q_all[:, :k]\n",
    "Q_trains = [Q[:, :k] for Q in Q_alls]\n",
    "\n",
    "print(f\"\\nSpatial domain:\\t\\t{x.shape=}\")\n",
    "print(f\"Spatial step size:\\t{dx=:.10f}\")\n",
    "print(f\"\\nFull time domain:\\t{t_all.shape=}\")\n",
    "print(f\"Training time domain:\\t{t_train.shape=}\")\n",
    "print(f\"Temporal step size:\\t{dt=:f}\")\n",
    "print(f\"\\nAll FOM solutions:\\t{Q_all.shape=}\")\n",
    "print(f\"Training snapshots:\\t{Q_train.shape=}\")"
   ]
  },
  {
   "cell_type": "code",
   "execution_count": 3,
   "metadata": {},
   "outputs": [],
   "source": [
    "class EulerLifter(opinf.lift.LifterTemplate):\n",
    "    \"\"\"Lifting map for the Euler equations transforming conservative\n",
    "    variables to specific volume variables.\n",
    "    \"\"\"\n",
    "\n",
    "    num_original_variables = 3\n",
    "    num_lifted_variables = 3\n",
    "\n",
    "    def __init__(self, gamma=1.4):\n",
    "        \"\"\"Store the heat capacity ratio, gamma.\"\"\"\n",
    "        self.gamma = gamma\n",
    "\n",
    "    def lift(self, state):\n",
    "        \"\"\"Map the conservative variables to the learning variables,\n",
    "        [rho, rho*u, rho*e] -> [u, p, 1/rho].\n",
    "        \"\"\"\n",
    "        rho, rho_u, rho_e = np.split(state, self.num_original_variables)\n",
    "\n",
    "        u = rho_u / rho\n",
    "        p = (self.gamma - 1) * (rho_e - 0.5 * rho * u**2)\n",
    "        zeta = 1 / rho\n",
    "\n",
    "        return np.concatenate((u, p, zeta))\n",
    "\n",
    "    def unlift(self, upzeta):\n",
    "        \"\"\"Map the learning variables to the conservative variables,\n",
    "        [u, p, 1/rho] -> [rho, rho*u, rho*e].\n",
    "        \"\"\"\n",
    "        u, p, zeta = np.split(upzeta, self.num_lifted_variables)\n",
    "\n",
    "        rho = 1 / zeta\n",
    "        rho_u = rho * u\n",
    "        rho_e = p / (self.gamma - 1) + 0.5 * rho * u**2\n",
    "\n",
    "        return np.concatenate((rho, rho_u, rho_e))\n",
    "\n",
    "\n",
    "lifter = EulerLifter()"
   ]
  },
  {
   "cell_type": "markdown",
   "metadata": {},
   "source": [
    "The following code visualizes the training data and the full FOM solution set by plotting a few snapshots over the spatial domain and the time evolution of the snapshots at a few spatial locations."
   ]
  },
  {
   "cell_type": "code",
   "execution_count": 4,
   "metadata": {
    "tags": [
     "hide-input"
    ]
   },
   "outputs": [],
   "source": [
    "def plot_traces(t, states, nlocs=20, lift=False):\n",
    "    \"\"\"Plot traces in time at ``nlocs`` locations.\"\"\"\n",
    "    if lift:\n",
    "        states = lifter.lift(states)\n",
    "\n",
    "    # Choose spatial locations at which to plot each state.\n",
    "    xlocs = np.linspace(0, states.shape[0] // 3, nlocs + 1, dtype=int)[:-1]\n",
    "    xlocs += xlocs[1] // 2\n",
    "    colors = plt.cm.twilight(np.linspace(0, 1, nlocs + 1)[:-1])\n",
    "    u, p, zeta = np.split(states, 3)\n",
    "\n",
    "    # Plot the states in time.\n",
    "    fig, axes = plt.subplots(3, 1, sharex=True, figsize=(12, 6))\n",
    "    for j, c in zip(xlocs, colors):\n",
    "        axes[0].plot(t, u[j], color=c, lw=1)\n",
    "        axes[1].plot(t, p[j], color=c, lw=1)\n",
    "        axes[2].plot(t, zeta[j], color=c, lw=1)\n",
    "\n",
    "    # Format axes.\n",
    "    axes[2].set_xlabel(r\"$t\\in[t_{0},t_{f}]$\")\n",
    "    axes[2].set_xlim(t[0], t[-1])\n",
    "    axes[0].set_ylabel(r\"velocity $v(x)$\")\n",
    "    axes[1].set_ylabel(r\"pressure $p(x)$\")\n",
    "    axes[2].set_ylabel(r\"1/density $\\rho(x)$\")\n",
    "    fig.align_ylabels(axes)\n",
    "\n",
    "    # Colorbar.\n",
    "    lsc = plt.cm.twilight(np.linspace(0, 1, 400))\n",
    "    scale = matplotlib.colors.Normalize(vmin=0, vmax=1)\n",
    "    lscmap = matplotlib.colors.LinearSegmentedColormap.from_list(\n",
    "        \"euler\", lsc, N=nlocs\n",
    "    )\n",
    "    mappable = plt.cm.ScalarMappable(norm=scale, cmap=lscmap)\n",
    "    cbar = fig.colorbar(mappable, ax=axes, pad=0.015)\n",
    "    cbar.set_ticks(x[xlocs] / (x[-1] - x[0]))\n",
    "    cbar.set_ticklabels([f\"{xx:.2f}\" for xx in x[xlocs]])\n",
    "    cbar.set_label(r\"spatial coordinate $x$\")\n",
    "\n",
    "    return fig, axes\n",
    "\n",
    "\n",
    "def plot_regimes(states, nlocs=20, lift=False):\n",
    "    \"\"\"Plot traces in time and label training/prediction regimes.\"\"\"\n",
    "    fig, axes = plot_traces(t_all, states, nlocs, lift)\n",
    "\n",
    "    for ax in axes.flat:\n",
    "        ax.axvline(t_train[-1], color=\"black\", linewidth=1)\n",
    "    ymax = axes[0].get_ylim()[1]\n",
    "    axes[0].text(t_train[-1] / 2, ymax, \"training regime\", ha=\"center\")\n",
    "    xpred = (t_all[-1] - t_train[-1]) / 2 + t_train[-1]\n",
    "    axes[0].text(xpred, ymax, \"prediction regime\", ha=\"center\")\n",
    "\n",
    "    return fig, axes"
   ]
  },
  {
   "cell_type": "code",
   "execution_count": null,
   "metadata": {},
   "outputs": [],
   "source": [
    "plot_traces(t_train, Q_train, nlocs=20, lift=True)\n",
    "plt.show()"
   ]
  },
  {
   "cell_type": "code",
   "execution_count": null,
   "metadata": {},
   "outputs": [],
   "source": [
    "plot_regimes(Q_all, lift=True)\n",
    "plt.show()"
   ]
  },
  {
   "cell_type": "markdown",
   "metadata": {},
   "source": [
    "### ROM Construction"
   ]
  },
  {
   "cell_type": "markdown",
   "metadata": {},
   "source": [
    "We will use a single (monolithic) POD basis for all three lifted state variables jointly.\n",
    "That means we need to scale our data appropriately first.\n",
    "\n",
    "We select characteristic scales $\\bar{v} = 100~[\\text{m}/\\text{s}]$ for the velocity and $\\bar{p} = 100000~[\\text{Pa}]$ for the pressure.\n",
    "As can be seen from the ideal gas law, the characteristic scale for density is\n",
    "\n",
    "$$\n",
    "    \\bar{\\rho}\n",
    "    = \\frac{\\bar{p}}{\\bar{v}^2}\n",
    "    = 10.\n",
    "$$"
   ]
  },
  {
   "cell_type": "code",
   "execution_count": 7,
   "metadata": {},
   "outputs": [],
   "source": [
    "euler_scaler = opinf.pre.TransformerMulti(\n",
    "    transformers=[\n",
    "        opinf.pre.ScaleTransformer(1e-2, name=\"velocity\"),\n",
    "        opinf.pre.ScaleTransformer(1e-5, name=\"pressure\"),\n",
    "        opinf.pre.ScaleTransformer(1e1, name=\"specific volume\"),\n",
    "    ]\n",
    ")"
   ]
  },
  {
   "cell_type": "code",
   "execution_count": 8,
   "metadata": {},
   "outputs": [],
   "source": [
    "euler_shifter = opinf.pre.ShiftScaleTransformer(centering=True)\n",
    "euler_transformer = opinf.pre.TransformerPipeline(\n",
    "    [euler_shifter, euler_scaler]\n",
    ")"
   ]
  },
  {
   "cell_type": "markdown",
   "metadata": {},
   "source": [
    "We're now ready to construct a reduced-order model.\n",
    "Note that the model form is purely quadratic."
   ]
  },
  {
   "cell_type": "markdown",
   "metadata": {},
   "source": [
    "**Can either shift and use 8 basis vectors and full structure, or no shift and use 9 basis vectors and purely quadratic structure**"
   ]
  },
  {
   "cell_type": "code",
   "execution_count": null,
   "metadata": {},
   "outputs": [],
   "source": [
    "rom = opinf.ROM(\n",
    "    lifter=lifter,\n",
    "    # transformer=euler_transformer,\n",
    "    transformer=euler_scaler,\n",
    "    # basis=opinf.basis.PODBasis(num_vectors=8),\n",
    "    basis=opinf.basis.PODBasis(num_vectors=9),\n",
    "    ddt_estimator=opinf.ddt.UniformFiniteDifferencer(t_train, \"ord6\"),\n",
    "    model=opinf.models.ContinuousModel(\n",
    "        # operators=\"cAH\",\n",
    "        operators=\"H\",\n",
    "        solver=opinf.lstsq.L2Solver(regularizer=1e-8),\n",
    "    ),\n",
    ").fit(Q_trains)\n",
    "\n",
    "print(rom)"
   ]
  },
  {
   "cell_type": "markdown",
   "metadata": {},
   "source": [
    "Some sanity checks: basis energy and initial condition projection error."
   ]
  },
  {
   "cell_type": "code",
   "execution_count": null,
   "metadata": {},
   "outputs": [],
   "source": [
    "rom.basis.plot_energy(right=20)\n",
    "plt.show()"
   ]
  },
  {
   "cell_type": "code",
   "execution_count": null,
   "metadata": {},
   "outputs": [],
   "source": [
    "fig, axes = plt.subplots(1, 3)\n",
    "for i, ax in enumerate(axes.flat):\n",
    "    ax.plot(x, np.split(q0, 3)[i])\n",
    "    ax.plot(x, np.split(rom.project(q0), 3)[i])\n",
    "plt.show()"
   ]
  },
  {
   "cell_type": "markdown",
   "metadata": {},
   "source": [
    "The quality of the ROM is sensitive to the regularization hyperparameter, which we initially set to `1e-8`.\n",
    "\n",
    "\n",
    "**Actually, the quality of the ROM is super sensitive to the number of basis vectors, even with multiple data trajectories. This is not a good example for regularization, but it is a good example for lifting.**"
   ]
  },
  {
   "cell_type": "code",
   "execution_count": null,
   "metadata": {},
   "outputs": [],
   "source": [
    "rom.fit_regselect(\n",
    "    Q_trains,\n",
    "    candidates=np.logspace(-16, 3, 20),\n",
    "    fit_basis=True,\n",
    "    fit_transformer=True,\n",
    "    # gridsearch_only=True,\n",
    "    train_time_domains=t_train,\n",
    "    test_time_length=0.09,\n",
    "    stability_margin=5,\n",
    "    verbose=True,\n",
    ")\n",
    "print(\n",
    "    f\"\\nROM error, \"\n",
    "    f\"r = {rom.basis.reduced_state_dimension}, \"\n",
    "    f\"reg = {rom.model.solver.regularizer:.4e}:\"\n",
    ")\n",
    "for ell, Q in enumerate(Q_alls):\n",
    "    Q_rom = rom.predict(Q[:, 0], t_all)\n",
    "    if Q_rom.shape[1] != t_all.size:\n",
    "        print(f\"  trial {ell: >2d}: time integration failed \")\n",
    "    else:\n",
    "        print(\n",
    "            f\"  trial {ell: >2d} error:\",\n",
    "            f\"{opinf.post.Lp_error(Q, Q_rom, t_all)[1]:.6%}\",\n",
    "        )\n",
    "        # fig, axes = plot_regimes(Q_rom, lift=True)\n",
    "        # plt.show()"
   ]
  },
  {
   "cell_type": "code",
   "execution_count": null,
   "metadata": {},
   "outputs": [],
   "source": [
    "# plot_regimes(Q_rom - Q_alls[-1], lift=False)\n",
    "plot_regimes(Q_rom, lift=True)\n",
    "plot_regimes(Q_alls[-1], lift=True)\n",
    "plt.show()"
   ]
  },
  {
   "cell_type": "code",
   "execution_count": null,
   "metadata": {},
   "outputs": [],
   "source": []
  }
 ],
 "metadata": {
  "celltoolbar": "Tags",
  "kernelspec": {
   "display_name": "opinf",
   "language": "python",
   "name": "python3"
  },
  "language_info": {
   "codemirror_mode": {
    "name": "ipython",
    "version": 3
   },
   "file_extension": ".py",
   "mimetype": "text/x-python",
   "name": "python",
   "nbconvert_exporter": "python",
   "pygments_lexer": "ipython3",
   "version": "3.12.3"
  },
  "toc-showmarkdowntxt": false,
  "toc-showtags": true
 },
 "nbformat": 4,
 "nbformat_minor": 4
}
