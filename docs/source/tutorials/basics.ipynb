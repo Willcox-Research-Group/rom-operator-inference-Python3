{
 "cells": [
  {
   "cell_type": "markdown",
   "metadata": {
    "tags": [],
    "toc-hr-collapsed": false
   },
   "source": [
    "# Getting Started"
   ]
  },
  {
   "cell_type": "markdown",
   "metadata": {
    "toc-hr-collapsed": false
   },
   "source": [
    "The `opinf` package constructs reduced-order models for large dynamical systems.\n",
    "Such systems often arise from the numerical solution of partial differentials equations.\n",
    "In this introductory tutorial, we use operator inference (OpInf) to learn a reduced-order model for a simple heat equation.\n",
    "This is a simplified version of the first numerical example in {cite}`peherstorfer2016opinf`."
   ]
  },
  {
   "cell_type": "markdown",
   "metadata": {
    "toc-hr-collapsed": true,
    "toc-nb-collapsed": true
   },
   "source": [
    "## Problem Statement"
   ]
  },
  {
   "cell_type": "markdown",
   "metadata": {},
   "source": [
    ":::{admonition} Governing Equations\n",
    ":class: attention\n",
    "\n",
    "For the spatial domain $\\Omega = [0,L]\\subset \\RR$ and the time domain $[t_0,t_f]\\subset\\RR$, consider the one-dimensional heat equation with homogeneous Dirichlet boundary conditions:\n",
    "\n",
    "\\begin{align*}\n",
    "    &\\frac{\\partial}{\\partial t} q(x,t) = \\frac{\\partial^2}{\\partial x^2}q(x,t)\n",
    "    & x &\\in\\Omega,\\quad t\\in(t_0,t_f],\n",
    "    \\\\\n",
    "    &q(0,t) = q(L,t) = 0\n",
    "    & t &\\in [t_0,t_f],\n",
    "    \\\\\n",
    "    &q(x,t_0) = q_{0}(x)\n",
    "    & x &\\in \\Omega.\n",
    "\\end{align*}\n",
    "\n",
    "This is a model for a one-dimensional rod that conducts heat.\n",
    "The unknown state variable $q(x,t)$ represents the temperature of the rod at location $x$ and time $t$; the temperature at the ends of the rod are fixed at $0$ and heat is allowed to flow out of the rod at the ends.\n",
    ":::\n",
    "\n",
    ":::{admonition} Objective\n",
    ":class: attention\n",
    "\n",
    "Construct a low-dimensional system of ordinary differential equations, called the _reduced-order model_ (ROM), which can be solved rapidly to produce approximate solutions $q(x, t)$ to the partial differential equation given above. We will use OpInf to learn the ROM from high-fidelity data for one choice of initial condition $q_0(x)$ and test its performance on new initial conditions.\n",
    ":::"
   ]
  },
  {
   "cell_type": "markdown",
   "metadata": {},
   "source": [
    "## Training Data"
   ]
  },
  {
   "cell_type": "markdown",
   "metadata": {},
   "source": [
    "We begin by generating training data through a traditional finite difference discretization of the PDE."
   ]
  },
  {
   "cell_type": "markdown",
   "metadata": {},
   "source": [
    ":::{important}\n",
    "One key advantage of OpInf is that, because it learns a ROM from data alone, direct access to a high-fidelity solver is not required.\n",
    "In this tutorial, we explicitly construct the high-fidelity solver, but in practice, we only need the following:\n",
    "1. Solution outputs of a high-fidelity solver to learn from, and\n",
    "2. Some knowledge of the structure of the governing equations.\n",
    ":::"
   ]
  },
  {
   "cell_type": "markdown",
   "metadata": {},
   "source": [
    "### Define the Full-order Model"
   ]
  },
  {
   "cell_type": "markdown",
   "metadata": {},
   "source": [
    "To solve the problem numerically, let $\\{x\\}_{i=0}^{n+1}$ be an equidistant grid of $n+2$ points on $\\Omega$, i.e.,\n",
    "\n",
    "$$\n",
    "\\begin{aligned}\n",
    "    0 &= x_0 < x_1 < \\cdots < x_n < x_{n+1} = L\n",
    "    &\n",
    "    &\\text{and}\n",
    "    &\n",
    "    \\delta x &= \\frac{L}{n+1} = x_{i+1} - x_{i},\\quad i=1,\\ldots,n-1.\n",
    "\\end{aligned}\n",
    "$$\n",
    "\n",
    "The boundary conditions prescribe $q(x_0,t) = q(x_{n+1},t) = 0$.\n",
    "Our goal is to compute $q(x, t)$ at the interior spatial points $x_{1}, x_{2}, \\ldots, x_{n}$ for various $t = [0,T]$. we wish to compute the state vector\n",
    "\n",
    "$$\n",
    "\\begin{aligned}\n",
    "    \\q(t)\n",
    "    = \\left[\\begin{array}{c}\n",
    "        q(x_1,t) \\\\ \\vdots \\\\ q(x_n,t)\n",
    "    \\end{array}\\right]\\in\\RR^n\n",
    "\\end{aligned}\n",
    "$$\n",
    "\n",
    "for $t\\in[t_0,t_f]$."
   ]
  },
  {
   "cell_type": "markdown",
   "metadata": {},
   "source": [
    "Introducing a central finite difference approximation for the spatial derivative,\n",
    "\n",
    "$$\n",
    "\\begin{aligned}\n",
    "    \\frac{\\partial^2}{\\partial x^2}q(x,t)\n",
    "    &\\approx \\frac{q(x-\\delta x,t) - 2q(x,t) + q(x+\\delta x,t)}{(\\delta x)^2},\n",
    "\\end{aligned}\n",
    "$$\n",
    "\n",
    "yields the semi-discrete linear system\n",
    "\n",
    "$$\n",
    "\\begin{aligned}\n",
    "    \\ddt\\q(t) = \\A\\q(t),\n",
    "    \\qquad\n",
    "    \\q(0) = \\q_0,\n",
    "\\end{aligned}\n",
    "$$ (eq_basics_fom)\n",
    "\n",
    "where\n",
    "\n",
    "$$\n",
    "\\begin{aligned}\n",
    "    \\A &= \\frac{1}{(\\delta x)^2}\\left[\\begin{array}{ccccc}\n",
    "        -2 & 1 & & & \\\\\n",
    "        1 & -2 & 1 & & \\\\\n",
    "        & \\ddots & \\ddots & \\ddots & \\\\\n",
    "        & & 1 & -2 & 1 \\\\\n",
    "        & & & 1 & -2 \\\\\n",
    "    \\end{array}\\right] \\in\\RR^{n\\times n},\n",
    "    &\n",
    "    \\q_0 &= \\left[\\begin{array}{c}\n",
    "    q_{0}(x_{1}) \\\\ q_{0}(x_{2}) \\\\ \\vdots \\\\ q_{0}(x_{n-1}) \\\\ q_{0}(x_{n})\n",
    "    \\end{array}\\right] \\in\\RR^{n}.\n",
    "\\end{aligned}\n",
    "$$\n",
    "\n",
    "Equation {eq}`eq_basics_fom` is called the _full-order model_ (FOM) or the _high-fidelity model_. The computational complexity of solving {eq}`eq_basics_fom` depends on the dimension $n$, which must often be large in order for $\\q(t)$ to approximate $q(x,t)$ well over the spatial grid. Our goal is to construct a ROM that approximates the FOM, but whose computational complexity only depends on some smaller dimension $r \\ll n$."
   ]
  },
  {
   "cell_type": "markdown",
   "metadata": {
    "toc-hr-collapsed": true
   },
   "source": [
    "### Solve the Full-order Model"
   ]
  },
  {
   "cell_type": "markdown",
   "metadata": {
    "toc-hr-collapsed": true
   },
   "source": [
    "For this demo, we'll use $t_0 = 0$ and $L = t_f = 1$.\n",
    "We begin by simulating the full-order system described above with the initial condition\n",
    "\n",
    "$$\n",
    "\\begin{aligned}\n",
    "    q_{0}(x) = x(1 - x),\n",
    "\\end{aligned}\n",
    "$$\n",
    "\n",
    "using a maximal time step size $\\delta t = 10^{-3}$.\n",
    "This results in $k = 10^3 + 1 = 1001$ state snapshots (1000 time steps after the initial condition), which are organized as the _snapshot matrix_ $\\Q\\in\\RR^{n\\times k}$, where the $j$th column is the solution trajectory at time $t_j$:\n",
    "\n",
    "$$\n",
    "\\begin{aligned}\n",
    "    \\Q = \\left[\\begin{array}{ccc}\n",
    "        && \\\\\n",
    "        \\q_{0} & \\cdots & \\q_{k-1}\n",
    "        \\\\ &&\n",
    "    \\end{array}\\right] \\in\\RR^{n\\times k},\n",
    "    \\qquad\n",
    "    \\q_{j} := \\q(t_j) \\in\\RR^{n},\\quad j = 0, \\ldots, k-1.\n",
    "\\end{aligned}\n",
    "$$\n",
    "\n",
    "Note that the initial condition $\\q_{0}$ is included as a column in the snapshot matrix."
   ]
  },
  {
   "cell_type": "code",
   "execution_count": null,
   "metadata": {
    "tags": []
   },
   "outputs": [],
   "source": [
    "import numpy as np\n",
    "import pandas as pd\n",
    "import scipy.linalg as la\n",
    "import scipy.sparse as sparse\n",
    "import matplotlib.pyplot as plt\n",
    "from scipy.integrate import solve_ivp\n",
    "\n",
    "import opinf\n",
    "\n",
    "opinf.utils.mpl_config()"
   ]
  },
  {
   "cell_type": "code",
   "execution_count": null,
   "metadata": {},
   "outputs": [],
   "source": [
    "# Construct the spatial domain.\n",
    "L = 1  # Spatial domain length.\n",
    "n = 2**7 - 1  # Spatial grid size.\n",
    "x_all = np.linspace(0, L, n + 2)  # Full spatial grid.\n",
    "x = x_all[1:-1]  # Interior spatial grid (where q is unknown).\n",
    "dx = x[1] - x[0]  # Spatial resolution.\n",
    "\n",
    "# Construct the temporal domain.\n",
    "t0, tf = 0, 1  # Initial and final time.\n",
    "k = tf * 1000 + 1  # Temporal grid size.\n",
    "t = np.linspace(t0, tf, k)  # Temporal grid.\n",
    "dt = t[1] - t[0]  # Temporal resolution.\n",
    "\n",
    "print(f\"Spatial step size:\\tdx = {dx}\")\n",
    "print(f\"Temporal step size:\\tdt = {dt}\")"
   ]
  },
  {
   "cell_type": "code",
   "execution_count": null,
   "metadata": {},
   "outputs": [],
   "source": [
    "# Construct the full-order state matrix A.\n",
    "diags = np.array([1, -2, 1]) / (dx**2)\n",
    "A = sparse.diags(diags, [-1, 0, 1], (n, n))\n",
    "\n",
    "\n",
    "# Define the full-order model dx/dt = f(t,x),  x(0) = x0.\n",
    "def fom(t, x):\n",
    "    return A @ x\n",
    "\n",
    "\n",
    "# Construct the initial condition for the training data.\n",
    "q0 = x * (1 - x)\n",
    "\n",
    "print(f\"{A.shape=}\\t{q0.shape=}\")"
   ]
  },
  {
   "cell_type": "code",
   "execution_count": null,
   "metadata": {},
   "outputs": [],
   "source": [
    "# Compute snapshots by solving the full-order model with SciPy.\n",
    "Q = solve_ivp(fom, [t0, tf], q0, t_eval=t, method=\"BDF\").y\n",
    "\n",
    "print(f\"{Q.shape=}\")"
   ]
  },
  {
   "cell_type": "markdown",
   "metadata": {},
   "source": [
    ":::{caution}\n",
    "It is often better to use your own ODE solver, tailored to the problem at hand, instead of integration packages such as [**scipy.integrate**](https://docs.scipy.org/doc/scipy/tutorial/integrate.html).\n",
    "If the integration strategy of the FOM is known, try using that strategy with the ROM.\n",
    ":::"
   ]
  },
  {
   "cell_type": "markdown",
   "metadata": {},
   "source": [
    "### Visualize Training Data"
   ]
  },
  {
   "cell_type": "markdown",
   "metadata": {},
   "source": [
    "Next, we visualize the snapshots to get a sense of how the solution looks qualitatively."
   ]
  },
  {
   "cell_type": "code",
   "execution_count": null,
   "metadata": {
    "tags": [
     "hide-input"
    ]
   },
   "outputs": [],
   "source": [
    "def plot_heat_data(Z, title, ax=None):\n",
    "    \"\"\"Visualize temperature data in space and time.\"\"\"\n",
    "    if ax is None:\n",
    "        _, ax = plt.subplots(1, 1)\n",
    "\n",
    "    # Plot a few snapshots over the spatial domain.\n",
    "    sample_columns = [0, 2, 5, 10, 20, 40, 80, 160, 320]\n",
    "    color = iter(plt.cm.viridis_r(np.linspace(0.05, 1, len(sample_columns))))\n",
    "\n",
    "    leftBC, rightBC = [0], [0]\n",
    "    for j in sample_columns:\n",
    "        q_all = np.concatenate([leftBC, Z[:, j], rightBC])\n",
    "        ax.plot(x_all, q_all, color=next(color), label=rf\"$q(x,t_{{{j}}})$\")\n",
    "\n",
    "    ax.set_xlim(x_all[0], x_all[-1])\n",
    "    ax.set_xlabel(r\"$x$\")\n",
    "    ax.set_ylabel(r\"$q(x,t)$\")\n",
    "    ax.legend(loc=(1.05, 0.05))\n",
    "    ax.set_title(title)"
   ]
  },
  {
   "cell_type": "code",
   "execution_count": null,
   "metadata": {},
   "outputs": [],
   "source": [
    "plot_heat_data(Q, \"Snapshot data\")"
   ]
  },
  {
   "cell_type": "markdown",
   "metadata": {},
   "source": [
    "This matches our intuition: initially there is more heat toward the center of the rod, which then diffuses out of the ends of the rod. In the figure, earlier times are lighter colors and later times are darker colors."
   ]
  },
  {
   "cell_type": "markdown",
   "metadata": {},
   "source": [
    "## Operator Inference"
   ]
  },
  {
   "cell_type": "markdown",
   "metadata": {},
   "source": [
    "At this point, we have gathered some training data by simulating the FOM.\n",
    "We also have an initial condition and space and time domains.\n",
    "\n",
    "| Name | Symbol | Code Variable |\n",
    "| :--- | :----: | :------------ |\n",
    "| State snapshots | $\\Q$ | `Q` |\n",
    "| Initial state | $\\q_0$ | `q0` |\n",
    "| Spatial variable | $\\Omega$ | `x` |\n",
    "| Time domain | $[t_0,t_f]$ | `t` |\n",
    "\n",
    "Our task now is to construct a low-dimensional system whose solutions can be used as approximate solutions to the PDE.\n",
    "Below we show the overall process, then explain each piece that happens under the hood."
   ]
  },
  {
   "cell_type": "code",
   "execution_count": null,
   "metadata": {},
   "outputs": [],
   "source": [
    "import opinf\n",
    "\n",
    "# Define the reduced-order model structure.\n",
    "rom = opinf.ROM(\n",
    "    basis=opinf.basis.PODBasis(cumulative_energy=0.999999),\n",
    "    ddt_estimator=opinf.ddt.UniformFiniteDifferencer(t, \"ord6\"),\n",
    "    model=opinf.models.ContinuousModel(\"A\"),\n",
    "    solver=opinf.lstsq.L2Solver(regularizer=1e-2),\n",
    ")\n",
    "\n",
    "# Calibrate the reduced-order model to data.\n",
    "rom.fit(Q)\n",
    "\n",
    "# Solve the reduced-order model.\n",
    "Q_ROM = rom.predict(q0, t, method=\"BDF\", max_step=dt)\n",
    "\n",
    "# Compute the relative error of the ROM solution.\n",
    "opinf.post.frobenius_error(Q, Q_ROM)[1]"
   ]
  },
  {
   "cell_type": "markdown",
   "metadata": {},
   "source": [
    "### Data Compression"
   ]
  },
  {
   "cell_type": "markdown",
   "metadata": {},
   "source": [
    "Our first task is to construct a low-dimensional representation of the FOM state $\\q(t)\\in\\RR^{n}$, denoted $\\qhat(t)\\in\\RR^r$.\n",
    "A ROM is a system of equations that acts on the reduced state $\\qhat(t)$.\n",
    "The integer $r$ is the dimension of the ROM: if $r \\ll n$, we can expect to be able to solve the ROM much faster than we can solve the FOM.\n",
    "\n",
    "The relationship between $\\q(t)$ and $\\qhat(t)$ helps dictate the structure of the ROM and allows us to compress the state snapshots $\\q_0,\\ldots,\\q_{k-1}\\in\\RR^{n}$ to low-dimensional representations $\\qhat_0,\\ldots,\\qhat_{k-1}\\in\\RR^{r}$ that are used to calibrate the ROM.\n",
    "Tools for defining low-dimensional approximations of high-dimensional states are defined in {mod}`opinf.basis`.\n",
    "\n",
    "For this problem, we use a linear approximation for $\\q(t)$:\n",
    "\n",
    "$$\n",
    "\\begin{aligned}\n",
    "    \\q(t)\n",
    "    \\approx \\Vr\\qhat(t).\n",
    "\\end{aligned}\n",
    "$$\n",
    "\n",
    "The matrix $\\Vr\\in\\RR^{n\\times r}$ is called a _basis matrix_ and its columns are called _basis vectors_.\n",
    "We typically have $\\Vr\\trp\\Vr = \\I$, i.e., the basis vectors form an orthonormal set.\n",
    "Note that the product $\\Vr\\qhat(t)$ is a linear combination of the basis vectors, so $\\q(t)$ can only be approximated well if it is within or near the span of the basis vectors.\n",
    "\n",
    "We choose $\\Vr$ using proper orthogonal decomposition (POD), which is based on the singular value decomposition (SVD) of samples of $\\q(t)$.\n",
    "The singular values give some guidance on choosing an appropriate ROM dimension $r$.\n",
    "Fast singular value decay is a good sign that a ROM may be successful with this kind of data; if the singular values do not decay quickly, then a large $r$ may be required to capture the behavior of the system.\n",
    "POD is implemented in this package as {class}`opinf.basis.PODBasis`.\n",
    "Below, we initialize a `PODBasis` with a criteria for selecting $r$: choose the smallest $r$ such that we capture over $99.9999\\%$ of the [cumulative energy](#sec:api-basis-dimselect) of the system.\n"
   ]
  },
  {
   "cell_type": "code",
   "execution_count": null,
   "metadata": {},
   "outputs": [],
   "source": [
    "# Initialize a basis.\n",
    "basis = opinf.basis.PODBasis(cumulative_energy=0.999999)\n",
    "\n",
    "# Fit the basis (compute Vr) using the snapshot data.\n",
    "basis.fit(Q)\n",
    "print(basis)\n",
    "\n",
    "# Visualize the basis vectors.\n",
    "basis.plot1D(x)\n",
    "plt.show()"
   ]
  },
  {
   "cell_type": "markdown",
   "metadata": {},
   "source": [
    "Solutions of our eventual ROM are restricted to linear combinations of these two basis vectors.\n",
    "\n",
    "After the `PODbasis` is initialized and calibrated, we can use it to compress the state snapshots to an $r$-dimensional representation.\n",
    "In this case, we have $\\qhat_j = \\Vr\\trp\\q_j \\in \\RR^{r}$.\n",
    "These $\\qhat_j$ are data for the ROM state $\\qhat(t)$ at time $t_j$."
   ]
  },
  {
   "cell_type": "code",
   "execution_count": null,
   "metadata": {},
   "outputs": [],
   "source": [
    "# Compress the state snapshots to the reduced space defined by the basis.\n",
    "Q_ = basis.compress(Q)\n",
    "\n",
    "print(f\"{Q.shape=}, {Q_.shape=}\")"
   ]
  },
  {
   "cell_type": "markdown",
   "metadata": {},
   "source": [
    "To see how well the state can be represented by a given basis matrix, it is helpful to examine the _projection_ of the state snapshots.\n",
    "For linear state approximations, the projection of $\\q\\in\\RR^n$ is the vector $\\Vr\\Vr\\trp\\q\\in\\RR^n$."
   ]
  },
  {
   "cell_type": "code",
   "execution_count": null,
   "metadata": {},
   "outputs": [],
   "source": [
    "basis.projection_error(Q)"
   ]
  },
  {
   "cell_type": "markdown",
   "metadata": {},
   "source": [
    "### Time Derivative Estimation"
   ]
  },
  {
   "cell_type": "markdown",
   "metadata": {},
   "source": [
    "In addition to the compressed state snapshots $\\qhat_0,\\ldots,\\qhat_{k-1}$, OpInf for time-continuous (ODE) models requires data for the time derivatives of the state snapshots, denoted\n",
    "\n",
    "$$\n",
    "\\begin{aligned}\n",
    "    \\dot{\\qhat}_j\n",
    "    = \\ddt\\qhat(t)\\big|_{t=t_j}\n",
    "    \\in\\RR^{r}.\n",
    "\\end{aligned}\n",
    "$$\n",
    "\n",
    "There are two ways to get such data.\n",
    "\n",
    "1. If time derivatives of the original state snapshots are available, they can be compressed to the reduced state space.\n",
    "2. Otherwise, the time derivatives may be estimated from the compressed states.\n",
    "\n",
    "The latter scenario (being given state data but not time derivative data) is common, so {mod}`opinf.ddt` defines tools for estimating time derivatives."
   ]
  },
  {
   "cell_type": "markdown",
   "metadata": {},
   "source": [
    "Recall that the FOM in this problem is given by $\\ddt\\q(t) = \\A\\q(t)$.\n",
    "In this case we have $\\A$, so we can compute $\\dot{\\q}_j = \\A\\q_j$, then set $\\dot{\\qhat}_j = \\Vr\\trp\\dot{\\q}_j$.\n",
    "Below, we should how this approach compares with using tools from {mod}`opinf.ddt`.\n",
    "Since the data $\\q_0,\\ldots,\\q_{k-1}$ are defined on a uniform time grid, we use {class}`opinf.ddt.UniformFiniteDifferencer`."
   ]
  },
  {
   "cell_type": "code",
   "execution_count": null,
   "metadata": {},
   "outputs": [],
   "source": [
    "# Compute exact time derivatives using the FOM and compress them.\n",
    "Qdot_exact = basis.compress(A @ Q)\n",
    "\n",
    "# Estimate time derivatives using 6th-order finite differences.\n",
    "ddt_estimator = opinf.ddt.UniformFiniteDifferencer(t, \"ord6\")\n",
    "Qdot_ = ddt_estimator.estimate(Q_)[1]\n",
    "\n",
    "print(f\"{Qdot_exact.shape=}\\t{Qdot_.shape=}\")"
   ]
  },
  {
   "cell_type": "code",
   "execution_count": null,
   "metadata": {},
   "outputs": [],
   "source": [
    "# Check that the estimate is close to the true time derivatives.\n",
    "la.norm(Qdot_exact - Qdot_, ord=np.inf) / la.norm(Qdot_exact, ord=np.inf)"
   ]
  },
  {
   "cell_type": "markdown",
   "metadata": {},
   "source": [
    "### Specifying the Model Form"
   ]
  },
  {
   "cell_type": "markdown",
   "metadata": {},
   "source": [
    "We now have low-dimensional state and time derivative data.\n",
    "To learn a ROM with OpInf, we must specify the structure of the ROM, which should be motivated by the FOM and the dimensionality reduction strategy.\n",
    "\n",
    "The FOM is a linear system of ODEs,\n",
    "\n",
    "$$\n",
    "\\begin{aligned}\n",
    "    \\ddt\\q(t) = \\A\\q(t),\n",
    "    \\qquad\n",
    "    \\q(0) = \\q_0.\n",
    "\\end{aligned}\n",
    "$$\n",
    "\n",
    "Substituting in the approximation $\\q(t)\\approx\\Vr\\qhat(t)$, we have\n",
    "\n",
    "$$\n",
    "\\begin{aligned}\n",
    "    \\ddt\\Vr\\qhat(t) = \\A\\Vr\\qhat(t),\n",
    "    \\qquad\n",
    "    \\Vr\\qhat(0) = \\q_0.\n",
    "\\end{aligned}\n",
    "$$\n",
    "\n",
    "Next, left multiply by $\\Vr\\trp$ and use the fact that $\\Vr\\trp\\Vr = \\I$ to get the following:\n",
    "\n",
    "$$\n",
    "\\begin{aligned}\n",
    "    \\ddt\\qhat(t) = \\tilde{\\A}\\qhat(t),\n",
    "    \\qquad\n",
    "    \\qhat(0) = \\Vr\\trp\\q_0,\n",
    "\\end{aligned}\n",
    "$$\n",
    "\n",
    "where $\\tilde{\\A} = \\Vr\\trp\\A\\Vr \\in \\RR^{r\\times r}$.\n",
    "This is called the _intrusive Galerkin ROM_ corresponding to the FOM and the choice of basis matrix $\\Vr$.\n",
    "The intrusive ROM can only be constructed if $\\A$ is known; with OpInf, we construct a reduced system with the same linear structure as the intrusive ROM, but without using $\\A$ explicitly:\n",
    "\n",
    "$$\n",
    "\\begin{aligned}\n",
    "    \\ddt\\qhat(t) = \\Ahat\\qhat(t),\n",
    "    \\qquad\n",
    "    \\qhat(0) = \\Vr\\trp\\q_0,\n",
    "\\end{aligned}\n",
    "$$\n",
    "\n",
    "where $\\Ahat\\in\\RR^{r\\times r}$.\n",
    "We specify this linear structure by initializing an {class}`opinf.models.ContinuousModel` with the string `\"A\"`.\n"
   ]
  },
  {
   "cell_type": "code",
   "execution_count": null,
   "metadata": {},
   "outputs": [],
   "source": [
    "model = opinf.models.ContinuousModel(\"A\")\n",
    "print(model)"
   ]
  },
  {
   "cell_type": "markdown",
   "metadata": {},
   "source": [
    ":::{tip}\n",
    "The `\"A\"` syntax is a shortcut for a slightly longer statement:\n",
    "\n",
    "```python\n",
    ">>> model = opinf.models.ContinuousModel([opinf.operators.LinearOperator()])\n",
    "```\n",
    "\n",
    "The {class}`opinf.operators.LinearOperator` class represents the $r \\times r$ matrix $\\Ahat$, whose entries will be calibrated via regression.\n",
    "See {mod}`opinf.operators` for the kinds of terms that OpInf ROMs can contain.\n",
    ":::"
   ]
  },
  {
   "cell_type": "markdown",
   "metadata": {},
   "source": [
    "### Calibrating Model Operators"
   ]
  },
  {
   "cell_type": "markdown",
   "metadata": {},
   "source": [
    "Our task now is to learn the entries of $\\Ahat$ using the compressed state snapshots $\\qhat_0,\\ldots,\\qhat_{k-1}$ and the corresponding time derivatives $\\dot{\\qhat}_0,\\ldots,\\dot{\\qhat}_{k-1}$.\n",
    "OpInf does this through minimizing the residual of the model equation with respect to the data:\n",
    "\n",
    "$$\n",
    "    \\min_{\\Ahat\\in\\RR^{r\\times r}}\\sum_{j=0}^{k-1}\\left\\|\n",
    "        \\Ahat\\Vr\\trp\\q_{j} - \\Vr\\trp\\dot{\\q}_{j}\n",
    "    \\right\\|_{2}^2\n",
    "    + \\mathcal{R}(\\Ahat),\n",
    "$$ (eq_basics_opinf)\n",
    "\n",
    "where $\\mathcal{R}(\\Ahat)$ is a regularization term (more on this soon).\n",
    "The {mod}`opinf.lstsq` module defines tools for solving this problem (or variations on it).\n",
    "\n",
    "By default, the regression is solved without regularization, i.e., $\\mathcal{R}(\\Ahat) = 0$.\n",
    "The following code compares the OpInf ROM matrix $\\Ahat$ to the intrusive ROM matrix $\\tilde{\\A} = \\Vr\\trp\\A\\Vr$."
   ]
  },
  {
   "cell_type": "code",
   "execution_count": null,
   "metadata": {},
   "outputs": [],
   "source": [
    "# Construct the intrusive ROM linear operator.\n",
    "Vr = basis.entries\n",
    "A_intrusive = Vr.T @ A @ Vr\n",
    "\n",
    "# Construct the OpInf ROM and extract the linear operator.\n",
    "model.fit(states=Q_, ddts=Qdot_exact)\n",
    "A_opinf = model.operators[0].entries\n",
    "\n",
    "# Compare the two linear operators.\n",
    "np.allclose(A_intrusive, A_opinf)"
   ]
  },
  {
   "cell_type": "markdown",
   "metadata": {},
   "source": [
    "In this simple problem, using exact time derivative data $\\Vr\\trp\\A\\Q$ and with zero regularization, OpInf produces the intrusive ROM.\n",
    "However, if estimated time derivative data are used instead, the OpInf ROM differs slightly from the intrusive ROM."
   ]
  },
  {
   "cell_type": "code",
   "execution_count": null,
   "metadata": {},
   "outputs": [],
   "source": [
    "# Construct the OpInf ROM with estimated time derivatives.\n",
    "model.fit(states=Q_, ddts=Qdot_)\n",
    "A_opinf = model.operators[0].entries\n",
    "\n",
    "np.allclose(A_intrusive, A_opinf)"
   ]
  },
  {
   "cell_type": "code",
   "execution_count": null,
   "metadata": {},
   "outputs": [],
   "source": [
    "# Check the difference between intrusive projection and OpInf.\n",
    "la.norm(A_intrusive - A_opinf) / la.norm(A_intrusive)"
   ]
  },
  {
   "cell_type": "markdown",
   "metadata": {},
   "source": [
    "### Regularization: Stabilizing the Inference Problem"
   ]
  },
  {
   "cell_type": "markdown",
   "metadata": {},
   "source": [
    "\n",
    "Ill-conditioning in the data, errors in the estimation of the time derivatives, or overfitting to the data can result in an $\\Ahat$ that defines an inaccurate or even unstable ROM.\n",
    "Introducing a regularization term promotes solutions that respect both the training data and the physics of the problem.\n",
    "One common option is [Tikhonov regularization](https://en.wikipedia.org/wiki/Tikhonov_regularization), which sets $\\mathcal{R}(\\Ahat) = \\|\\lambda\\Ahat\\|_{F}^{2}$ to penalize the entries of the learned operators.\n"
   ]
  },
  {
   "cell_type": "code",
   "execution_count": null,
   "metadata": {},
   "outputs": [],
   "source": [
    "# Define a solver for the Tikhonov-regularized least-squares problem.\n",
    "solver = opinf.lstsq.L2Solver(regularizer=1e-2)\n",
    "\n",
    "# Construct the OpInf ROM through regularized least squares.\n",
    "model.fit(states=Q_, ddts=Qdot_, solver=solver)\n",
    "A_opinf = model.operators[0].entries\n",
    "\n",
    "# Compare to the intrusive model.\n",
    "np.allclose(A_intrusive, A_opinf)"
   ]
  },
  {
   "cell_type": "code",
   "execution_count": null,
   "metadata": {},
   "outputs": [],
   "source": [
    "# Check the difference between intrusive projection and OpInf.\n",
    "la.norm(A_intrusive - A_opinf) / la.norm(A_intrusive)"
   ]
  },
  {
   "cell_type": "markdown",
   "metadata": {},
   "source": [
    ":::{note}\n",
    "With inexact time derivatives or regularization, OpInf differs from the intrusive operator $\\tilde{\\A}$.\n",
    "However, we will see that the ROM produced by OpInf is highly accurate.\n",
    "In fact, it is sometimes the case that OpInf outperforms intrusive projection.\n",
    ":::"
   ]
  },
  {
   "cell_type": "markdown",
   "metadata": {},
   "source": [
    "\n",
    ":::{important}\n",
    "Regularization is important in all but the simplest OpInf problems.\n",
    "If OpInf produces an unstable ROM, try different values for the `regularizer`.\n",
    "See {cite}`mcquarrie2021combustion` for an example of a principled choice of regularization for a combustion problem.\n",
    ":::"
   ]
  },
  {
   "cell_type": "markdown",
   "metadata": {},
   "source": [
    "### Solving the Reduced-order Model"
   ]
  },
  {
   "cell_type": "markdown",
   "metadata": {},
   "source": [
    "Once the model is calibrated, we may solve the ROM with {meth}`opinf.models.ContinuousModel.predict`, which wraps [**scipy.integrate.solve_ivp()**](https://docs.scipy.org/doc/scipy/reference/generated/scipy.integrate.solve_ivp.html).\n",
    "This method takes an initial condition for the model $\\qhat_0 = \\Vr\\trp\\q_0$, the time domain over which to record the solution, and any additional arguments for the integrator."
   ]
  },
  {
   "cell_type": "code",
   "execution_count": null,
   "metadata": {},
   "outputs": [],
   "source": [
    "q0_ = basis.compress(q0)  # Compress the initial conditions.\n",
    "\n",
    "Q_ROM_ = model.predict(q0_, t, method=\"BDF\")\n",
    "\n",
    "print(f\"{Q_ROM_.shape=}\")"
   ]
  },
  {
   "cell_type": "markdown",
   "metadata": {},
   "source": [
    "The solution is still in the low-dimensional state space; it can be mapped to the original state space by applying $\\Vr$."
   ]
  },
  {
   "cell_type": "code",
   "execution_count": null,
   "metadata": {},
   "outputs": [],
   "source": [
    "Q_ROM = basis.decompress(Q_ROM_)\n",
    "\n",
    "print(f\"{Q_ROM.shape=}\")"
   ]
  },
  {
   "cell_type": "markdown",
   "metadata": {},
   "source": [
    ":::{tip}\n",
    "{meth}`opinf.models.ContinuousModel.predict` is convenient, but [**scipy.integrate.solve_ivp()**](https://docs.scipy.org/doc/scipy/reference/generated/scipy.integrate.solve_ivp.html) implements relatively few time integration schemes.\n",
    "However, the ROM can be simulated by **any** ODE solver scheme by extracting the inferred operator $\\Ahat$. \n",
    "If `solver(A, q0)` were a solver for systems of the form $\\ddt\\qhat = \\Ahat\\qhat(t),\\ \\qhat(0) = \\qhat_0$, we could simulate the ROM with the following code.\n",
    "\n",
    "```python\n",
    "q0_ = Vr.T @ q0                           # Compress the initial conditions.\n",
    "Q_ROM_ = solver(model.A_.entries, q0_)    # Solve the ROM in the reduced space.\n",
    "Q_ROM = Vr @ Q_ROM_                       # Decompress the ROM solutions.\n",
    "```\n",
    "\n",
    "More generally, the method {meth}`opinf.models.ContinuousModel.rhs` represents the right-hand side of the model, the $\\hat{\\mathbf{f}}$ of $\\ddt\\qhat(t) = \\hat{\\mathbf{f}}(t, \\qhat(t))$.\n",
    "General-purpose integrators can therefore be applied to the function {meth}`opinf.models.ContinuousModel.rhs`.\n",
    ":::"
   ]
  },
  {
   "cell_type": "markdown",
   "metadata": {},
   "source": [
    "### The ROM Class"
   ]
  },
  {
   "cell_type": "markdown",
   "metadata": {},
   "source": [
    "Up to this point, we have done the following steps using several package submodules.\n",
    "\n",
    "1. {mod}`opinf.basis`: Data compression.\n",
    "2. {mod}`opinf.ddt`: Time derivative estimation.\n",
    "3. {mod}`opinf.models`: Specify model form, calibrate model operators, solve reduced system.\n",
    "\n",
    "The [`opinf.ROM`](opinf.roms.ROM) class wraps these steps for convenience.\n",
    "Its constructor takes a initialized basis, time derivative estimator, and model objects.\n",
    "Then, [`fit()`](opinf.roms.ROM.fit) calibrates the basis, compresses the state data, estimates the time derivatives, and calibrates the model.\n",
    "Use [`predict()`](opinf.roms.ROM.predict) to compress initial conditions, solve the model, and express the solutions in the original state space."
   ]
  },
  {
   "cell_type": "code",
   "execution_count": null,
   "metadata": {},
   "outputs": [],
   "source": [
    "rom = opinf.ROM(\n",
    "    basis=opinf.basis.PODBasis(cumulative_energy=0.999999),\n",
    "    ddt_estimator=opinf.ddt.UniformFiniteDifferencer(t, \"ord6\"),\n",
    "    model=opinf.models.ContinuousModel(\"A\"),\n",
    "    solver=opinf.lstsq.L2Solver(regularizer=1e-2),\n",
    ")\n",
    "\n",
    "rom.fit(Q)\n",
    "\n",
    "Q_ROM_2 = rom.predict(q0, t, method=\"BDF\")\n",
    "\n",
    "np.all(Q_ROM_2 == Q_ROM)"
   ]
  },
  {
   "cell_type": "markdown",
   "metadata": {},
   "source": [
    "### Evaluate ROM Performance"
   ]
  },
  {
   "cell_type": "markdown",
   "metadata": {},
   "source": [
    "To get a sense of how well the ROM approximates the FOM, we begin by visualizing the simulation output `Q_ROM`.\n",
    "It should look similar to the plot of the snapshot data `Q`."
   ]
  },
  {
   "cell_type": "code",
   "execution_count": null,
   "metadata": {},
   "outputs": [],
   "source": [
    "fig, [ax1, ax2] = plt.subplots(1, 2)\n",
    "plot_heat_data(Q, \"Snapshot data\", ax1)\n",
    "plot_heat_data(Q_ROM, \"ROM state output\", ax2)\n",
    "ax1.legend([])\n",
    "plt.show()"
   ]
  },
  {
   "cell_type": "markdown",
   "metadata": {},
   "source": [
    "For more detail, we evaluate the $\\ell^2$ error of the ROM output in time, comparing it to the snapshot set via {func}`opinf.post.lp_error`."
   ]
  },
  {
   "cell_type": "code",
   "execution_count": null,
   "metadata": {},
   "outputs": [],
   "source": [
    "abs_l2err, rel_l2err = opinf.post.lp_error(Q, Q_ROM)\n",
    "plt.semilogy(t, abs_l2err)\n",
    "plt.title(r\"Absolute $\\ell^{2}$ error\")\n",
    "plt.show()"
   ]
  },
  {
   "cell_type": "markdown",
   "metadata": {},
   "source": [
    "In this simple example, the error decreases with time (as solutions get quickly pushed to zero), but this is not the kind of error behavior that should be expected for less trivial systems.\n",
    "\n",
    "We can also get a scalar error measurement by calculating the relative Frobenius norm error with {func}`opinf.post.frobenius_error`."
   ]
  },
  {
   "cell_type": "code",
   "execution_count": null,
   "metadata": {},
   "outputs": [],
   "source": [
    "abs_froerr, rel_froerr = opinf.post.frobenius_error(Q, Q_ROM)\n",
    "print(f\"Relative Frobenius-norm error: {rel_froerr:%}\")"
   ]
  },
  {
   "cell_type": "markdown",
   "metadata": {},
   "source": [
    "In other words, the ROM simulation is within 0.1% of the snapshot data.\n",
    "Note that this value is very close to the projection error that we calculated earlier."
   ]
  },
  {
   "cell_type": "markdown",
   "metadata": {},
   "source": [
    "## Prediction: New Initial Conditions"
   ]
  },
  {
   "cell_type": "markdown",
   "metadata": {
    "jp-MarkdownHeadingCollapsed": true,
    "tags": []
   },
   "source": [
    "The ROM was trained using only data corresponding to the initial condition $q_0(x) = x(1 - x).$ We'll now test the ROM on the following new initial conditions and compare the results to the corresponding FOM solution:\n",
    "\n",
    "\\begin{align*}\n",
    "    q_0(x) &= 10x (1 - x),\n",
    "    &\n",
    "    q_0(x) &= x^{2}(1 - x)^{2},\n",
    "    \\\\\n",
    "    q_0(x) &= x^{4}(1 - x)^{4},\n",
    "    &\n",
    "    q_0(x) &= \\sqrt{x(1 - x)},\n",
    "    \\\\\n",
    "    q_0(x) &= \\sqrt[4]{x(1 - x)},\n",
    "    &\n",
    "    q_0(x) &= \\sin(\\pi x) + \\tfrac{1}{5}\\sin(5\\pi x).\n",
    "\\end{align*}\n",
    "\n",
    "Before we compute the ROM error, we also compute the _projection error_ of the new initial condition,\n",
    "\n",
    "$$\n",
    "    \\frac{||\\q_{0} - \\Vr \\Vr\\trp\\q_{0}||_{2}}{||\\q_{0}||_{2}}.\n",
    "$$\n",
    "\n",
    "If this projection error is large, then the new initial condition cannot be represented well within the range of $\\Vr$. This will be apparent in the ROM solutions."
   ]
  },
  {
   "cell_type": "markdown",
   "metadata": {},
   "source": [
    "### First Attempt"
   ]
  },
  {
   "cell_type": "code",
   "execution_count": null,
   "metadata": {},
   "outputs": [],
   "source": [
    "def test_new_initial_condition(q0, rom, label=None):\n",
    "    \"\"\"Compare full-order model and reduced-order model solutions for a given\n",
    "    initial condition.\n",
    "\n",
    "    Parameters\n",
    "    ----------\n",
    "    q0 : (n,) ndarray\n",
    "        Heat equation initial conditions q0(x) to be tested.\n",
    "    rom : opinf.ROM\n",
    "        Trained reduced-order model object.\n",
    "    label : str\n",
    "        LaTeX description of the initial condition being tested.\n",
    "    \"\"\"\n",
    "    # Calculate the projection error of the new initial condition.\n",
    "    rel_projerr = rom.basis.projection_error(q0, relative=True)\n",
    "\n",
    "    # Solve the full-order model (FOM) and the reduced-order model (ROM).\n",
    "    Q_FOM = solve_ivp(fom, [t0, tf], q0, t_eval=t, method=\"BDF\").y\n",
    "    Q_ROM = rom.predict(q0, t, method=\"BDF\")\n",
    "\n",
    "    # Plot the FOM and ROM solutions side by side.\n",
    "    fig, [ax1, ax2] = plt.subplots(1, 2)\n",
    "    plot_heat_data(Q_FOM, \"Full-order model solution\", ax1)\n",
    "    plot_heat_data(Q_ROM, \"Reduced-order model solution\", ax2)\n",
    "    ax1.legend([])\n",
    "    if label:\n",
    "        fig.suptitle(label, y=1)\n",
    "    fig.tight_layout()\n",
    "\n",
    "    # Calculate the ROM error in the Frobenius norm.\n",
    "    abs_froerr, rel_froerr = opinf.post.frobenius_error(Q_FOM, Q_ROM)\n",
    "\n",
    "    # Report results.\n",
    "    plt.show()\n",
    "    print(\n",
    "        f\"Relative projection error of initial condition: {rel_projerr:.2%}\",\n",
    "        f\"Relative Frobenius-norm ROM error: {rel_froerr:.2%}\",\n",
    "        sep=\"\\n\",\n",
    "    )\n",
    "    return rel_projerr, rel_froerr"
   ]
  },
  {
   "cell_type": "code",
   "execution_count": null,
   "metadata": {
    "tags": [
     "hide-input"
    ]
   },
   "outputs": [],
   "source": [
    "q0_new = [\n",
    "    10 * x * (1 - x),\n",
    "    x**2 * (1 - x) ** 2,\n",
    "    x**4 * (1 - x) ** 4,\n",
    "    np.sqrt(x * (1 - x)),\n",
    "    np.sqrt(np.sqrt(x * (1 - x))),\n",
    "    np.sin(np.pi * x) + np.sin(5 * np.pi * x) / 5,\n",
    "]\n",
    "\n",
    "q0_titles = [\n",
    "    r\"$q_{0}(x) = 10 x (1 - x)$\",\n",
    "    r\"$q_{0}(x) = x^{2} (1 - x)^{2}$\",\n",
    "    r\"$q_{0}(x) = x^{4} (1 - x)^{4}$\",\n",
    "    r\"$q_{0}(x) = \\sqrt{x (1 - x)}$\",\n",
    "    r\"$q_{0}(x) = \\sqrt[4]{x (1 - x)}$\",\n",
    "    r\"$q_{0}(x) = \\sin(\\pi x) + \\frac{1}{5}\\sin(5\\pi x)$\",\n",
    "]\n",
    "\n",
    "results = {}\n",
    "for i, [q00, title] in enumerate(zip(q0_new, q0_titles)):\n",
    "    results[f\"Experiment {i+1:d}\"] = test_new_initial_condition(\n",
    "        q00, rom, f\"Experiment {i+1}: {title}\"\n",
    "    )\n",
    "\n",
    "labels = [\n",
    "    \"Relative projection error of initial condition\",\n",
    "    \"Relative Frobenius-norm ROM error\",\n",
    "]\n",
    "pd.DataFrame(results, index=labels).T"
   ]
  },
  {
   "cell_type": "markdown",
   "metadata": {},
   "source": [
    "### Second Attempt: a Better Basis"
   ]
  },
  {
   "cell_type": "markdown",
   "metadata": {},
   "source": [
    "The ROM performs well for $q_{0}(x) = 10x(1 - x)$, which is unsurprising because this new initial condition is a scalar multiple of the initial condition used to generate the training data.\n",
    "In other cases, the ROM is less successful because the new initial condition cannot be represented well in the span of the basis vectors.\n",
    "For example:"
   ]
  },
  {
   "cell_type": "code",
   "execution_count": null,
   "metadata": {
    "tags": [
     "hide-input"
    ]
   },
   "outputs": [],
   "source": [
    "def plot_initial_condition_projection(base):\n",
    "    \"\"\"Plot initial conditions 4 and 5 and their projections with respect to\n",
    "    the basis `base`.\n",
    "\n",
    "    Parameters\n",
    "    ----------\n",
    "    base : opinf.basis.PODBasis\n",
    "        Trained basis object.\n",
    "    \"\"\"\n",
    "    fig, axes = plt.subplots(1, 2)\n",
    "    for j, ax in zip([4, 5], axes):\n",
    "        ax.plot(\n",
    "            x,\n",
    "            q0_new[j],\n",
    "            label=r\"True initial condition ($\\mathbf{q}_{0}$)\",\n",
    "        )\n",
    "        ax.plot(\n",
    "            x,\n",
    "            base.project(q0_new[j]),\n",
    "            \"--\",\n",
    "            label=r\"Basis approximation of initial condition \"\n",
    "            r\"($\\mathbf{V}_{\\!r}\\mathbf{V}_{\\!r}^{\\mathsf{T}}\\mathbf{q}_{0}$)\",\n",
    "        )\n",
    "        ax.set_title(f\"Experiment {j+1:d}\")\n",
    "\n",
    "    fig.tight_layout(rect=[0, 0.15, 1, 1])\n",
    "    axes[0].legend(\n",
    "        loc=\"lower center\",\n",
    "        fontsize=\"large\",\n",
    "        bbox_to_anchor=(0.5, -0.05),\n",
    "        bbox_transform=fig.transFigure,\n",
    "    )\n",
    "    plt.show()"
   ]
  },
  {
   "cell_type": "code",
   "execution_count": null,
   "metadata": {},
   "outputs": [],
   "source": [
    "plot_initial_condition_projection(basis)"
   ]
  },
  {
   "cell_type": "markdown",
   "metadata": {},
   "source": [
    "To improve the ROM performace _without getting new data from the FOM_, we will enrich the basis by\n",
    "\n",
    "1. Including the new initial conditions in the basis computation, and \n",
    "2. Using a few more basis vectors (we currently have $r = 2$, let's use $r = 5$)."
   ]
  },
  {
   "cell_type": "code",
   "execution_count": null,
   "metadata": {},
   "outputs": [],
   "source": [
    "# Include the new initial conditions in the basis training data.\n",
    "Q_and_new_q0s = np.column_stack((Q, *q0_new))\n",
    "newbasis = opinf.basis.PODBasis(num_vectors=5).fit(Q_and_new_q0s)\n",
    "print(newbasis)\n",
    "\n",
    "# Plot the projection of the initial conditions in the new basis\n",
    "plot_initial_condition_projection(newbasis)"
   ]
  },
  {
   "cell_type": "code",
   "execution_count": null,
   "metadata": {},
   "outputs": [],
   "source": [
    "# Initialize a ROM with the new basis.\n",
    "rom = opinf.ROM(\n",
    "    basis=newbasis,\n",
    "    ddt_estimator=opinf.ddt.UniformFiniteDifferencer(t, \"ord6\"),\n",
    "    model=opinf.models.ContinuousModel(\"A\"),\n",
    "    solver=opinf.lstsq.L2Solver(regularizer=1e-5),\n",
    ")\n",
    "\n",
    "# Use the same training data as before, but do not reset the basis.\n",
    "_ = rom.fit(Q, fit_basis=False)"
   ]
  },
  {
   "cell_type": "code",
   "execution_count": null,
   "metadata": {
    "tags": [
     "hide-input"
    ]
   },
   "outputs": [],
   "source": [
    "# Repeat the experiments.\n",
    "results_new = {}\n",
    "for i, [q00, title] in enumerate(zip(q0_new, q0_titles)):\n",
    "    results_new[f\"Experiment {i+1:d}\"] = test_new_initial_condition(\n",
    "        q00,\n",
    "        rom,\n",
    "        f\"Experiment {i+1}: {title}\",\n",
    "    )\n",
    "\n",
    "# Display results summary.\n",
    "pd.DataFrame(results_new, index=labels).T"
   ]
  },
  {
   "cell_type": "markdown",
   "metadata": {},
   "source": [
    "With a more expressive basis, we are now capturing the true solutions with the ROM to within 1% error in the Frobenius norm."
   ]
  },
  {
   "cell_type": "markdown",
   "metadata": {},
   "source": [
    ":::{admonition} Takeaway\n",
    ":class: attention\n",
    "This example illustrates a fundamental principle of model reduction: the accuracy of the ROM is limited by the accuracy of the underlying low-dimensional approximation, which in this case is $\\q(t) \\approx \\Vr\\qhat(t)$. In other words, a good $\\Vr$ is critical in order for the ROM to be accurate and predictive.\n",
    ":::"
   ]
  }
 ],
 "metadata": {
  "celltoolbar": "Tags",
  "kernelspec": {
   "display_name": "Python 3 (ipykernel)",
   "language": "python",
   "name": "python3"
  },
  "language_info": {
   "codemirror_mode": {
    "name": "ipython",
    "version": 3
   },
   "file_extension": ".py",
   "mimetype": "text/x-python",
   "name": "python",
   "nbconvert_exporter": "python",
   "pygments_lexer": "ipython3",
   "version": "3.12.3"
  },
  "toc-autonumbering": false,
  "toc-showcode": false,
  "toc-showmarkdowntxt": false,
  "toc-showtags": false
 },
 "nbformat": 4,
 "nbformat_minor": 4
}
