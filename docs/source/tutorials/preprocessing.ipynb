{
 "cells": [
  {
   "cell_type": "markdown",
   "id": "d4b92eb1-bb31-448b-b408-94b13219d6dd",
   "metadata": {},
   "source": [
    "(sec-guide-preprocessing)=\n",
    "# Preprocessing Data"
   ]
  },
  {
   "cell_type": "markdown",
   "id": "96e867db-4e8f-4098-9cc9-427ac0a93f52",
   "metadata": {},
   "source": [
    "Raw dynamical systems data often need to be lightly preprocessed before use in Operator Inference.\n",
    "This page introduces tools in the {mod}`opinf.pre` submodule for preprocessing data.\n",
    "We show examples of\n",
    "- centering or shifting to account for boundary conditions, and\n",
    "- scaling / nondimensionalizing the variables represented in the state.\n",
    "\n",
    "In this guide, we use $\\mathbf{s}(t)$ to denote the unprocessed state variable for which we have data $\\mathbf{s}_{j} = \\mathbf{s}(t_{j})$, $j=0, \\ldots, k-1$. We use $\\mathbf{q}(t)$ to denote the processed state variable which we will use for Operator Inference."
   ]
  },
  {
   "cell_type": "markdown",
   "id": "754baf3b-2358-440b-8a80-b9037450aec3",
   "metadata": {},
   "source": [
    "## Shifting / Centering"
   ]
  },
  {
   "cell_type": "markdown",
   "id": "0b5f0e0b-c352-49bb-8f62-86d17861bc36",
   "metadata": {},
   "source": [
    "A common first preprocessing step is to shift the training snapshots by some reference snapshot $\\bar{\\mathbf{s}}$, i.e.,\n",
    "\n",
    "$$\n",
    "    \\mathbf{q}(t) = \\mathbf{s}(t) - \\bar{\\mathbf{s}}.\n",
    "$$\n",
    "\n",
    "For example, the reference snapshot could be chosen to be the average of the training snapshots:\n",
    "\n",
    "$$\n",
    "    \\bar{\\mathbf{s}}\n",
    "    := \\frac{1}{k}\\sum_{j=0}^{k-1}\\mathbf{s}_{j}.\n",
    "$$\n",
    "\n",
    "In this case, the transformed snapshots $\\mathbf{q}_{j} = \\mathbf{s}_{j} - \\bar{\\mathbf{s}}$ are centered around $\\mathbf{0}$.\n",
    "This type of transformation can be accomplished using {func}`opinf.pre.shift` or the class {class}`opinf.pre.SnapshotTransformer`."
   ]
  },
  {
   "cell_type": "markdown",
   "id": "a21aae19-47b0-49b3-9b8b-ee3f51ea92ec",
   "metadata": {},
   "source": [
    "::::{note}\n",
    "The following code uses data pulled from the combustion problem described in {cite}`swischuk2020combustion`. The data consists of nine variables recorded at 100 points in time.\n",
    "\n",
    ":::{dropdown} Snapshot Variables\n",
    "\n",
    "- Pressure $p$\n",
    "- $x$-velocity $v_{x}$\n",
    "- $y$-velocity $v_{y}$\n",
    "- Temperature $T$\n",
    "- Specific volume $\\xi$\n",
    "- Chemical species molar concentrations for CH$_{4}$, O$_{2}$, CO$_{2}$, and H$_{2}$O.\n",
    "\n",
    "The dimension of the spatial discretization in the full example in {cite}`swischuk2020combustion` is $38{,}523$ per variable, so that $\\mathbf{s}(t)$ has dimension $346{,}707$. Here we have downsampled the state dimension to $535$ for each variable for demonstration purposes.\n",
    ":::\n",
    "\n",
    "You can [download the data here](https://github.com/Willcox-Research-Group/rom-operator-inference-Python3/raw/data/data_scaling_example.npy) to repeat the experiments.\n",
    "::::"
   ]
  },
  {
   "cell_type": "code",
   "execution_count": null,
   "id": "d57b47c5-5fd2-4a39-9749-9237180774f9",
   "metadata": {},
   "outputs": [],
   "source": [
    "import numpy as np\n",
    "import scipy.linalg as la\n",
    "import matplotlib.pyplot as plt\n",
    "\n",
    "import opinf"
   ]
  },
  {
   "cell_type": "code",
   "execution_count": null,
   "id": "6b0296f1-0764-455d-b35e-1011b21fa07d",
   "metadata": {
    "tags": [
     "hide-cell"
    ]
   },
   "outputs": [],
   "source": [
    "# Matplotlib customizations.\n",
    "plt.rc(\"axes.spines\", right=False, top=False)\n",
    "plt.rc(\"figure\", dpi=300, figsize=(9, 3))\n",
    "plt.rc(\"font\", family=\"serif\")\n",
    "plt.rc(\"legend\", edgecolor=\"none\", frameon=False)\n",
    "plt.rc(\"text\", usetex=True)"
   ]
  },
  {
   "cell_type": "code",
   "execution_count": null,
   "id": "adaf1955-228a-4676-8df3-7b5fb184ba8e",
   "metadata": {},
   "outputs": [],
   "source": [
    "# Load snapshot data and extract just the pressure variable.\n",
    "snapshots = np.load(\"data_scaling_example.npy\")\n",
    "pressure = np.split(snapshots, 9, axis=0)[0]\n",
    "\n",
    "# Shift the pressure snapshots by the average pressure snapshot.\n",
    "pressure_shifted, reference_snapshot = opinf.pre.shift(pressure)"
   ]
  },
  {
   "cell_type": "code",
   "execution_count": null,
   "id": "ab067c18-c88c-4a46-8883-297f1d314ab0",
   "metadata": {},
   "outputs": [],
   "source": [
    "# Average pressure value.\n",
    "np.mean(pressure)"
   ]
  },
  {
   "cell_type": "code",
   "execution_count": null,
   "id": "b7256d13-cd4c-41d7-8803-b2d53e4ba2eb",
   "metadata": {},
   "outputs": [],
   "source": [
    "# Average shifted pressure value.\n",
    "np.mean(pressure_shifted)"
   ]
  },
  {
   "cell_type": "code",
   "execution_count": null,
   "id": "9074bc35-ab0f-4663-9ad9-f6ae2fc41464",
   "metadata": {},
   "outputs": [],
   "source": [
    "# Plot the distribution of the entries of the raw and processed states.\n",
    "fig, axes = plt.subplots(1, 2, sharey=True)\n",
    "axes[0].hist(pressure.flatten(), bins=40)\n",
    "axes[1].hist(pressure_shifted.flatten(), bins=40)\n",
    "axes[0].set_ylabel(\"Frequency\")\n",
    "axes[0].set_xlabel(\"Pressure\")\n",
    "axes[1].set_xlabel(\"Shifted pressure\")\n",
    "fig.tight_layout()\n",
    "plt.show()"
   ]
  },
  {
   "cell_type": "markdown",
   "id": "5e67335a-d5c2-4f60-8ad9-baa147653fcd",
   "metadata": {},
   "source": [
    "The reference snapshot may also represent boundary conditions or other physical constraints. See {cite}`swischuk2019physicsml` for examples."
   ]
  },
  {
   "cell_type": "markdown",
   "id": "c89235e5-a5ab-4b5c-b6e8-9d32550550c9",
   "metadata": {
    "tags": []
   },
   "source": [
    "## Scaling"
   ]
  },
  {
   "cell_type": "markdown",
   "id": "f5fef72e-95ee-4874-b856-b782a9089854",
   "metadata": {
    "tags": []
   },
   "source": [
    "Many engineering problems feature multiple variables with ranges across different scales. For such cases, it is often beneficial to scale the variables to similar ranges so that one variable does not overwhelm the other in the operator learning.\n",
    "\n",
    "A simple scaling is given by\n",
    "\n",
    "$$\n",
    "    \\mathbf{q}(t) = \\frac{1}{\\alpha}\\mathbf{s}(t),\n",
    "$$\n",
    "\n",
    "where $\\alpha$ is chosen by examining the range of the training data. For example, after centering the data, a scaling to $[-1, 1]$ is given by\n",
    "\n",
    "$$\n",
    "    \\mathbf{q}(t)\n",
    "    = \\frac{1}{\\alpha}\\big(\\mathbf{s}(t) - \\bar{\\mathbf{s}}(t)\\big),\n",
    "    \\qquad\n",
    "    \\alpha = \\max_{i,j}|\\tilde{s}_{ij}|\n",
    "$$\n",
    "\n",
    "where $\\tilde{s}_{ij}$ is the $i$th entry of $\\mathbf{s}_{j} - \\bar{\\mathbf{s}}$.\n",
    "Use {func}`opinf.pre.scale` or the class {class}`opinf.pre.SnapshotTransformer` for this type of transformation."
   ]
  },
  {
   "cell_type": "code",
   "execution_count": null,
   "id": "35f41d1a-a7b5-431e-a603-1aeab50eecec",
   "metadata": {},
   "outputs": [],
   "source": [
    "# Extract the H2O molar concentration.\n",
    "water = np.split(snapshots, 9, axis=0)[-1]\n",
    "\n",
    "# Compare the scales of the variables.\n",
    "print(f\"Pressure range (raw):\\t\\t[{pressure.min():.2e}, {pressure.max():.2e}]\")\n",
    "print(f\"Pressure range (shifted):\\t[{pressure_shifted.min():.2e}, {pressure_shifted.max():.2e}]\")\n",
    "print(f\"Water range:\\t\\t\\t[{water.min():.2e}, {water.max():.2e}]\")"
   ]
  },
  {
   "cell_type": "code",
   "execution_count": null,
   "id": "a36a6ef5-eeb5-4fde-a0cb-28214f4a4fe3",
   "metadata": {},
   "outputs": [],
   "source": [
    "# Apply a min-max scaling to [0, .01] on the shifted pressure snapshots.\n",
    "pressure_scaled, pscale1, pscale2 = opinf.pre.scale(\n",
    "    pressure_shifted,\n",
    "    (0, 1e-2),\n",
    ")"
   ]
  },
  {
   "cell_type": "code",
   "execution_count": null,
   "id": "66df3c8c-e562-4085-b0b1-c8c0de9ad570",
   "metadata": {},
   "outputs": [],
   "source": [
    "# Compare the scales of the variables.\n",
    "print(f\"Pressure range (raw):\\t\\t[{pressure.min():.2e}, {pressure.max():.2e}]\")\n",
    "print(f\"Pressure range (shifted):\\t[{pressure_shifted.min():.2e}, {pressure_shifted.max():.2e}]\")\n",
    "print(f\"Pressure range (scaled):\\t[{pressure_scaled.min():.2e}, {pressure_scaled.max():.2e}]\")\n",
    "print(f\"Water range:\\t\\t\\t[{water.min():.2e}, {water.max():.2e}]\")"
   ]
  },
  {
   "cell_type": "markdown",
   "id": "2754c6d8-efa8-4262-bdcb-2d79b2b27bf4",
   "metadata": {},
   "source": [
    "## Transformer Classes"
   ]
  },
  {
   "cell_type": "markdown",
   "id": "36228bdd-0f97-4da5-89ef-1acbeb6166d4",
   "metadata": {},
   "source": [
    "{class}`opinf.pre.SnapshotTransformer` bundles shifting and scaling transformations and their inverses."
   ]
  },
  {
   "cell_type": "code",
   "execution_count": null,
   "id": "5ae78829-8e25-4e5c-8972-d26d7381bd44",
   "metadata": {},
   "outputs": [],
   "source": [
    "st = opinf.pre.SnapshotTransformer(center=True, scaling=\"standard\", verbose=True)\n",
    "pressure_preprocessed = st.fit_transform(pressure)"
   ]
  },
  {
   "cell_type": "code",
   "execution_count": null,
   "id": "d62c3078-2646-412e-ac2b-c1fec1534b98",
   "metadata": {},
   "outputs": [],
   "source": [
    "st = opinf.pre.SnapshotTransformer(scaling=\"maxabssym\", byrow=True, verbose=True).fit(pressure)"
   ]
  },
  {
   "cell_type": "markdown",
   "id": "27296236-9f3c-42dc-a586-1dd5af5d5ae9",
   "metadata": {},
   "source": [
    "The constructor accepts arguments to set the type of shifting / scaling transformation.\n",
    "{meth}`opinf.pre.SnapshotTransformer.fit` and {meth}`opinf.pre.SnapshotTransformer.fit_transform` methods learn the particular transformation, and {meth}`opinf.pre.SnapshotTransformer.fit_transform` or {meth}`opinf.pre.SnapshotTransformer.transform` applies the learned transformation.\n",
    "Finally, {meth}`opinf.pre.SnapshotTransformer.inverse_transform` method applies the inverse of the learned transformation."
   ]
  },
  {
   "cell_type": "markdown",
   "id": "4e7102c2-366c-402c-9706-4a5525e13959",
   "metadata": {},
   "source": [
    "## Multivariable Data"
   ]
  },
  {
   "cell_type": "markdown",
   "id": "c5cf9311-fd8e-4374-8422-8bbe75933d2d",
   "metadata": {},
   "source": [
    "For systems where the full state consists of several variables (pressure, velocity, temperature, etc.), it may not be appropriate to apply the same scaling to each variable.\n",
    "The {class}`opinf.pre.SnapshotTransformerMulti` class handles multivariable data by constructing a separate {class}`opinf.pre.SnapshotTransformer` instance for each variable.\n",
    "The constructor accepts the number of snapshot variables and the same parameters as the constructor of {class}`opinf.pre.SnapshotTransformer`."
   ]
  },
  {
   "cell_type": "code",
   "execution_count": null,
   "id": "2e920574-4d63-4e6a-917f-09787b7b691a",
   "metadata": {},
   "outputs": [],
   "source": [
    "# Learn the variable transformation used in the paper.\n",
    "stm = opinf.pre.SnapshotTransformerMulti(\n",
    "    9,\n",
    "    center=(True, False, False, True, False, False, False, False, False),\n",
    "    scaling=(\n",
    "        \"maxabs\",\n",
    "        \"maxabs\",\n",
    "        \"maxabs\",\n",
    "        \"maxabs\",\n",
    "        None,\n",
    "        None,\n",
    "        None,\n",
    "        None,\n",
    "        None,\n",
    "    ),\n",
    "    variable_names=[\"p\", \"vx\", \"vy\", \"T\", \"xi\", \"CH4\", \"O2\", \"CO2\", \"H2O\"],\n",
    "    verbose=True,\n",
    ")\n",
    "\n",
    "snapshots_preprocessed = stm.fit_transform(snapshots)"
   ]
  },
  {
   "cell_type": "markdown",
   "id": "f34871e7-a35d-4150-afa5-672cbf6d98ca",
   "metadata": {},
   "source": [
    "Choosing an advantageous preprocessing $\\mathbf{s}(t) \\mapsto \\mathbf{q}(t)$ is highly problem dependent, and the tools shown here are not the only ways to preprocess snapshot data. See, for example, {cite}`issan2022shiftedopinf` for a compelling application of Operator Inference to solar wind streams in which preprocessing plays a vital role."
   ]
  }
 ],
 "metadata": {
  "kernelspec": {
   "display_name": "Python 3 (ipykernel)",
   "language": "python",
   "name": "python3"
  },
  "language_info": {
   "codemirror_mode": {
    "name": "ipython",
    "version": 3
   },
   "file_extension": ".py",
   "mimetype": "text/x-python",
   "name": "python",
   "nbconvert_exporter": "python",
   "pygments_lexer": "ipython3",
   "version": "3.11.5"
  }
 },
 "nbformat": 4,
 "nbformat_minor": 5
}
