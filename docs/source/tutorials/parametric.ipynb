{
 "cells": [
  {
   "cell_type": "markdown",
   "metadata": {
    "toc-hr-collapsed": false
   },
   "source": [
    "# Parametric Problems"
   ]
  },
  {
   "cell_type": "markdown",
   "metadata": {},
   "source": [
    "Many systems depend on independent parameters that describe material properties or other physical characteristics of the phenomenon being modeled.\n",
    "In such cases, the operators of a reduced-order model (ROM) should be designed to vary with the system parameters. This tutorial demonstrates how to construct and evaluate a parametric ROM through an elementary example."
   ]
  },
  {
   "cell_type": "markdown",
   "metadata": {},
   "source": [
    "## Problem Statement"
   ]
  },
  {
   "cell_type": "markdown",
   "metadata": {},
   "source": [
    "We consider a problem with a single scalar system parameter $\\mu > 0$."
   ]
  },
  {
   "cell_type": "markdown",
   "metadata": {},
   "source": [
    ":::{admonition} Governing Equations\n",
    ":class: info\n",
    "\n",
    "Let $\\Omega = [0,L]\\subset \\RR$ be the spatial domain indicated by the variable $x$, and let $[0,T]\\subset\\RR$ be the time domain with variable $t$. We consider the one-dimensional heat equation with constant non-homogeneous Dirichlet boundary conditions,\n",
    "\n",
    "$$\n",
    "\\begin{aligned}\n",
    "    &\\frac{\\partial}{\\partial t} q(x,t;\\mu) = \\mu\\frac{\\partial^2}{\\partial x^2}q(x,t;\\mu)\n",
    "    & x &\\in\\Omega,\\quad t\\in[0,T],\n",
    "    \\\\\n",
    "    &q(0,t;\\mu) = \\frac{1}{2}, \\quad q(L,t;\\mu) = 1\n",
    "    & t &\\in[0,T],\n",
    "    \\\\\n",
    "    &q(x,0;\\mu) = \\big(e^{\\alpha(x - 1)} + e^{-\\alpha x} - e^{-\\alpha}\\big)\n",
    "    & x &\\in \\Omega,\n",
    "\\end{aligned}\n",
    "$$\n",
    "\n",
    "where the constant $\\mu > 0$ is a thermal diffusivity parameter, $\\alpha>0$ is constant, and $q(x,t;\\mu)$ is the unknown state variable. This is a model for a one-dimensional rod conducting heat with a fixed initial heat profile. The temperature at the ends of the rod are fixed, but heat is allowed to diffuse through the rod and flow out at the ends of the domain.\n",
    ":::"
   ]
  },
  {
   "cell_type": "markdown",
   "metadata": {},
   "source": [
    ":::{admonition} Objective\n",
    ":class: info\n",
    "\n",
    "Construct a reduced-order model (ROM) which can be solved rapidly to produce approximate solutions $q(x, t; \\mu)$ to the partial differential equation given above for various choices of the diffusivity parameter $\\mu > 0$.\n",
    "We will observe data for a few values of $\\mu$, then use the ROM to predict the solution for the entire time domain $[0, T]$ and for new values of $\\mu$. \n",
    "Hence, the ROM will be **predictive in the parameter** $\\mu$.\n",
    "\n",
    "<!-- over a limited time interval $t\\in[0,T']$ with $T' < T$, -->\n",
    "<!-- **predictive in time** and -->\n",
    ":::"
   ]
  },
  {
   "cell_type": "code",
   "execution_count": 1,
   "metadata": {},
   "outputs": [],
   "source": [
    "import numpy as np\n",
    "import scipy.sparse\n",
    "import matplotlib.pyplot as plt\n",
    "\n",
    "import opinf\n",
    "\n",
    "opinf.utils.mpl_config()"
   ]
  },
  {
   "cell_type": "markdown",
   "metadata": {},
   "source": [
    "## Full-order Model Definition"
   ]
  },
  {
   "cell_type": "markdown",
   "metadata": {},
   "source": [
    "We consider the parameter domain $\\mathcal{P} = [.1,10]\\subset\\RR$.\n",
    "A finite element or finite difference discretization leads to a system of differential equations,\n",
    "\n",
    "$$\n",
    "\\begin{aligned}\n",
    "    \\ddt\\q(t;\\mu)\n",
    "    = \\c(\\mu) + \\A(\\mu)\\q(t;\\mu),\n",
    "    \\qquad\n",
    "    \\q(0) = \\q_0,\n",
    "\\end{aligned}\n",
    "$$ (eq_parametric_fom)\n",
    "\n",
    "where $\\q:\\RR\\times\\mathcal{P}\\to\\RR^n,$ $\\c:\\mathcal{P}\\to\\RR^n,$ and $\\A:\\mathcal{P}\\to\\RR^{n\\times n}.$\n",
    "This is the full-order model (FOM).\n",
    "The constant term $\\c(\\mu)$ arises due to the nonzero boundary conditions.\n",
    "In this case, the parametric dependence on $\\mu$ is linear: there are $\\c^{(0)}\\in\\RR^{n}$ and $\\A^{(0)}\\in\\RR^{n\\times n}$ such that $\\c(\\mu) = \\mu\\c^{(0)}$ and $\\A(\\mu) = \\mu\\A^{(0)}.$"
   ]
  },
  {
   "cell_type": "markdown",
   "metadata": {},
   "source": [
    ":::{dropdown} Discretization details\n",
    "\n",
    "We take an equidistant grid $\\{x_i\\}_{i=0}^{n+1} \\subset \\Omega$,\n",
    "\n",
    "\\begin{align*}\n",
    "    0 &= x_0 < x_1 < \\cdots < x_n < x_{n+1} = L\n",
    "    &\n",
    "    &\\text{and}\n",
    "    &\n",
    "    \\delta x &= \\frac{L}{n+1} = x_{i+1} - x_{i},\\quad i=1,\\ldots,n-1.\n",
    "\\end{align*}\n",
    "\n",
    "The boundary conditions prescribe $q(x_0,t;\\mu) = q(x_{n+1},t;\\mu) = 1$.\n",
    "Our goal is to compute $q(x,t)$ at the interior spatial points $x_{1},x_{2},\\ldots,x_{n}$ for various $t\\in[0,T]$, so we consider the state vector $\\q(t;\\mu) = [~q(x_{1}, t;\\mu)~\\cdots~q(x_{n}, t;\\mu)~]\\trp\\in\\RR^n$ and derive a system governing the evolution of $\\q(t;\\mu)$ in time.\n",
    "\n",
    "Approximating the spatial derivative with a central finite difference approximation,\n",
    "\n",
    "$$\n",
    "    \\frac{\\partial^2}{\\partial x^2}q(x,t)\n",
    "    \\approx \\frac{q(x-\\delta x,t) - 2q(x,t) + q(x+\\delta x,t)}{(\\delta x)^2},\n",
    "$$\n",
    "\n",
    "and using the boundary conditions $q(0,t;\\mu) = q(L,t;\\mu) = 1$, we arrive at the following matrices for the FOM.\n",
    "\n",
    "$$\n",
    "\\begin{aligned}\n",
    "    \\c^{(0)} &= \\frac{1}{(\\delta x)^2}\\left[\\begin{array}{c}\n",
    "        1 \\\\ 0 \\\\ \\vdots \\\\ 0 \\\\ 1\n",
    "    \\end{array}\\right]\\in\\RR^{n},\n",
    "    &\n",
    "    \\A^{(0)} &= \\frac{\\mu}{(\\delta x)^2}\\left[\\begin{array}{ccccc}\n",
    "        -2 & 1 & & & \\\\\n",
    "        1 & -2 & 1 & & \\\\\n",
    "        & \\ddots & \\ddots & \\ddots & \\\\\n",
    "        & & 1 & -2 & 1 \\\\\n",
    "        & & & 1 & -2 \\\\\n",
    "    \\end{array}\\right] \\in\\RR^{n\\times n}.\n",
    "\\end{aligned}\n",
    "$$\n",
    ":::"
   ]
  },
  {
   "cell_type": "markdown",
   "metadata": {},
   "source": [
    "## Training Data Generation"
   ]
  },
  {
   "cell_type": "markdown",
   "metadata": {},
   "source": [
    "Let $L = 1$, $T = 1$, and set $\\alpha = 100$.\n",
    "For this demo, we use $n = 2^{10} - 1 = 1023$ spatial degrees of freedom and record the FOM solution every $\\delta t = 0.0025$ time units.\n",
    "For each training parameter $\\mu_i$, this results in $k = 401$ state snapshots, organized in snapshot matrices\n",
    "\n",
    "$$\n",
    "\\begin{aligned}\n",
    "    \\Q_i = \\left[\\begin{array}{cccc}\n",
    "        \\q(t_0;\\mu_i) & \\q(t_1;\\mu_i) & \\cdots & \\q(t_{k-1};\\mu_i)\n",
    "    \\end{array}\\right]\n",
    "    \\in\\RR^{n\\times k},\n",
    "    \\quad\n",
    "    i = 0,\\ldots, s-1.\n",
    "\\end{aligned}\n",
    "$$\n"
   ]
  },
  {
   "cell_type": "code",
   "execution_count": null,
   "metadata": {},
   "outputs": [],
   "source": [
    "# Get s logarithmically spaced paraneter values in D = [.1, 10].\n",
    "s = 10\n",
    "training_parameters = np.logspace(-1, 1, s)\n",
    "print(training_parameters)"
   ]
  },
  {
   "cell_type": "code",
   "execution_count": null,
   "metadata": {
    "tags": [
     "hide-input"
    ]
   },
   "outputs": [],
   "source": [
    "# Construct the spatial domain.\n",
    "L = 1\n",
    "n = 2**10 - 1\n",
    "x_all = np.linspace(0, L, n + 2)\n",
    "x = x_all[1:-1]\n",
    "dx = x[1] - x[0]\n",
    "\n",
    "# Construct the temporal domain.\n",
    "T = 1\n",
    "K = 401\n",
    "t_all = np.linspace(0, T, K)\n",
    "dt = t_all[1] - t_all[0]\n",
    "\n",
    "# Construct the full-order state matrix A.\n",
    "dx2inv = 1 / dx**2\n",
    "diags = np.array([1, -2, 1]) * dx2inv\n",
    "A0 = scipy.sparse.diags(diags, [-1, 0, 1], (n, n))\n",
    "\n",
    "# Construct the full-order input matrix B.\n",
    "c0 = np.zeros_like(x)\n",
    "c0[0], c0[-1] = dx2inv, dx2inv\n",
    "\n",
    "# Construct the part of the initial condition not dependent on u(t).\n",
    "alpha = 100\n",
    "q0 = np.exp(alpha * (x - 1)) + np.exp(-alpha * x) - np.exp(-alpha)\n",
    "\n",
    "\n",
    "def full_order_solve(mu, time_domain):\n",
    "    \"\"\"Solve the full-order model with SciPy.\n",
    "    Here, u is a callable function.\n",
    "    \"\"\"\n",
    "    return scipy.integrate.solve_ivp(\n",
    "        fun=lambda t, q: mu * (c0 + A0 @ q),\n",
    "        y0=q0,\n",
    "        t_span=[time_domain[0], time_domain[-1]],\n",
    "        t_eval=time_domain,\n",
    "        method=\"BDF\",\n",
    "    ).y\n",
    "\n",
    "\n",
    "Qs = []\n",
    "# Solve the full-order model at the training parameter values.\n",
    "with opinf.utils.TimedBlock(\"Full-order solves\"):\n",
    "    for mu in training_parameters:\n",
    "        Qs.append(full_order_solve(mu, t_all))\n",
    "\n",
    "\n",
    "print(f\"\\nSpatial domain:\\t\\t{x.shape=}\")\n",
    "print(f\"Spatial step size:\\t{dx=:.10f}\")\n",
    "print(f\"\\nFull time domain:\\t{t_all.shape=}\")\n",
    "# print(f\"Training time domain:\\t{t.shape=}\")\n",
    "print(f\"Temporal step size:\\t{dt=:f}\")\n",
    "print(f\"\\nFull-order matrix A0:\\t{A0.shape=}\")\n",
    "print(f\"Full-order vector c0:\\t{c0.shape=}\")\n",
    "print(f\"\\nInitial condition:\\t{q0.shape=}\")\n",
    "print(f\"Training snapshots:\\t{Qs[0].shape=}\")"
   ]
  },
  {
   "cell_type": "code",
   "execution_count": 4,
   "metadata": {
    "tags": [
     "hide-input"
    ]
   },
   "outputs": [],
   "source": [
    "def plot_data_space(Z, title, ax=None):\n",
    "    \"\"\"Plot state data over space at multiple instances in time.\"\"\"\n",
    "    if ax is None:\n",
    "        _, ax = plt.subplots(1, 1)\n",
    "\n",
    "    # Plot a few snapshots over the spatial domain.\n",
    "    sample_columns = [0] + [2**d for d in range(10)]\n",
    "    color = iter(plt.cm.viridis_r(np.linspace(0.05, 1, len(sample_columns))))\n",
    "    while sample_columns[-1] > Z.shape[1] - 1:\n",
    "        sample_columns = sample_columns[:-1]\n",
    "    for j in sample_columns:\n",
    "        q_all = np.concatenate([[0.5], Z[:, j], [1]])\n",
    "        c = next(color)\n",
    "        ax.plot(x_all, q_all, lw=1, color=c, label=rf\"$q(x,t_{{{j}}})$\")\n",
    "\n",
    "    ax.set_xlim(x_all[0], x_all[-1])\n",
    "    ax.set_xlabel(r\"$x$\")\n",
    "    ax.set_ylabel(r\"$q(x,t)$\")\n",
    "    ax.legend(loc=(1.05, 0.05))\n",
    "    ax.set_title(title)\n",
    "\n",
    "\n",
    "def plot_two_datasets(Z1, title1, Z2, title2):\n",
    "    \"\"\"Plot two datasets side by side.\"\"\"\n",
    "    _, [ax1, ax2] = plt.subplots(1, 2)\n",
    "    plot_data_space(Z1, title1, ax1)\n",
    "    plot_data_space(Z2, title2, ax2)\n",
    "    ax1.legend([])"
   ]
  },
  {
   "cell_type": "code",
   "execution_count": null,
   "metadata": {},
   "outputs": [],
   "source": [
    "for i in [0, s // 2, s - 1]:\n",
    "    plot_data_space(Qs[i], rf\"Full-order model solution at $\\mu = \\mu_{i}$\")"
   ]
  },
  {
   "cell_type": "markdown",
   "metadata": {},
   "source": [
    "## Reduced-order Model Construction"
   ]
  },
  {
   "cell_type": "markdown",
   "metadata": {},
   "source": [
    "Now that we have parameter and snapshot data, we instantiate a `opinf.ParametricROM` and pass the training parameter values and the corresponding state snapshots to the `fit()` method.\n",
    "\n",
    "We will use a {class}`opinf.basis.PODBasis` to reduce the dimension of the snapshot training data, which approximates the discretized state vector as $\\q(t;\\mu) \\approx \\Vr\\qhat(t;\\mu)$ for some $\\Vr\\in\\RR^{n\\times r}$ with orthonormal columns and $\\qhat(t)\\in\\RR^{r}$, with and $r\\ll n$.\n",
    "Based on the FOM {eq}`eq_parametric_fom`, we specify a ROM with the following structure:\n",
    "\n",
    "$$\n",
    "\\begin{aligned}\n",
    "    \\ddt\\qhat(t;\\mu)\n",
    "    &= \\chat(\\mu) + \\Ahat(\\mu)\\qhat(t;\\mu)\n",
    "    = \\mu\\chat^{(0)} + \\mu\\Ahat^{(0)}\\qhat(t;\\mu),\n",
    "\\end{aligned}\n",
    "$$\n",
    "\n",
    "where $\\chat^{(0)}\\in\\RR^{r}$ and $\\Ahat^{(0)}\\in\\RR^{r\\times r}.$\n",
    "Data for the time derivative $\\ddt\\qhat(t)$ are estimated in this example with sixth-order finite differences using {class}`opinf.ddt.UniformFiniteDifferencer`.\n",
    "The underlying least-squares problem to determine $\\chat^{(0)}$ and $\\Ahat^{(0)}$ is given by\n",
    "\n",
    "$$\n",
    "\\begin{aligned}\n",
    "    \\min_{\\Ahat,\\Bhat}\n",
    "    \\sum_{i=0}^{s-1}\\sum_{j=0}^{k-1}\\left\\|\n",
    "        \\mu_{i}\\chat^{(0)} + \\mu_{i}\\Ahat^{(0)}\\qhat_{i,j} - \\dot{\\qhat}_{i,j}\n",
    "    \\right\\|_{2}^{2},\n",
    "\\end{aligned}\n",
    "$$\n",
    "\n",
    "where $\\qhat_{i,j} = \\qhat(t_j;\\mu_i)\\in\\RR^{r}$ are the state snapshots and $\\dot{\\qhat}_{i,j} \\approx \\ddt\\qhat(t;\\mu_{i})|_{t=t_j}\\in\\RR^{r}$ are the estimated time derivatives."
   ]
  },
  {
   "cell_type": "markdown",
   "metadata": {},
   "source": [
    ":::{dropdown} Preserving Parametric Structure\n",
    "\n",
    "An OpInf ROM should have the same structure as an intrusive Galerkin ROM.\n",
    "The Galerkin ROM for {eq}`eq_parametric_fom` is derived by substituting in the approximation $\\q(t;\\mu)\\approx\\Vr\\qhat(t;\\mu)$, yielding\n",
    "\n",
    "$$\n",
    "\\begin{aligned}\n",
    "    \\ddt\\Vr\\qhat(t;\\mu)\n",
    "    = \\c(\\mu) + \\A(\\mu)\\Vr\\qhat(t;\\mu)\n",
    "    \\qquad\n",
    "    \\Vr\\qhat(0) = \\q_0.\n",
    "\\end{aligned}\n",
    "$$\n",
    "\n",
    "Next, left multiply by $\\Vr\\trp$ and use the fact that $\\Vr\\trp\\Vr = \\I$ to get the following:\n",
    "\n",
    "$$\n",
    "\\begin{aligned}\n",
    "    \\ddt\\qhat(t;\\mu)\n",
    "    = \\tilde{\\c} + \\tilde{\\A}(\\mu)\\qhat(t;\\mu)\n",
    "    \\qquad\n",
    "    \\qhat(0) = \\Vr\\trp\\q_0,\n",
    "\\end{aligned}\n",
    "$$\n",
    "\n",
    "where $\\tilde{\\c}(\\mu) = \\Vr\\trp\\c(\\mu)\\in\\RR^{r}$ and $\\tilde{\\A}(\\mu) = \\Vr\\trp\\A(\\mu)\\Vr \\in \\RR^{r\\times r}.$\n",
    "Finally, using the formulae $\\c(\\mu) = \\mu\\c^{(0)}$ and $\\A(\\mu) = \\mu\\A^{(0)}$, we can further simplify to\n",
    "\n",
    "$$\n",
    "\\begin{aligned}\n",
    "    \\tilde{\\c}(\\mu)\n",
    "    &= \\Vr\\trp\\c(\\mu)\n",
    "    = \\mu\\Vr\\trp\\c^{(0)}\n",
    "    \\\\\n",
    "    \\tilde{\\A}(\\mu)\n",
    "    &= \\Vr\\trp\\A(\\mu)\\Vr\n",
    "    = \\mu\\Vr\\trp\\A^{(0)}\\Vr.\n",
    "\\end{aligned}\n",
    "$$\n",
    "\n",
    ":::"
   ]
  },
  {
   "cell_type": "markdown",
   "metadata": {},
   "source": [
    ":::{admonition} Interpolatory and Affine Parameterizations\n",
    ":class: tip\n",
    "\n",
    "In this problem, the dependence on $\\mu$ in the ROM operators $\\chat(\\mu)$ and $\\Ahat(\\mu)$ is known from because the structure from the FOM is preserved by linear projection (see [affine operators](sec-operators-affine)).\n",
    "If the dependence on $\\mu$ is not known a-priori or cannot be written in an affine form, [interpolatory operators](sec-operators-interpolated) sometimes provide a feasible alternative.\n",
    ":::"
   ]
  },
  {
   "cell_type": "code",
   "execution_count": null,
   "metadata": {},
   "outputs": [],
   "source": [
    "rom = opinf.ParametricROM(\n",
    "    basis=opinf.basis.PODBasis(projection_error=1e-6),\n",
    "    ddt_estimator=opinf.ddt.UniformFiniteDifferencer(t_all, \"ord6\"),\n",
    "    model=opinf.models.ParametricContinuousModel(\n",
    "        operators=[\n",
    "            opinf.operators.AffineConstantOperator(1),\n",
    "            opinf.operators.AffineLinearOperator(1),\n",
    "        ],\n",
    "        solver=opinf.lstsq.L2Solver(1e-6),\n",
    "    ),\n",
    ").fit(training_parameters, Qs)"
   ]
  },
  {
   "cell_type": "markdown",
   "metadata": {},
   "source": [
    "## Reduced-order Model Evaluation"
   ]
  },
  {
   "cell_type": "markdown",
   "metadata": {},
   "source": [
    "We start by checking comparing the solutions of the ROM at the training parameter values to the training snapshots."
   ]
  },
  {
   "cell_type": "code",
   "execution_count": null,
   "metadata": {},
   "outputs": [],
   "source": [
    "for i, mu in enumerate(training_parameters):\n",
    "    with opinf.utils.TimedBlock(\"Reduced-order solve\"):\n",
    "        Q_ROM = rom.predict(mu, q0, t_all, method=\"BDF\")\n",
    "    fig, [ax1, ax2] = plt.subplots(1, 2)\n",
    "    plot_data_space(Qs[i], \"Snapshot data\", ax1)\n",
    "    plot_data_space(Q_ROM, \"ROM state output\", ax2)\n",
    "    ax1.legend([])\n",
    "    plt.show()"
   ]
  },
  {
   "cell_type": "markdown",
   "metadata": {},
   "source": [
    "Next, we solve the FOM and ROM at new parameter values not included in the training set."
   ]
  },
  {
   "cell_type": "code",
   "execution_count": null,
   "metadata": {},
   "outputs": [],
   "source": [
    "test_parameters = np.sqrt(training_parameters[:-1] * training_parameters[1:])\n",
    "print(test_parameters)"
   ]
  },
  {
   "cell_type": "code",
   "execution_count": null,
   "metadata": {},
   "outputs": [],
   "source": [
    "errors = []\n",
    "\n",
    "for mu in test_parameters:\n",
    "    with opinf.utils.TimedBlock(\"Full-order solve\"):\n",
    "        Q_FOM = full_order_solve(mu, t_all)\n",
    "\n",
    "    with opinf.utils.TimedBlock(\"Reduced-order solve\"):\n",
    "        Q_ROM = rom.predict(mu, q0, t_all, method=\"BDF\")\n",
    "\n",
    "    plot_two_datasets(\n",
    "        Q_FOM,\n",
    "        \"Full-order model solution\",\n",
    "        Q_ROM,\n",
    "        \"Reduced-order model solution\",\n",
    "    )\n",
    "    plt.show()\n",
    "    errors.append(opinf.post.frobenius_error(Q_FOM, Q_ROM)[1])"
   ]
  },
  {
   "cell_type": "code",
   "execution_count": null,
   "metadata": {},
   "outputs": [],
   "source": [
    "for mu, err in zip(test_parameters, errors):\n",
    "    print(f\"Test parameter mu = {mu:.6f}: error = {err:.4%}\")"
   ]
  },
  {
   "cell_type": "markdown",
   "metadata": {},
   "source": [
    ":::{admonition} Stay Tuned\n",
    ":class: note\n",
    "\n",
    "More examples are forthcoming.\n",
    ":::"
   ]
  }
 ],
 "metadata": {
  "celltoolbar": "Tags",
  "kernelspec": {
   "display_name": "Python 3 (ipykernel)",
   "language": "python",
   "name": "python3"
  },
  "language_info": {
   "codemirror_mode": {
    "name": "ipython",
    "version": 3
   },
   "file_extension": ".py",
   "mimetype": "text/x-python",
   "name": "python",
   "nbconvert_exporter": "python",
   "pygments_lexer": "ipython3",
   "version": "3.12.3"
  },
  "toc-showmarkdowntxt": false,
  "toc-showtags": true
 },
 "nbformat": 4,
 "nbformat_minor": 4
}
